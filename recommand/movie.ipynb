{
 "cells": [
  {
   "cell_type": "code",
   "execution_count": 2,
   "metadata": {},
   "outputs": [],
   "source": [
    "import numpy as np\n",
    "import pandas as pd\n",
    "import matplotlib.pyplot as plt\n",
    "plt.rcParams['font.family'] = 'Malgun Gothic'\n",
    "plt.rcParams['axes.unicode_minus'] = False\n",
    "\n",
    "from  bs4 import BeautifulSoup\n",
    "from selenium import webdriver\n",
    "from selenium.webdriver.common.by import By\n",
    "from selenium.webdriver.common.keys import Keys \n",
    "import time\n",
    "\n",
    "import warnings\n",
    "warnings.filterwarnings('ignore')\n",
    "\n",
    "import string, nltk, re\n",
    "from konlpy.tag import Okt\n",
    "from wordcloud import WordCloud\n",
    "\n",
    "from PIL import Image\n",
    "from wordcloud import ImageColorGenerator\n",
    "\n",
    "import os\n",
    "driver_name =  os.environ['HOMEDRIVE'] + os.environ['HOMEPATH'] + '\\\\Downloads\\\\chromedriver_win32\\\\chromedriver.exe'"
   ]
  },
  {
   "attachments": {},
   "cell_type": "markdown",
   "metadata": {},
   "source": [
    "### 영화관입장권통합전산망 KOBIS 에서 영화 정보 크롤링"
   ]
  },
  {
   "cell_type": "code",
   "execution_count": 17,
   "metadata": {},
   "outputs": [],
   "source": [
    "url = \"https://www.kobis.or.kr/kobis/business/mast/mvie/searchMovieList.do\"\n",
    "\n",
    "home_url = \"https://www.kobis.or.kr/\""
   ]
  },
  {
   "cell_type": "code",
   "execution_count": 47,
   "metadata": {},
   "outputs": [],
   "source": [
    "driver = webdriver.Chrome(driver_name)\n",
    "driver.get(url)\n",
    "time.sleep(2)\n",
    "\n",
    "TOTAL_COUNT = 50\n",
    "START_COUNT = 0\n",
    "SUB_COUNT = 0\n",
    "for i in range(START_COUNT):\n",
    "    driver.find_element(By.CSS_SELECTOR, '.paging > a.btn.next').click()\n",
    "    time.sleep(3)\n",
    "    \n",
    "lis = driver.find_elements(By.CSS_SELECTOR, '.paging > ul > li')\n",
    "current = 0\n",
    "for k in range(SUB_COUNT):\n",
    "    current += 1\n",
    "    lis[current].click()\n",
    "    time.sleep(3)\n",
    "    lis = driver.find_elements(By.CSS_SELECTOR, '.paging > ul > li')\n",
    "\n",
    "lis = driver.find_elements(By.CSS_SELECTOR, '.paging > ul > li')"
   ]
  },
  {
   "cell_type": "code",
   "execution_count": 54,
   "metadata": {},
   "outputs": [
    {
     "name": "stdout",
     "output_type": "stream",
     "text": [
      "조경이(핑크퐁) | 이소은(호기) | 박요한(진저브레드맨) | 김새해(제니) | 장예나(아기상어)\n",
      "하정우 | 주지훈\n",
      "줄리엣 비노쉬 | 욜랭드 모로 | 노에미 르보브스키 | 에두아르 바에르 | 프랑수아 베를레앙\n",
      "김재화 | 조민재 | 박강섭\n",
      "신은수\n"
     ]
    }
   ],
   "source": [
    "\n",
    "driver = webdriver.Chrome(driver_name)\n",
    "\n",
    "driver.get(url)\n",
    "time.sleep(2)\n",
    "ORDER = '03'\n",
    "n_page = 0\n",
    "# paging\n",
    "lis = driver.find_elements(By.CSS_SELECTOR, '.paging > ul > li')\n",
    "# print(lis)\n",
    "\n",
    "end, current = len(lis), 0\n",
    "lines = []\n",
    "\n",
    "while True:\n",
    "\n",
    "    try:\n",
    "        trs = driver.find_elements(By.CSS_SELECTOR, 'tbody > tr')\n",
    "    except:\n",
    "        print('nPgae = ', n_page)\n",
    "        break\n",
    "\n",
    "    for tr in trs:\n",
    "\n",
    "        td = tr.find_elements(By.TAG_NAME, 'td')\n",
    "\n",
    "        kind = td[5].text\n",
    "        genre = td[6].text\n",
    "        \n",
    "        if kind =='' or kind =='단편' or kind == \"기타\" or kind == '옴니버스':\n",
    "            continue\n",
    "        if '성인' in genre or genre == '' :\n",
    "            continue\n",
    "\n",
    "        td[0].find_element(By.TAG_NAME, 'a').click()\n",
    "        time.sleep(2)\n",
    "\n",
    "        # 영화 제목\n",
    "        title = driver.find_element(By.CSS_SELECTOR, '.hd_layer > div').text\n",
    "        find_index = title.find(')') \n",
    "        if find_index >= 0 :\n",
    "            title = title[:find_index+1]\n",
    "        \n",
    "        infos = driver.find_element(By.CSS_SELECTOR, 'div.basic')\n",
    "\n",
    "        # 시놉시스가 없으면 pass\n",
    "        try :\n",
    "            synopsis = infos.find_element(By.CSS_SELECTOR, '.info.info2 > p').text\n",
    "        except :\n",
    "            driver.find_element(By.CSS_SELECTOR, '.hd_layer > a.close').click()\n",
    "            continue\n",
    "\n",
    "        infos_head = infos.find_element(By.CSS_SELECTOR, '.ovf.info.info1')\n",
    "            \n",
    "        # 이미지 URL\n",
    "        img = infos_head.find_element(By.CSS_SELECTOR, 'a > img').get_attribute('src')\n",
    "\n",
    "        # 요약 정보\n",
    "        dds = infos_head.find_elements(By.CSS_SELECTOR, 'dl > dd')\n",
    "\n",
    "        # 코드 정보\n",
    "        code = dds[0].text\n",
    "        summering = dds[3].text\n",
    "        # 개봉일\n",
    "        first_day = dds[-6].text\n",
    "        # 제작년도\n",
    "        production_year = dds[-5].text\n",
    "    \n",
    "        \n",
    "        # 감독 / 주연 배우\n",
    "        tmp = infos.find_elements(By.CSS_SELECTOR, '.info.info2 > .staffMore > dl > div')\n",
    "        movie_director, star_actor = '', ''\n",
    "        find_count = 0\n",
    "        for tp in tmp:\n",
    "            if tp.text.find('감독') >= 0:\n",
    "                movie_director = tp.text.replace('감독', '').strip()\n",
    "                find_count += 1\n",
    "                \n",
    "            if tp.text.find('[주연]') >=0:\n",
    "                star_actor = tp.text[tp.text.find('[주연]') + 4 : ].strip()\n",
    "                print(star_actor)\n",
    "                find_count += 1\n",
    "\n",
    "            if find_count == 2: break\n",
    "\n",
    "        lines.append({'code': code, 'title': title, 'genre': genre, 'summering': summering, \n",
    "                    'first_day': first_day, 'production_year': production_year, \n",
    "                    'movie_director':movie_director, 'star_actor': star_actor, \n",
    "                    'img': img, 'synopsis': synopsis})\n",
    "\n",
    "        driver.find_element(By.CSS_SELECTOR, '.hd_layer > a.close').click()\n",
    "        time.sleep(2)\n",
    "\n",
    "\n",
    "    current += 1\n",
    "    n_page += 1\n",
    "\n",
    "    if n_page == TOTAL_COUNT: break\n",
    "\n",
    "    if end == current:\n",
    "        try:\n",
    "            driver.find_element(By.CSS_SELECTOR, '.paging > a.btn.next').click()\n",
    "            time.sleep(3)\n",
    "            lis = driver.find_elements(By.CSS_SELECTOR, '.paging > ul > li')\n",
    "            end, current = len(lis), 0\n",
    "        except:\n",
    "            break\n",
    "    else:\n",
    "        # 다음 페이지 넘어가기\n",
    "        lis = driver.find_elements(By.CSS_SELECTOR, '.paging > ul > li')\n",
    "        # print(lis)\n",
    "        lis[current].click()\n",
    "        time.sleep(3)\n",
    "\n",
    "df = pd.DataFrame(lines)\n",
    "\n",
    "df.to_csv(f'../static/data/test{ORDER}.csv', index=False)"
   ]
  },
  {
   "cell_type": "code",
   "execution_count": 38,
   "metadata": {},
   "outputs": [
    {
     "data": {
      "text/plain": [
       "1226"
      ]
     },
     "execution_count": 38,
     "metadata": {},
     "output_type": "execute_result"
    }
   ],
   "source": [
    "len(lines)"
   ]
  },
  {
   "cell_type": "code",
   "execution_count": 39,
   "metadata": {},
   "outputs": [],
   "source": [
    "df = pd.DataFrame(lines)\n"
   ]
  },
  {
   "cell_type": "code",
   "execution_count": 34,
   "metadata": {},
   "outputs": [],
   "source": [
    "driver.close()"
   ]
  },
  {
   "cell_type": "code",
   "execution_count": null,
   "metadata": {},
   "outputs": [],
   "source": [
    "df.tail()"
   ]
  },
  {
   "cell_type": "code",
   "execution_count": 41,
   "metadata": {},
   "outputs": [],
   "source": [
    "df.to_csv(f'../static/data/test{ORDER}.csv', index=False)"
   ]
  }
 ],
 "metadata": {
  "kernelspec": {
   "display_name": "base",
   "language": "python",
   "name": "python3"
  },
  "language_info": {
   "codemirror_mode": {
    "name": "ipython",
    "version": 3
   },
   "file_extension": ".py",
   "mimetype": "text/x-python",
   "name": "python",
   "nbconvert_exporter": "python",
   "pygments_lexer": "ipython3",
   "version": "3.10.10"
  },
  "orig_nbformat": 4
 },
 "nbformat": 4,
 "nbformat_minor": 2
}
