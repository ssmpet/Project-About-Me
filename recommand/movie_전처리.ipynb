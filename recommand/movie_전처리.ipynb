{
 "cells": [
  {
   "cell_type": "code",
   "execution_count": 1,
   "metadata": {},
   "outputs": [],
   "source": [
    "import numpy as np\n",
    "import pandas as pd"
   ]
  },
  {
   "cell_type": "code",
   "execution_count": 2,
   "metadata": {},
   "outputs": [],
   "source": [
    "fname = '가 나 다 라 마 바-1 바 사 사-1 사-2 아 자 차 카 타 파 하 A B C D E F G H I J K L M N O P Q R S T U V W X Y Z'.split()"
   ]
  },
  {
   "cell_type": "code",
   "execution_count": 3,
   "metadata": {},
   "outputs": [
    {
     "data": {
      "text/plain": [
       "(11273, 10)"
      ]
     },
     "execution_count": 3,
     "metadata": {},
     "output_type": "execute_result"
    }
   ],
   "source": [
    "df = pd.DataFrame()\n",
    "for fn in fname:\n",
    "    try:\n",
    "        tmp = pd.read_csv(f'../static/data/movie{fn}.csv')\n",
    "    except:\n",
    "        continue\n",
    "    df = pd.concat([df, tmp])\n",
    "df.shape"
   ]
  },
  {
   "cell_type": "code",
   "execution_count": 4,
   "metadata": {},
   "outputs": [
    {
     "data": {
      "text/html": [
       "<div>\n",
       "<style scoped>\n",
       "    .dataframe tbody tr th:only-of-type {\n",
       "        vertical-align: middle;\n",
       "    }\n",
       "\n",
       "    .dataframe tbody tr th {\n",
       "        vertical-align: top;\n",
       "    }\n",
       "\n",
       "    .dataframe thead th {\n",
       "        text-align: right;\n",
       "    }\n",
       "</style>\n",
       "<table border=\"1\" class=\"dataframe\">\n",
       "  <thead>\n",
       "    <tr style=\"text-align: right;\">\n",
       "      <th></th>\n",
       "      <th>code</th>\n",
       "      <th>title</th>\n",
       "      <th>genre</th>\n",
       "      <th>summering</th>\n",
       "      <th>first_day</th>\n",
       "      <th>production_year</th>\n",
       "      <th>movie_director</th>\n",
       "      <th>star_actor</th>\n",
       "      <th>img</th>\n",
       "      <th>synopsis</th>\n",
       "    </tr>\n",
       "  </thead>\n",
       "  <tbody>\n",
       "    <tr>\n",
       "      <th>0</th>\n",
       "      <td>20231523</td>\n",
       "      <td>그 여름 (The Summer)</td>\n",
       "      <td>애니메이션(2)</td>\n",
       "      <td>장편 | 예술,독립 영화 | 애니메이션, 드라마, 멜로/로맨스 | 60분 57초 |...</td>\n",
       "      <td>2023-06-07</td>\n",
       "      <td>2023년</td>\n",
       "      <td>한지원</td>\n",
       "      <td>윤아영 | 송하림</td>\n",
       "      <td>https://www.kobis.or.kr/common/mast/movie/2023...</td>\n",
       "      <td>\"서로의 몸은 차라리 꽃잎과 물결에 가까웠다\"\\r\\n갈색 눈동자를 가진 평범한 학생...</td>\n",
       "    </tr>\n",
       "  </tbody>\n",
       "</table>\n",
       "</div>"
      ],
      "text/plain": [
       "       code              title     genre  \\\n",
       "0  20231523  그 여름 (The Summer)  애니메이션(2)   \n",
       "\n",
       "                                           summering   first_day  \\\n",
       "0  장편 | 예술,독립 영화 | 애니메이션, 드라마, 멜로/로맨스 | 60분 57초 |...  2023-06-07   \n",
       "\n",
       "  production_year movie_director star_actor  \\\n",
       "0           2023년            한지원  윤아영 | 송하림   \n",
       "\n",
       "                                                 img  \\\n",
       "0  https://www.kobis.or.kr/common/mast/movie/2023...   \n",
       "\n",
       "                                            synopsis  \n",
       "0  \"서로의 몸은 차라리 꽃잎과 물결에 가까웠다\"\\r\\n갈색 눈동자를 가진 평범한 학생...  "
      ]
     },
     "execution_count": 4,
     "metadata": {},
     "output_type": "execute_result"
    }
   ],
   "source": [
    "df.head(1)"
   ]
  },
  {
   "cell_type": "code",
   "execution_count": 5,
   "metadata": {},
   "outputs": [
    {
     "name": "stdout",
     "output_type": "stream",
     "text": [
      "(11273, 10)\n"
     ]
    },
    {
     "data": {
      "text/html": [
       "<div>\n",
       "<style scoped>\n",
       "    .dataframe tbody tr th:only-of-type {\n",
       "        vertical-align: middle;\n",
       "    }\n",
       "\n",
       "    .dataframe tbody tr th {\n",
       "        vertical-align: top;\n",
       "    }\n",
       "\n",
       "    .dataframe thead th {\n",
       "        text-align: right;\n",
       "    }\n",
       "</style>\n",
       "<table border=\"1\" class=\"dataframe\">\n",
       "  <thead>\n",
       "    <tr style=\"text-align: right;\">\n",
       "      <th></th>\n",
       "      <th>code</th>\n",
       "      <th>title</th>\n",
       "      <th>genre</th>\n",
       "      <th>summering</th>\n",
       "      <th>first_day</th>\n",
       "      <th>production_year</th>\n",
       "      <th>movie_director</th>\n",
       "      <th>star_actor</th>\n",
       "      <th>img</th>\n",
       "      <th>synopsis</th>\n",
       "    </tr>\n",
       "  </thead>\n",
       "  <tbody>\n",
       "    <tr>\n",
       "      <th>0</th>\n",
       "      <td>20231523</td>\n",
       "      <td>그 여름 (The Summer)</td>\n",
       "      <td>애니메이션(2)</td>\n",
       "      <td>장편 | 예술,독립 영화 | 애니메이션, 드라마, 멜로/로맨스 | 60분 57초 |...</td>\n",
       "      <td>2023-06-07</td>\n",
       "      <td>2023년</td>\n",
       "      <td>한지원</td>\n",
       "      <td>윤아영 | 송하림</td>\n",
       "      <td>https://www.kobis.or.kr/common/mast/movie/2023...</td>\n",
       "      <td>\"서로의 몸은 차라리 꽃잎과 물결에 가까웠다\"\\r\\n갈색 눈동자를 가진 평범한 학생...</td>\n",
       "    </tr>\n",
       "  </tbody>\n",
       "</table>\n",
       "</div>"
      ],
      "text/plain": [
       "       code              title     genre  \\\n",
       "0  20231523  그 여름 (The Summer)  애니메이션(2)   \n",
       "\n",
       "                                           summering   first_day  \\\n",
       "0  장편 | 예술,독립 영화 | 애니메이션, 드라마, 멜로/로맨스 | 60분 57초 |...  2023-06-07   \n",
       "\n",
       "  production_year movie_director star_actor  \\\n",
       "0           2023년            한지원  윤아영 | 송하림   \n",
       "\n",
       "                                                 img  \\\n",
       "0  https://www.kobis.or.kr/common/mast/movie/2023...   \n",
       "\n",
       "                                            synopsis  \n",
       "0  \"서로의 몸은 차라리 꽃잎과 물결에 가까웠다\"\\r\\n갈색 눈동자를 가진 평범한 학생...  "
      ]
     },
     "execution_count": 5,
     "metadata": {},
     "output_type": "execute_result"
    }
   ],
   "source": [
    "df.set_index('code', inplace=True)\n",
    "df.reset_index(inplace=True)\n",
    "df.fillna('', inplace=True)\n",
    "print(df.shape)\n",
    "df.head(1)\n"
   ]
  },
  {
   "cell_type": "code",
   "execution_count": 6,
   "metadata": {},
   "outputs": [
    {
     "data": {
      "text/plain": [
       "code               0\n",
       "title              0\n",
       "genre              0\n",
       "summering          0\n",
       "first_day          0\n",
       "production_year    0\n",
       "movie_director     0\n",
       "star_actor         0\n",
       "img                0\n",
       "synopsis           0\n",
       "dtype: int64"
      ]
     },
     "execution_count": 6,
     "metadata": {},
     "output_type": "execute_result"
    }
   ],
   "source": [
    "df.isna().sum()"
   ]
  },
  {
   "cell_type": "code",
   "execution_count": 12,
   "metadata": {},
   "outputs": [],
   "source": [
    "df.drop_duplicates(subset='code', inplace=True)"
   ]
  },
  {
   "cell_type": "code",
   "execution_count": 13,
   "metadata": {},
   "outputs": [
    {
     "data": {
      "text/plain": [
       "(11271, (11271, 10))"
      ]
     },
     "execution_count": 13,
     "metadata": {},
     "output_type": "execute_result"
    }
   ],
   "source": [
    "df.code.nunique(), df.shape"
   ]
  },
  {
   "cell_type": "code",
   "execution_count": 16,
   "metadata": {},
   "outputs": [
    {
     "data": {
      "text/html": [
       "<div>\n",
       "<style scoped>\n",
       "    .dataframe tbody tr th:only-of-type {\n",
       "        vertical-align: middle;\n",
       "    }\n",
       "\n",
       "    .dataframe tbody tr th {\n",
       "        vertical-align: top;\n",
       "    }\n",
       "\n",
       "    .dataframe thead th {\n",
       "        text-align: right;\n",
       "    }\n",
       "</style>\n",
       "<table border=\"1\" class=\"dataframe\">\n",
       "  <thead>\n",
       "    <tr style=\"text-align: right;\">\n",
       "      <th></th>\n",
       "      <th>code</th>\n",
       "      <th>title</th>\n",
       "      <th>genre</th>\n",
       "      <th>summering</th>\n",
       "      <th>first_day</th>\n",
       "      <th>production_year</th>\n",
       "      <th>movie_director</th>\n",
       "      <th>star_actor</th>\n",
       "      <th>img</th>\n",
       "      <th>synopsis</th>\n",
       "    </tr>\n",
       "  </thead>\n",
       "  <tbody>\n",
       "    <tr>\n",
       "      <th>3428</th>\n",
       "      <td>20193151</td>\n",
       "      <td>마리아 스투아르다 (Maria Stuarda )</td>\n",
       "      <td>공연</td>\n",
       "      <td>장편 | 일반영화 | 공연</td>\n",
       "      <td>해당정보없음</td>\n",
       "      <td>2020년</td>\n",
       "      <td>데이비드 맥비커</td>\n",
       "      <td></td>\n",
       "      <td>https://www.kobis.or.kr/kobis/web/comm/images/...</td>\n",
       "      <td>스코틀랜드의 메리 스튜어트 여왕과 잉글랜드의 엘리자베스 여왕. 권력과 사랑을 놓고 ...</td>\n",
       "    </tr>\n",
       "  </tbody>\n",
       "</table>\n",
       "</div>"
      ],
      "text/plain": [
       "          code                       title genre       summering first_day  \\\n",
       "3428  20193151  마리아 스투아르다 (Maria Stuarda )    공연  장편 | 일반영화 | 공연    해당정보없음   \n",
       "\n",
       "     production_year movie_director star_actor  \\\n",
       "3428           2020년       데이비드 맥비커              \n",
       "\n",
       "                                                    img  \\\n",
       "3428  https://www.kobis.or.kr/kobis/web/comm/images/...   \n",
       "\n",
       "                                               synopsis  \n",
       "3428  스코틀랜드의 메리 스튜어트 여왕과 잉글랜드의 엘리자베스 여왕. 권력과 사랑을 놓고 ...  "
      ]
     },
     "execution_count": 16,
     "metadata": {},
     "output_type": "execute_result"
    }
   ],
   "source": [
    "df[df.summering == ('장편 | 일반영화 | 공연')]"
   ]
  },
  {
   "cell_type": "code",
   "execution_count": 21,
   "metadata": {},
   "outputs": [
    {
     "data": {
      "text/plain": [
       "(11270, 10)"
      ]
     },
     "execution_count": 21,
     "metadata": {},
     "output_type": "execute_result"
    }
   ],
   "source": [
    "df.drop(df.index[3428], inplace=True)\n",
    "df.shape"
   ]
  },
  {
   "cell_type": "code",
   "execution_count": 23,
   "metadata": {},
   "outputs": [],
   "source": [
    "df.set_index('code', inplace=True)\n",
    "df.reset_index(inplace=True)"
   ]
  },
  {
   "cell_type": "code",
   "execution_count": 24,
   "metadata": {},
   "outputs": [
    {
     "data": {
      "text/plain": [
       "11270"
      ]
     },
     "execution_count": 24,
     "metadata": {},
     "output_type": "execute_result"
    }
   ],
   "source": [
    "m_type, m_kind, m_genre, m_time, m_rated, m_nation = [], [], [], [], [], []\n",
    "for info in df.summering.values:\n",
    "    infos = info.split('|')\n",
    "    infos_len = len(infos)\n",
    "    m_type.append(infos[0].strip())                     # 장편\n",
    "    m_kind.append(infos[1].strip())                     # 일반영화, 예술영화..\n",
    "    m_genre.append(infos[2].strip().replace(',', ''))   # 애니메이션, 드라마, 멜로\n",
    "    m_nation.append(infos[-1].strip())                  # 한국\n",
    "    \n",
    "    # 요약 정보 개수가 다를 수 있다\n",
    "    if infos_len == 6:\n",
    "        m_time.append(infos[-3].strip())                # 70분\n",
    "        m_rated.append(infos[-2].strip())\n",
    "    elif infos_len == 5 :\n",
    "        m_time.append(infos[-2].strip())                # 12세 이상 관람가\n",
    "        m_rated.append('')\n",
    "    elif infos_len == 4:\n",
    "        m_rated.append('')\n",
    "        m_time.append('')\n",
    "    else:\n",
    "        print(info)\n",
    "\n",
    "len(m_type)"
   ]
  },
  {
   "cell_type": "code",
   "execution_count": 25,
   "metadata": {},
   "outputs": [],
   "source": [
    "df['m_type'] = m_type\n",
    "df['m_kind'] = m_kind\n",
    "df['m_genre'] = m_genre\n",
    "df['m_nation'] = m_nation\n",
    "df['m_time'] = m_time\n",
    "df['m_rated'] = m_rated"
   ]
  },
  {
   "cell_type": "code",
   "execution_count": 26,
   "metadata": {},
   "outputs": [
    {
     "data": {
      "text/html": [
       "<div>\n",
       "<style scoped>\n",
       "    .dataframe tbody tr th:only-of-type {\n",
       "        vertical-align: middle;\n",
       "    }\n",
       "\n",
       "    .dataframe tbody tr th {\n",
       "        vertical-align: top;\n",
       "    }\n",
       "\n",
       "    .dataframe thead th {\n",
       "        text-align: right;\n",
       "    }\n",
       "</style>\n",
       "<table border=\"1\" class=\"dataframe\">\n",
       "  <thead>\n",
       "    <tr style=\"text-align: right;\">\n",
       "      <th></th>\n",
       "      <th>code</th>\n",
       "      <th>title</th>\n",
       "      <th>genre</th>\n",
       "      <th>summering</th>\n",
       "      <th>first_day</th>\n",
       "      <th>production_year</th>\n",
       "      <th>movie_director</th>\n",
       "      <th>star_actor</th>\n",
       "      <th>img</th>\n",
       "      <th>synopsis</th>\n",
       "      <th>m_type</th>\n",
       "      <th>m_kind</th>\n",
       "      <th>m_genre</th>\n",
       "      <th>m_nation</th>\n",
       "      <th>m_time</th>\n",
       "      <th>m_rated</th>\n",
       "    </tr>\n",
       "  </thead>\n",
       "  <tbody>\n",
       "    <tr>\n",
       "      <th>0</th>\n",
       "      <td>20231523</td>\n",
       "      <td>그 여름 (The Summer)</td>\n",
       "      <td>애니메이션(2)</td>\n",
       "      <td>장편 | 예술,독립 영화 | 애니메이션, 드라마, 멜로/로맨스 | 60분 57초 |...</td>\n",
       "      <td>2023-06-07</td>\n",
       "      <td>2023년</td>\n",
       "      <td>한지원</td>\n",
       "      <td>윤아영 | 송하림</td>\n",
       "      <td>https://www.kobis.or.kr/common/mast/movie/2023...</td>\n",
       "      <td>\"서로의 몸은 차라리 꽃잎과 물결에 가까웠다\"\\r\\n갈색 눈동자를 가진 평범한 학생...</td>\n",
       "      <td>장편</td>\n",
       "      <td>예술,독립 영화</td>\n",
       "      <td>애니메이션 드라마 멜로/로맨스</td>\n",
       "      <td>한국</td>\n",
       "      <td>60분 57초</td>\n",
       "      <td>12세이상관람가</td>\n",
       "    </tr>\n",
       "  </tbody>\n",
       "</table>\n",
       "</div>"
      ],
      "text/plain": [
       "       code              title     genre  \\\n",
       "0  20231523  그 여름 (The Summer)  애니메이션(2)   \n",
       "\n",
       "                                           summering   first_day  \\\n",
       "0  장편 | 예술,독립 영화 | 애니메이션, 드라마, 멜로/로맨스 | 60분 57초 |...  2023-06-07   \n",
       "\n",
       "  production_year movie_director star_actor  \\\n",
       "0           2023년            한지원  윤아영 | 송하림   \n",
       "\n",
       "                                                 img  \\\n",
       "0  https://www.kobis.or.kr/common/mast/movie/2023...   \n",
       "\n",
       "                                            synopsis m_type    m_kind  \\\n",
       "0  \"서로의 몸은 차라리 꽃잎과 물결에 가까웠다\"\\r\\n갈색 눈동자를 가진 평범한 학생...     장편  예술,독립 영화   \n",
       "\n",
       "            m_genre m_nation   m_time   m_rated  \n",
       "0  애니메이션 드라마 멜로/로맨스       한국  60분 57초  12세이상관람가  "
      ]
     },
     "execution_count": 26,
     "metadata": {},
     "output_type": "execute_result"
    }
   ],
   "source": [
    "df.head(1)"
   ]
  },
  {
   "cell_type": "code",
   "execution_count": 27,
   "metadata": {},
   "outputs": [
    {
     "data": {
      "text/html": [
       "<div>\n",
       "<style scoped>\n",
       "    .dataframe tbody tr th:only-of-type {\n",
       "        vertical-align: middle;\n",
       "    }\n",
       "\n",
       "    .dataframe tbody tr th {\n",
       "        vertical-align: top;\n",
       "    }\n",
       "\n",
       "    .dataframe thead th {\n",
       "        text-align: right;\n",
       "    }\n",
       "</style>\n",
       "<table border=\"1\" class=\"dataframe\">\n",
       "  <thead>\n",
       "    <tr style=\"text-align: right;\">\n",
       "      <th></th>\n",
       "      <th>code</th>\n",
       "      <th>title</th>\n",
       "      <th>genre</th>\n",
       "      <th>summering</th>\n",
       "      <th>first_day</th>\n",
       "      <th>production_year</th>\n",
       "      <th>movie_director</th>\n",
       "      <th>star_actor</th>\n",
       "      <th>img</th>\n",
       "      <th>synopsis</th>\n",
       "      <th>m_type</th>\n",
       "      <th>m_kind</th>\n",
       "      <th>m_genre</th>\n",
       "      <th>m_nation</th>\n",
       "      <th>m_time</th>\n",
       "      <th>m_rated</th>\n",
       "    </tr>\n",
       "  </thead>\n",
       "  <tbody>\n",
       "    <tr>\n",
       "      <th>11265</th>\n",
       "      <td>20203281</td>\n",
       "      <td>XXX필름 연쇄살인 (Cry Havoc)</td>\n",
       "      <td>액션(1)</td>\n",
       "      <td>장편 | 일반영화 | 액션, 범죄 | 85분 54초 | 미국</td>\n",
       "      <td>해당정보없음</td>\n",
       "      <td>2019년</td>\n",
       "      <td>르네 페르즈</td>\n",
       "      <td></td>\n",
       "      <td>https://www.kobis.or.kr/kobis/web/comm/images/...</td>\n",
       "      <td>대저택의 소유자이자 FBI의 일순위 수배자 ‘보이어’는\\nTV 프로그램 촬영을 빌미...</td>\n",
       "      <td>장편</td>\n",
       "      <td>일반영화</td>\n",
       "      <td>액션 범죄</td>\n",
       "      <td>미국</td>\n",
       "      <td>85분 54초</td>\n",
       "      <td></td>\n",
       "    </tr>\n",
       "    <tr>\n",
       "      <th>11266</th>\n",
       "      <td>20188682</td>\n",
       "      <td>XXX 홀릭 극장판 : 한 여름 밤의 꿈 (xxxHOLiC the Movie: A ...</td>\n",
       "      <td>애니메이션(5)</td>\n",
       "      <td>장편 | 일반영화 | 애니메이션, 코미디, 드라마, 판타지, 미스터리, 스릴러 | ...</td>\n",
       "      <td>해당정보없음</td>\n",
       "      <td>2005년</td>\n",
       "      <td>미즈시마 츠토무</td>\n",
       "      <td>후쿠야마 준 | 나카이 카즈야</td>\n",
       "      <td>https://www.kobis.or.kr/kobis/web/comm/images/...</td>\n",
       "      <td>어떤 소원이든 그에 상응하는 대가만 지불하면 다 해결해 주는 마녀 이치하라 유코.\\...</td>\n",
       "      <td>장편</td>\n",
       "      <td>일반영화</td>\n",
       "      <td>애니메이션 코미디 드라마 판타지 미스터리 스릴러</td>\n",
       "      <td>일본</td>\n",
       "      <td>60분 0초</td>\n",
       "      <td></td>\n",
       "    </tr>\n",
       "    <tr>\n",
       "      <th>11267</th>\n",
       "      <td>20020049</td>\n",
       "      <td>YMCA야구단 (YMCA Baseball Team)</td>\n",
       "      <td>드라마(1)</td>\n",
       "      <td>장편 | 일반영화 | 드라마, 코미디 | 104분 0초 | 전체관람가 | 한국</td>\n",
       "      <td>2002-10-02</td>\n",
       "      <td>2002년</td>\n",
       "      <td>김현석</td>\n",
       "      <td>송강호 | 김혜수(민정림) | 김주혁 | 황정민</td>\n",
       "      <td>https://www.kobis.or.kr/upload/up_img/cleansin...</td>\n",
       "      <td>글공부보다 운동을 더 좋아하는 선비 호창은 젊은 시절의 유일한 꿈이었던 과거제도가 ...</td>\n",
       "      <td>장편</td>\n",
       "      <td>일반영화</td>\n",
       "      <td>드라마 코미디</td>\n",
       "      <td>한국</td>\n",
       "      <td>104분 0초</td>\n",
       "      <td>전체관람가</td>\n",
       "    </tr>\n",
       "    <tr>\n",
       "      <th>11268</th>\n",
       "      <td>19828097</td>\n",
       "      <td>Z 특공대 (Attack Force Z)</td>\n",
       "      <td>액션(2)</td>\n",
       "      <td>장편 | 일반영화 | 액션, 드라마, 전쟁 | 93분 0초 | 호주</td>\n",
       "      <td>해당정보없음</td>\n",
       "      <td>1982년</td>\n",
       "      <td></td>\n",
       "      <td></td>\n",
       "      <td>https://www.kobis.or.kr/kobis/web/comm/images/...</td>\n",
       "      <td>불굴의 정신과 명예를 위해 극비리에 차출된 비밀결사 어택포스 Z 특공대 23인이 투...</td>\n",
       "      <td>장편</td>\n",
       "      <td>일반영화</td>\n",
       "      <td>액션 드라마 전쟁</td>\n",
       "      <td>호주</td>\n",
       "      <td>93분 0초</td>\n",
       "      <td></td>\n",
       "    </tr>\n",
       "    <tr>\n",
       "      <th>11269</th>\n",
       "      <td>20190105</td>\n",
       "      <td>Z 파이터스 (Zombie Fighters)</td>\n",
       "      <td>액션(3)</td>\n",
       "      <td>장편 | 일반영화 | 액션, 스릴러, 공포(호러), 어드벤처 | 100분 0초 | 태국</td>\n",
       "      <td>해당정보없음</td>\n",
       "      <td>2017년</td>\n",
       "      <td>포 아르논</td>\n",
       "      <td></td>\n",
       "      <td>https://www.kobis.or.kr/common/mast/movie/2019...</td>\n",
       "      <td>폐쇄된 병원, 바이러스 그리고 괴생명체...\\n생존확률 제로의 위험한 사투가 시작된...</td>\n",
       "      <td>장편</td>\n",
       "      <td>일반영화</td>\n",
       "      <td>액션 스릴러 공포(호러) 어드벤처</td>\n",
       "      <td>태국</td>\n",
       "      <td>100분 0초</td>\n",
       "      <td></td>\n",
       "    </tr>\n",
       "  </tbody>\n",
       "</table>\n",
       "</div>"
      ],
      "text/plain": [
       "           code                                              title     genre  \\\n",
       "11265  20203281                             XXX필름 연쇄살인 (Cry Havoc)     액션(1)   \n",
       "11266  20188682  XXX 홀릭 극장판 : 한 여름 밤의 꿈 (xxxHOLiC the Movie: A ...  애니메이션(5)   \n",
       "11267  20020049                       YMCA야구단 (YMCA Baseball Team)    드라마(1)   \n",
       "11268  19828097                             Z 특공대 (Attack Force Z)     액션(2)   \n",
       "11269  20190105                           Z 파이터스 (Zombie Fighters)     액션(3)   \n",
       "\n",
       "                                               summering   first_day  \\\n",
       "11265                  장편 | 일반영화 | 액션, 범죄 | 85분 54초 | 미국      해당정보없음   \n",
       "11266  장편 | 일반영화 | 애니메이션, 코미디, 드라마, 판타지, 미스터리, 스릴러 | ...      해당정보없음   \n",
       "11267        장편 | 일반영화 | 드라마, 코미디 | 104분 0초 | 전체관람가 | 한국  2002-10-02   \n",
       "11268              장편 | 일반영화 | 액션, 드라마, 전쟁 | 93분 0초 | 호주      해당정보없음   \n",
       "11269   장편 | 일반영화 | 액션, 스릴러, 공포(호러), 어드벤처 | 100분 0초 | 태국      해당정보없음   \n",
       "\n",
       "      production_year movie_director                  star_actor  \\\n",
       "11265           2019년         르네 페르즈                               \n",
       "11266           2005년       미즈시마 츠토무            후쿠야마 준 | 나카이 카즈야   \n",
       "11267           2002년            김현석  송강호 | 김혜수(민정림) | 김주혁 | 황정민   \n",
       "11268           1982년                                              \n",
       "11269           2017년          포 아르논                               \n",
       "\n",
       "                                                     img  \\\n",
       "11265  https://www.kobis.or.kr/kobis/web/comm/images/...   \n",
       "11266  https://www.kobis.or.kr/kobis/web/comm/images/...   \n",
       "11267  https://www.kobis.or.kr/upload/up_img/cleansin...   \n",
       "11268  https://www.kobis.or.kr/kobis/web/comm/images/...   \n",
       "11269  https://www.kobis.or.kr/common/mast/movie/2019...   \n",
       "\n",
       "                                                synopsis m_type m_kind  \\\n",
       "11265  대저택의 소유자이자 FBI의 일순위 수배자 ‘보이어’는\\nTV 프로그램 촬영을 빌미...     장편   일반영화   \n",
       "11266  어떤 소원이든 그에 상응하는 대가만 지불하면 다 해결해 주는 마녀 이치하라 유코.\\...     장편   일반영화   \n",
       "11267  글공부보다 운동을 더 좋아하는 선비 호창은 젊은 시절의 유일한 꿈이었던 과거제도가 ...     장편   일반영화   \n",
       "11268  불굴의 정신과 명예를 위해 극비리에 차출된 비밀결사 어택포스 Z 특공대 23인이 투...     장편   일반영화   \n",
       "11269  폐쇄된 병원, 바이러스 그리고 괴생명체...\\n생존확률 제로의 위험한 사투가 시작된...     장편   일반영화   \n",
       "\n",
       "                          m_genre m_nation   m_time m_rated  \n",
       "11265                       액션 범죄       미국  85분 54초          \n",
       "11266  애니메이션 코미디 드라마 판타지 미스터리 스릴러       일본   60분 0초          \n",
       "11267                     드라마 코미디       한국  104분 0초   전체관람가  \n",
       "11268                   액션 드라마 전쟁       호주   93분 0초          \n",
       "11269          액션 스릴러 공포(호러) 어드벤처       태국  100분 0초          "
      ]
     },
     "execution_count": 27,
     "metadata": {},
     "output_type": "execute_result"
    }
   ],
   "source": [
    "df.tail(5)"
   ]
  },
  {
   "cell_type": "code",
   "execution_count": 28,
   "metadata": {},
   "outputs": [
    {
     "data": {
      "text/plain": [
       "Int64Index([], dtype='int64')"
      ]
     },
     "execution_count": 28,
     "metadata": {},
     "output_type": "execute_result"
    }
   ],
   "source": [
    "indexs = df[df.summering.str.contains('멜로/로맨스') & df.summering.str.contains('청소년관람불가')].index\n",
    "indexs"
   ]
  },
  {
   "cell_type": "code",
   "execution_count": 33,
   "metadata": {},
   "outputs": [
    {
     "name": "stdout",
     "output_type": "stream",
     "text": [
      "                                              star_actor\n",
      "10883  김윤진(홍정혜) | 나문희(김문옥) | 강예원(강유미) | 이다희(공나영) | 장영...\n"
     ]
    }
   ],
   "source": [
    "\n",
    "print(df[df.star_actor.str.find('[') >= 0][['star_actor']])"
   ]
  },
  {
   "cell_type": "code",
   "execution_count": 13,
   "metadata": {},
   "outputs": [
    {
     "data": {
      "text/plain": [
       "Index([], dtype='int64')"
      ]
     },
     "execution_count": 13,
     "metadata": {},
     "output_type": "execute_result"
    }
   ],
   "source": [
    "# 감독 자리에 다른 값들이 들어갔다. 주연 배우 자리에는 데이터가 없고\n",
    "# 잘못 처리했다. 일단 감독이 이상한 것은 지우고 테스트\n",
    "indexs = df[df.movie_director.str.find('[') >= 0].index\n",
    "indexs"
   ]
  },
  {
   "cell_type": "code",
   "execution_count": 142,
   "metadata": {},
   "outputs": [],
   "source": [
    "df.drop(df.index[indexs], inplace=True)\n",
    "df.set_index('code', inplace=True)\n",
    "df.reset_index(inplace=True)"
   ]
  },
  {
   "cell_type": "code",
   "execution_count": 143,
   "metadata": {},
   "outputs": [
    {
     "data": {
      "text/plain": [
       "(2746, 16)"
      ]
     },
     "execution_count": 143,
     "metadata": {},
     "output_type": "execute_result"
    }
   ],
   "source": [
    "df.shape"
   ]
  },
  {
   "attachments": {},
   "cell_type": "markdown",
   "metadata": {},
   "source": [
    "##### 시놉시스 형태소 분석해 놓기"
   ]
  },
  {
   "cell_type": "code",
   "execution_count": 34,
   "metadata": {},
   "outputs": [],
   "source": [
    "from konlpy.tag import Okt\n",
    "okt = Okt()\n",
    "stop_words = '''의 가 에 과 을 의 를 는 이 은 와 \n",
    "            '''.split()"
   ]
  },
  {
   "cell_type": "code",
   "execution_count": 35,
   "metadata": {},
   "outputs": [],
   "source": [
    "import re, string\n",
    "\n",
    "morphs = []\n",
    "\n",
    "for text in df.synopsis:\n",
    "    text = re.sub('['+string.punctuation+'\\r\\n“”‘’…]', ' ', text)\n",
    "    tokens = okt.morphs(text)\n",
    "    morphs.append(' '.join([word for word in tokens if word not in stop_words]))\n",
    "\n",
    "df['morphs'] = morphs\n"
   ]
  },
  {
   "cell_type": "code",
   "execution_count": 36,
   "metadata": {},
   "outputs": [
    {
     "data": {
      "text/html": [
       "<div>\n",
       "<style scoped>\n",
       "    .dataframe tbody tr th:only-of-type {\n",
       "        vertical-align: middle;\n",
       "    }\n",
       "\n",
       "    .dataframe tbody tr th {\n",
       "        vertical-align: top;\n",
       "    }\n",
       "\n",
       "    .dataframe thead th {\n",
       "        text-align: right;\n",
       "    }\n",
       "</style>\n",
       "<table border=\"1\" class=\"dataframe\">\n",
       "  <thead>\n",
       "    <tr style=\"text-align: right;\">\n",
       "      <th></th>\n",
       "      <th>code</th>\n",
       "      <th>title</th>\n",
       "      <th>genre</th>\n",
       "      <th>summering</th>\n",
       "      <th>first_day</th>\n",
       "      <th>production_year</th>\n",
       "      <th>movie_director</th>\n",
       "      <th>star_actor</th>\n",
       "      <th>img</th>\n",
       "      <th>synopsis</th>\n",
       "      <th>m_type</th>\n",
       "      <th>m_kind</th>\n",
       "      <th>m_genre</th>\n",
       "      <th>m_nation</th>\n",
       "      <th>m_time</th>\n",
       "      <th>m_rated</th>\n",
       "      <th>morphs</th>\n",
       "    </tr>\n",
       "  </thead>\n",
       "  <tbody>\n",
       "    <tr>\n",
       "      <th>0</th>\n",
       "      <td>20231523</td>\n",
       "      <td>그 여름 (The Summer)</td>\n",
       "      <td>애니메이션(2)</td>\n",
       "      <td>장편 | 예술,독립 영화 | 애니메이션, 드라마, 멜로/로맨스 | 60분 57초 |...</td>\n",
       "      <td>2023-06-07</td>\n",
       "      <td>2023년</td>\n",
       "      <td>한지원</td>\n",
       "      <td>윤아영 | 송하림</td>\n",
       "      <td>https://www.kobis.or.kr/common/mast/movie/2023...</td>\n",
       "      <td>\"서로의 몸은 차라리 꽃잎과 물결에 가까웠다\"\\r\\n갈색 눈동자를 가진 평범한 학생...</td>\n",
       "      <td>장편</td>\n",
       "      <td>예술,독립 영화</td>\n",
       "      <td>애니메이션 드라마 멜로/로맨스</td>\n",
       "      <td>한국</td>\n",
       "      <td>60분 57초</td>\n",
       "      <td>12세이상관람가</td>\n",
       "      <td>서로 몸 차라리 꽃잎 물결 가까웠다 갈색 눈동자 가진 평범한 학생 이경 여름 햇살 ...</td>\n",
       "    </tr>\n",
       "  </tbody>\n",
       "</table>\n",
       "</div>"
      ],
      "text/plain": [
       "       code              title     genre  \\\n",
       "0  20231523  그 여름 (The Summer)  애니메이션(2)   \n",
       "\n",
       "                                           summering   first_day  \\\n",
       "0  장편 | 예술,독립 영화 | 애니메이션, 드라마, 멜로/로맨스 | 60분 57초 |...  2023-06-07   \n",
       "\n",
       "  production_year movie_director star_actor  \\\n",
       "0           2023년            한지원  윤아영 | 송하림   \n",
       "\n",
       "                                                 img  \\\n",
       "0  https://www.kobis.or.kr/common/mast/movie/2023...   \n",
       "\n",
       "                                            synopsis m_type    m_kind  \\\n",
       "0  \"서로의 몸은 차라리 꽃잎과 물결에 가까웠다\"\\r\\n갈색 눈동자를 가진 평범한 학생...     장편  예술,독립 영화   \n",
       "\n",
       "            m_genre m_nation   m_time   m_rated  \\\n",
       "0  애니메이션 드라마 멜로/로맨스       한국  60분 57초  12세이상관람가   \n",
       "\n",
       "                                              morphs  \n",
       "0  서로 몸 차라리 꽃잎 물결 가까웠다 갈색 눈동자 가진 평범한 학생 이경 여름 햇살 ...  "
      ]
     },
     "execution_count": 36,
     "metadata": {},
     "output_type": "execute_result"
    }
   ],
   "source": [
    "df.head(1)"
   ]
  },
  {
   "cell_type": "code",
   "execution_count": 37,
   "metadata": {},
   "outputs": [],
   "source": [
    "df.to_csv('../static/data/movie.csv', index=False)"
   ]
  },
  {
   "cell_type": "code",
   "execution_count": null,
   "metadata": {},
   "outputs": [],
   "source": [
    "for title in df.title:\n",
    "    print(title)"
   ]
  }
 ],
 "metadata": {
  "kernelspec": {
   "display_name": "base",
   "language": "python",
   "name": "python3"
  },
  "language_info": {
   "codemirror_mode": {
    "name": "ipython",
    "version": 3
   },
   "file_extension": ".py",
   "mimetype": "text/x-python",
   "name": "python",
   "nbconvert_exporter": "python",
   "pygments_lexer": "ipython3",
   "version": "3.9.13"
  },
  "orig_nbformat": 4
 },
 "nbformat": 4,
 "nbformat_minor": 2
}
