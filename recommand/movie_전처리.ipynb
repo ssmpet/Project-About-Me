{
 "cells": [
  {
   "cell_type": "code",
   "execution_count": 43,
   "metadata": {},
   "outputs": [],
   "source": [
    "import numpy as np\n",
    "import pandas as pd"
   ]
  },
  {
   "attachments": {},
   "cell_type": "markdown",
   "metadata": {},
   "source": [
    "#### 1. 크롤링 한 파일들 통합하기"
   ]
  },
  {
   "cell_type": "code",
   "execution_count": 44,
   "metadata": {},
   "outputs": [],
   "source": [
    "fname = '가 나 다 라 마 바-1 바 사 사-1 사-2 아 자 차 카 타 파 하 A B C D E F G H I J K L M N O P Q R S T U V W X Y Z'.split()"
   ]
  },
  {
   "cell_type": "code",
   "execution_count": 45,
   "metadata": {},
   "outputs": [
    {
     "data": {
      "text/plain": [
       "(11273, 10)"
      ]
     },
     "execution_count": 45,
     "metadata": {},
     "output_type": "execute_result"
    }
   ],
   "source": [
    "df = pd.DataFrame()\n",
    "for fn in fname:\n",
    "    try:\n",
    "        tmp = pd.read_csv(f'../static/data/movie{fn}.csv')\n",
    "    except:\n",
    "        continue\n",
    "    df = pd.concat([df, tmp])\n",
    "df.shape"
   ]
  },
  {
   "cell_type": "code",
   "execution_count": 46,
   "metadata": {},
   "outputs": [
    {
     "data": {
      "text/html": [
       "<div>\n",
       "<style scoped>\n",
       "    .dataframe tbody tr th:only-of-type {\n",
       "        vertical-align: middle;\n",
       "    }\n",
       "\n",
       "    .dataframe tbody tr th {\n",
       "        vertical-align: top;\n",
       "    }\n",
       "\n",
       "    .dataframe thead th {\n",
       "        text-align: right;\n",
       "    }\n",
       "</style>\n",
       "<table border=\"1\" class=\"dataframe\">\n",
       "  <thead>\n",
       "    <tr style=\"text-align: right;\">\n",
       "      <th></th>\n",
       "      <th>code</th>\n",
       "      <th>title</th>\n",
       "      <th>genre</th>\n",
       "      <th>summering</th>\n",
       "      <th>first_day</th>\n",
       "      <th>production_year</th>\n",
       "      <th>movie_director</th>\n",
       "      <th>star_actor</th>\n",
       "      <th>img</th>\n",
       "      <th>synopsis</th>\n",
       "    </tr>\n",
       "  </thead>\n",
       "  <tbody>\n",
       "    <tr>\n",
       "      <th>0</th>\n",
       "      <td>20231523</td>\n",
       "      <td>그 여름 (The Summer)</td>\n",
       "      <td>애니메이션(2)</td>\n",
       "      <td>장편 | 예술,독립 영화 | 애니메이션, 드라마, 멜로/로맨스 | 60분 57초 |...</td>\n",
       "      <td>2023-06-07</td>\n",
       "      <td>2023년</td>\n",
       "      <td>한지원</td>\n",
       "      <td>윤아영 | 송하림</td>\n",
       "      <td>https://www.kobis.or.kr/common/mast/movie/2023...</td>\n",
       "      <td>\"서로의 몸은 차라리 꽃잎과 물결에 가까웠다\"\\r\\n갈색 눈동자를 가진 평범한 학생...</td>\n",
       "    </tr>\n",
       "  </tbody>\n",
       "</table>\n",
       "</div>"
      ],
      "text/plain": [
       "       code              title     genre  \\\n",
       "0  20231523  그 여름 (The Summer)  애니메이션(2)   \n",
       "\n",
       "                                           summering   first_day  \\\n",
       "0  장편 | 예술,독립 영화 | 애니메이션, 드라마, 멜로/로맨스 | 60분 57초 |...  2023-06-07   \n",
       "\n",
       "  production_year movie_director star_actor  \\\n",
       "0           2023년            한지원  윤아영 | 송하림   \n",
       "\n",
       "                                                 img  \\\n",
       "0  https://www.kobis.or.kr/common/mast/movie/2023...   \n",
       "\n",
       "                                            synopsis  \n",
       "0  \"서로의 몸은 차라리 꽃잎과 물결에 가까웠다\"\\r\\n갈색 눈동자를 가진 평범한 학생...  "
      ]
     },
     "execution_count": 46,
     "metadata": {},
     "output_type": "execute_result"
    }
   ],
   "source": [
    "df.head(1)"
   ]
  },
  {
   "cell_type": "code",
   "execution_count": 47,
   "metadata": {},
   "outputs": [
    {
     "name": "stdout",
     "output_type": "stream",
     "text": [
      "(11273, 10)\n"
     ]
    },
    {
     "data": {
      "text/html": [
       "<div>\n",
       "<style scoped>\n",
       "    .dataframe tbody tr th:only-of-type {\n",
       "        vertical-align: middle;\n",
       "    }\n",
       "\n",
       "    .dataframe tbody tr th {\n",
       "        vertical-align: top;\n",
       "    }\n",
       "\n",
       "    .dataframe thead th {\n",
       "        text-align: right;\n",
       "    }\n",
       "</style>\n",
       "<table border=\"1\" class=\"dataframe\">\n",
       "  <thead>\n",
       "    <tr style=\"text-align: right;\">\n",
       "      <th></th>\n",
       "      <th>code</th>\n",
       "      <th>title</th>\n",
       "      <th>genre</th>\n",
       "      <th>summering</th>\n",
       "      <th>first_day</th>\n",
       "      <th>production_year</th>\n",
       "      <th>movie_director</th>\n",
       "      <th>star_actor</th>\n",
       "      <th>img</th>\n",
       "      <th>synopsis</th>\n",
       "    </tr>\n",
       "  </thead>\n",
       "  <tbody>\n",
       "    <tr>\n",
       "      <th>0</th>\n",
       "      <td>20231523</td>\n",
       "      <td>그 여름 (The Summer)</td>\n",
       "      <td>애니메이션(2)</td>\n",
       "      <td>장편 | 예술,독립 영화 | 애니메이션, 드라마, 멜로/로맨스 | 60분 57초 |...</td>\n",
       "      <td>2023-06-07</td>\n",
       "      <td>2023년</td>\n",
       "      <td>한지원</td>\n",
       "      <td>윤아영 | 송하림</td>\n",
       "      <td>https://www.kobis.or.kr/common/mast/movie/2023...</td>\n",
       "      <td>\"서로의 몸은 차라리 꽃잎과 물결에 가까웠다\"\\r\\n갈색 눈동자를 가진 평범한 학생...</td>\n",
       "    </tr>\n",
       "  </tbody>\n",
       "</table>\n",
       "</div>"
      ],
      "text/plain": [
       "       code              title     genre  \\\n",
       "0  20231523  그 여름 (The Summer)  애니메이션(2)   \n",
       "\n",
       "                                           summering   first_day  \\\n",
       "0  장편 | 예술,독립 영화 | 애니메이션, 드라마, 멜로/로맨스 | 60분 57초 |...  2023-06-07   \n",
       "\n",
       "  production_year movie_director star_actor  \\\n",
       "0           2023년            한지원  윤아영 | 송하림   \n",
       "\n",
       "                                                 img  \\\n",
       "0  https://www.kobis.or.kr/common/mast/movie/2023...   \n",
       "\n",
       "                                            synopsis  \n",
       "0  \"서로의 몸은 차라리 꽃잎과 물결에 가까웠다\"\\r\\n갈색 눈동자를 가진 평범한 학생...  "
      ]
     },
     "execution_count": 47,
     "metadata": {},
     "output_type": "execute_result"
    }
   ],
   "source": [
    "# index 정리\n",
    "df.set_index('code', inplace=True)\n",
    "df.reset_index(inplace=True)\n",
    "df.fillna('', inplace=True)\n",
    "print(df.shape)\n",
    "df.head(1)\n"
   ]
  },
  {
   "cell_type": "code",
   "execution_count": 48,
   "metadata": {},
   "outputs": [
    {
     "data": {
      "text/plain": [
       "code               0\n",
       "title              0\n",
       "genre              0\n",
       "summering          0\n",
       "first_day          0\n",
       "production_year    0\n",
       "movie_director     0\n",
       "star_actor         0\n",
       "img                0\n",
       "synopsis           0\n",
       "dtype: int64"
      ]
     },
     "execution_count": 48,
     "metadata": {},
     "output_type": "execute_result"
    }
   ],
   "source": [
    "df.isna().sum()"
   ]
  },
  {
   "cell_type": "code",
   "execution_count": 49,
   "metadata": {},
   "outputs": [],
   "source": [
    "# 간혹 같은 영화가 들어가 있어 중복 삭제\n",
    "df.drop_duplicates(subset='code', inplace=True)"
   ]
  },
  {
   "cell_type": "code",
   "execution_count": 50,
   "metadata": {},
   "outputs": [
    {
     "data": {
      "text/plain": [
       "(11271, (11271, 10))"
      ]
     },
     "execution_count": 50,
     "metadata": {},
     "output_type": "execute_result"
    }
   ],
   "source": [
    "df.code.nunique(), df.shape"
   ]
  },
  {
   "cell_type": "code",
   "execution_count": 51,
   "metadata": {},
   "outputs": [
    {
     "data": {
      "text/html": [
       "<div>\n",
       "<style scoped>\n",
       "    .dataframe tbody tr th:only-of-type {\n",
       "        vertical-align: middle;\n",
       "    }\n",
       "\n",
       "    .dataframe tbody tr th {\n",
       "        vertical-align: top;\n",
       "    }\n",
       "\n",
       "    .dataframe thead th {\n",
       "        text-align: right;\n",
       "    }\n",
       "</style>\n",
       "<table border=\"1\" class=\"dataframe\">\n",
       "  <thead>\n",
       "    <tr style=\"text-align: right;\">\n",
       "      <th></th>\n",
       "      <th>code</th>\n",
       "      <th>title</th>\n",
       "      <th>genre</th>\n",
       "      <th>summering</th>\n",
       "      <th>first_day</th>\n",
       "      <th>production_year</th>\n",
       "      <th>movie_director</th>\n",
       "      <th>star_actor</th>\n",
       "      <th>img</th>\n",
       "      <th>synopsis</th>\n",
       "    </tr>\n",
       "  </thead>\n",
       "  <tbody>\n",
       "    <tr>\n",
       "      <th>3428</th>\n",
       "      <td>20193151</td>\n",
       "      <td>마리아 스투아르다 (Maria Stuarda )</td>\n",
       "      <td>공연</td>\n",
       "      <td>장편 | 일반영화 | 공연</td>\n",
       "      <td>해당정보없음</td>\n",
       "      <td>2020년</td>\n",
       "      <td>데이비드 맥비커</td>\n",
       "      <td></td>\n",
       "      <td>https://www.kobis.or.kr/kobis/web/comm/images/...</td>\n",
       "      <td>스코틀랜드의 메리 스튜어트 여왕과 잉글랜드의 엘리자베스 여왕. 권력과 사랑을 놓고 ...</td>\n",
       "    </tr>\n",
       "  </tbody>\n",
       "</table>\n",
       "</div>"
      ],
      "text/plain": [
       "          code                       title genre       summering first_day  \\\n",
       "3428  20193151  마리아 스투아르다 (Maria Stuarda )    공연  장편 | 일반영화 | 공연    해당정보없음   \n",
       "\n",
       "     production_year movie_director star_actor  \\\n",
       "3428           2020년       데이비드 맥비커              \n",
       "\n",
       "                                                    img  \\\n",
       "3428  https://www.kobis.or.kr/kobis/web/comm/images/...   \n",
       "\n",
       "                                               synopsis  \n",
       "3428  스코틀랜드의 메리 스튜어트 여왕과 잉글랜드의 엘리자베스 여왕. 권력과 사랑을 놓고 ...  "
      ]
     },
     "execution_count": 51,
     "metadata": {},
     "output_type": "execute_result"
    }
   ],
   "source": [
    "# summering 적은 것 삭제\n",
    "df[df.summering == ('장편 | 일반영화 | 공연')]"
   ]
  },
  {
   "cell_type": "code",
   "execution_count": 52,
   "metadata": {},
   "outputs": [
    {
     "data": {
      "text/plain": [
       "(11270, 10)"
      ]
     },
     "execution_count": 52,
     "metadata": {},
     "output_type": "execute_result"
    }
   ],
   "source": [
    "df.drop(df.index[3428], inplace=True)\n",
    "df.shape"
   ]
  },
  {
   "cell_type": "code",
   "execution_count": 53,
   "metadata": {},
   "outputs": [],
   "source": [
    "# 다시 인덱스 정리\n",
    "df.set_index('code', inplace=True)\n",
    "df.reset_index(inplace=True)"
   ]
  },
  {
   "cell_type": "code",
   "execution_count": 54,
   "metadata": {},
   "outputs": [
    {
     "data": {
      "text/plain": [
       "11270"
      ]
     },
     "execution_count": 54,
     "metadata": {},
     "output_type": "execute_result"
    }
   ],
   "source": [
    "# summering 따로따로 분리해서 추가\n",
    "m_type, m_kind, m_genre, m_time, m_rated, m_nation = [], [], [], [], [], []\n",
    "for info in df.summering.values:\n",
    "    infos = info.split('|')\n",
    "    infos_len = len(infos)\n",
    "    m_type.append(infos[0].strip())                     # 장편\n",
    "    m_kind.append(infos[1].strip())                     # 일반영화, 예술영화..\n",
    "    m_genre.append(infos[2].strip().replace(',', ''))   # 애니메이션, 드라마, 멜로\n",
    "    m_nation.append(infos[-1].strip())                  # 한국\n",
    "    \n",
    "    # 요약 정보 개수가 다를 수 있다\n",
    "    if infos_len == 6:\n",
    "        m_time.append(infos[-3].strip())                # 70분\n",
    "        m_rated.append(infos[-2].strip())\n",
    "    elif infos_len == 5 :\n",
    "        m_time.append(infos[-2].strip())                # 12세 이상 관람가\n",
    "        m_rated.append('')\n",
    "    elif infos_len == 4:\n",
    "        m_rated.append('')\n",
    "        m_time.append('')\n",
    "    else:\n",
    "        print(info)\n",
    "\n",
    "len(m_type)"
   ]
  },
  {
   "cell_type": "code",
   "execution_count": 55,
   "metadata": {},
   "outputs": [],
   "source": [
    "df['m_type'] = m_type\n",
    "df['m_kind'] = m_kind\n",
    "df['m_genre'] = m_genre\n",
    "df['m_nation'] = m_nation\n",
    "df['m_time'] = m_time\n",
    "df['m_rated'] = m_rated"
   ]
  },
  {
   "cell_type": "code",
   "execution_count": 56,
   "metadata": {},
   "outputs": [
    {
     "data": {
      "text/html": [
       "<div>\n",
       "<style scoped>\n",
       "    .dataframe tbody tr th:only-of-type {\n",
       "        vertical-align: middle;\n",
       "    }\n",
       "\n",
       "    .dataframe tbody tr th {\n",
       "        vertical-align: top;\n",
       "    }\n",
       "\n",
       "    .dataframe thead th {\n",
       "        text-align: right;\n",
       "    }\n",
       "</style>\n",
       "<table border=\"1\" class=\"dataframe\">\n",
       "  <thead>\n",
       "    <tr style=\"text-align: right;\">\n",
       "      <th></th>\n",
       "      <th>code</th>\n",
       "      <th>title</th>\n",
       "      <th>genre</th>\n",
       "      <th>summering</th>\n",
       "      <th>first_day</th>\n",
       "      <th>production_year</th>\n",
       "      <th>movie_director</th>\n",
       "      <th>star_actor</th>\n",
       "      <th>img</th>\n",
       "      <th>synopsis</th>\n",
       "      <th>m_type</th>\n",
       "      <th>m_kind</th>\n",
       "      <th>m_genre</th>\n",
       "      <th>m_nation</th>\n",
       "      <th>m_time</th>\n",
       "      <th>m_rated</th>\n",
       "    </tr>\n",
       "  </thead>\n",
       "  <tbody>\n",
       "    <tr>\n",
       "      <th>0</th>\n",
       "      <td>20231523</td>\n",
       "      <td>그 여름 (The Summer)</td>\n",
       "      <td>애니메이션(2)</td>\n",
       "      <td>장편 | 예술,독립 영화 | 애니메이션, 드라마, 멜로/로맨스 | 60분 57초 |...</td>\n",
       "      <td>2023-06-07</td>\n",
       "      <td>2023년</td>\n",
       "      <td>한지원</td>\n",
       "      <td>윤아영 | 송하림</td>\n",
       "      <td>https://www.kobis.or.kr/common/mast/movie/2023...</td>\n",
       "      <td>\"서로의 몸은 차라리 꽃잎과 물결에 가까웠다\"\\r\\n갈색 눈동자를 가진 평범한 학생...</td>\n",
       "      <td>장편</td>\n",
       "      <td>예술,독립 영화</td>\n",
       "      <td>애니메이션 드라마 멜로/로맨스</td>\n",
       "      <td>한국</td>\n",
       "      <td>60분 57초</td>\n",
       "      <td>12세이상관람가</td>\n",
       "    </tr>\n",
       "  </tbody>\n",
       "</table>\n",
       "</div>"
      ],
      "text/plain": [
       "       code              title     genre  \\\n",
       "0  20231523  그 여름 (The Summer)  애니메이션(2)   \n",
       "\n",
       "                                           summering   first_day  \\\n",
       "0  장편 | 예술,독립 영화 | 애니메이션, 드라마, 멜로/로맨스 | 60분 57초 |...  2023-06-07   \n",
       "\n",
       "  production_year movie_director star_actor  \\\n",
       "0           2023년            한지원  윤아영 | 송하림   \n",
       "\n",
       "                                                 img  \\\n",
       "0  https://www.kobis.or.kr/common/mast/movie/2023...   \n",
       "\n",
       "                                            synopsis m_type    m_kind  \\\n",
       "0  \"서로의 몸은 차라리 꽃잎과 물결에 가까웠다\"\\r\\n갈색 눈동자를 가진 평범한 학생...     장편  예술,독립 영화   \n",
       "\n",
       "            m_genre m_nation   m_time   m_rated  \n",
       "0  애니메이션 드라마 멜로/로맨스       한국  60분 57초  12세이상관람가  "
      ]
     },
     "execution_count": 56,
     "metadata": {},
     "output_type": "execute_result"
    }
   ],
   "source": [
    "df.head(1)"
   ]
  },
  {
   "attachments": {},
   "cell_type": "markdown",
   "metadata": {},
   "source": [
    "#### 2. 시놉시스 형태소 분석해 놓기"
   ]
  },
  {
   "cell_type": "code",
   "execution_count": 57,
   "metadata": {},
   "outputs": [],
   "source": [
    "from konlpy.tag import Okt\n",
    "okt = Okt()\n",
    "stop_words = '''의 가 에 과 을 의 를 는 이 은 와 \n",
    "            '''.split()"
   ]
  },
  {
   "cell_type": "code",
   "execution_count": 58,
   "metadata": {},
   "outputs": [],
   "source": [
    "import re, string\n",
    "\n",
    "morphs = []\n",
    "\n",
    "for text in df.synopsis:\n",
    "    text = re.sub('['+string.punctuation+'\\r\\n“”‘’…]', ' ', text)\n",
    "    tokens = okt.morphs(text)\n",
    "    morphs.append(' '.join([word for word in tokens if word not in stop_words]))\n",
    "\n",
    "df['morphs'] = morphs\n"
   ]
  },
  {
   "cell_type": "code",
   "execution_count": 61,
   "metadata": {},
   "outputs": [
    {
     "data": {
      "text/html": [
       "<div>\n",
       "<style scoped>\n",
       "    .dataframe tbody tr th:only-of-type {\n",
       "        vertical-align: middle;\n",
       "    }\n",
       "\n",
       "    .dataframe tbody tr th {\n",
       "        vertical-align: top;\n",
       "    }\n",
       "\n",
       "    .dataframe thead th {\n",
       "        text-align: right;\n",
       "    }\n",
       "</style>\n",
       "<table border=\"1\" class=\"dataframe\">\n",
       "  <thead>\n",
       "    <tr style=\"text-align: right;\">\n",
       "      <th></th>\n",
       "      <th>code</th>\n",
       "      <th>title</th>\n",
       "      <th>genre</th>\n",
       "      <th>summering</th>\n",
       "      <th>first_day</th>\n",
       "      <th>production_year</th>\n",
       "      <th>movie_director</th>\n",
       "      <th>star_actor</th>\n",
       "      <th>img</th>\n",
       "      <th>synopsis</th>\n",
       "      <th>m_type</th>\n",
       "      <th>m_kind</th>\n",
       "      <th>m_genre</th>\n",
       "      <th>m_nation</th>\n",
       "      <th>m_time</th>\n",
       "      <th>m_rated</th>\n",
       "      <th>morphs</th>\n",
       "    </tr>\n",
       "  </thead>\n",
       "  <tbody>\n",
       "    <tr>\n",
       "      <th>0</th>\n",
       "      <td>20231523</td>\n",
       "      <td>그 여름 (The Summer)</td>\n",
       "      <td>애니메이션(2)</td>\n",
       "      <td>장편 | 예술,독립 영화 | 애니메이션, 드라마, 멜로/로맨스 | 60분 57초 |...</td>\n",
       "      <td>2023-06-07</td>\n",
       "      <td>2023년</td>\n",
       "      <td>한지원</td>\n",
       "      <td>윤아영 | 송하림</td>\n",
       "      <td>https://www.kobis.or.kr/common/mast/movie/2023...</td>\n",
       "      <td>\"서로의 몸은 차라리 꽃잎과 물결에 가까웠다\"\\r\\n갈색 눈동자를 가진 평범한 학생...</td>\n",
       "      <td>장편</td>\n",
       "      <td>예술,독립 영화</td>\n",
       "      <td>애니메이션 드라마 멜로/로맨스</td>\n",
       "      <td>한국</td>\n",
       "      <td>60분 57초</td>\n",
       "      <td>12세이상관람가</td>\n",
       "      <td>서로 몸 차라리 꽃잎 물결 가까웠다 갈색 눈동자 가진 평범한 학생 이경 여름 햇살 ...</td>\n",
       "    </tr>\n",
       "  </tbody>\n",
       "</table>\n",
       "</div>"
      ],
      "text/plain": [
       "       code              title     genre  \\\n",
       "0  20231523  그 여름 (The Summer)  애니메이션(2)   \n",
       "\n",
       "                                           summering   first_day  \\\n",
       "0  장편 | 예술,독립 영화 | 애니메이션, 드라마, 멜로/로맨스 | 60분 57초 |...  2023-06-07   \n",
       "\n",
       "  production_year movie_director star_actor  \\\n",
       "0           2023년            한지원  윤아영 | 송하림   \n",
       "\n",
       "                                                 img  \\\n",
       "0  https://www.kobis.or.kr/common/mast/movie/2023...   \n",
       "\n",
       "                                            synopsis m_type    m_kind  \\\n",
       "0  \"서로의 몸은 차라리 꽃잎과 물결에 가까웠다\"\\r\\n갈색 눈동자를 가진 평범한 학생...     장편  예술,독립 영화   \n",
       "\n",
       "            m_genre m_nation   m_time   m_rated  \\\n",
       "0  애니메이션 드라마 멜로/로맨스       한국  60분 57초  12세이상관람가   \n",
       "\n",
       "                                              morphs  \n",
       "0  서로 몸 차라리 꽃잎 물결 가까웠다 갈색 눈동자 가진 평범한 학생 이경 여름 햇살 ...  "
      ]
     },
     "execution_count": 61,
     "metadata": {},
     "output_type": "execute_result"
    }
   ],
   "source": [
    "df.head(1)"
   ]
  },
  {
   "attachments": {},
   "cell_type": "markdown",
   "metadata": {},
   "source": [
    "#### 3. 최종 파일 저장"
   ]
  },
  {
   "cell_type": "code",
   "execution_count": 62,
   "metadata": {},
   "outputs": [],
   "source": [
    "df.to_csv('../static/data/movie.csv', index=False)"
   ]
  }
 ],
 "metadata": {
  "kernelspec": {
   "display_name": "base",
   "language": "python",
   "name": "python3"
  },
  "language_info": {
   "codemirror_mode": {
    "name": "ipython",
    "version": 3
   },
   "file_extension": ".py",
   "mimetype": "text/x-python",
   "name": "python",
   "nbconvert_exporter": "python",
   "pygments_lexer": "ipython3",
   "version": "3.9.13"
  },
  "orig_nbformat": 4
 },
 "nbformat": 4,
 "nbformat_minor": 2
}
