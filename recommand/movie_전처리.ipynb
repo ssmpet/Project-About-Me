{
 "cells": [
  {
   "cell_type": "code",
   "execution_count": 133,
   "metadata": {},
   "outputs": [],
   "source": [
    "import numpy as np\n",
    "import pandas as pd"
   ]
  },
  {
   "cell_type": "code",
   "execution_count": 134,
   "metadata": {},
   "outputs": [],
   "source": [
    "fname = '가 나 다 라 마 바 사 아 자 차 카 타 파 하 A B C D E F G H I J K L M N O P Q R S T U V W X Y Z'.split()"
   ]
  },
  {
   "cell_type": "code",
   "execution_count": 135,
   "metadata": {},
   "outputs": [
    {
     "data": {
      "text/plain": [
       "(3646, 10)"
      ]
     },
     "execution_count": 135,
     "metadata": {},
     "output_type": "execute_result"
    }
   ],
   "source": [
    "df = pd.DataFrame()\n",
    "for fn in fname:\n",
    "    try:\n",
    "        tmp = pd.read_csv(f'../static/data/movie{fn}.csv')\n",
    "    except:\n",
    "        continue\n",
    "    df = pd.concat([df, tmp])\n",
    "df.shape"
   ]
  },
  {
   "cell_type": "code",
   "execution_count": 136,
   "metadata": {},
   "outputs": [
    {
     "data": {
      "text/html": [
       "<div>\n",
       "<style scoped>\n",
       "    .dataframe tbody tr th:only-of-type {\n",
       "        vertical-align: middle;\n",
       "    }\n",
       "\n",
       "    .dataframe tbody tr th {\n",
       "        vertical-align: top;\n",
       "    }\n",
       "\n",
       "    .dataframe thead th {\n",
       "        text-align: right;\n",
       "    }\n",
       "</style>\n",
       "<table border=\"1\" class=\"dataframe\">\n",
       "  <thead>\n",
       "    <tr style=\"text-align: right;\">\n",
       "      <th></th>\n",
       "      <th>code</th>\n",
       "      <th>title</th>\n",
       "      <th>genre</th>\n",
       "      <th>summering</th>\n",
       "      <th>first_day</th>\n",
       "      <th>production_year</th>\n",
       "      <th>movie_director</th>\n",
       "      <th>star_actor</th>\n",
       "      <th>img</th>\n",
       "      <th>synopsis</th>\n",
       "    </tr>\n",
       "  </thead>\n",
       "  <tbody>\n",
       "    <tr>\n",
       "      <th>0</th>\n",
       "      <td>20210397</td>\n",
       "      <td>가가린 (Gagarine)</td>\n",
       "      <td>SF</td>\n",
       "      <td>장편 | 예술영화 | SF | 97분 57초 | 12세이상관람가 | 프랑스</td>\n",
       "      <td>2022-12-22</td>\n",
       "      <td>2020년</td>\n",
       "      <td>파니 리에타르|제레미 트루일</td>\n",
       "      <td>피네건 올드필드 | 드니 라방 | 알세니 바틸리 | 리나 쿠드리</td>\n",
       "      <td>https://www.kobis.or.kr/common/mast/movie/2022...</td>\n",
       "      <td>가가린 옥상에서 하늘을 보며 우주비행사를 꿈꾸던 10대 소년, 유리.\\n사랑하는 사...</td>\n",
       "    </tr>\n",
       "  </tbody>\n",
       "</table>\n",
       "</div>"
      ],
      "text/plain": [
       "       code           title genre                                  summering   \n",
       "0  20210397  가가린 (Gagarine)    SF  장편 | 예술영화 | SF | 97분 57초 | 12세이상관람가 | 프랑스  \\\n",
       "\n",
       "    first_day production_year   movie_director   \n",
       "0  2022-12-22           2020년  파니 리에타르|제레미 트루일  \\\n",
       "\n",
       "                            star_actor   \n",
       "0  피네건 올드필드 | 드니 라방 | 알세니 바틸리 | 리나 쿠드리  \\\n",
       "\n",
       "                                                 img   \n",
       "0  https://www.kobis.or.kr/common/mast/movie/2022...  \\\n",
       "\n",
       "                                            synopsis  \n",
       "0  가가린 옥상에서 하늘을 보며 우주비행사를 꿈꾸던 10대 소년, 유리.\\n사랑하는 사...  "
      ]
     },
     "execution_count": 136,
     "metadata": {},
     "output_type": "execute_result"
    }
   ],
   "source": [
    "df.head(1)"
   ]
  },
  {
   "cell_type": "code",
   "execution_count": 137,
   "metadata": {},
   "outputs": [
    {
     "name": "stdout",
     "output_type": "stream",
     "text": [
      "(3646, 10)\n"
     ]
    },
    {
     "data": {
      "text/html": [
       "<div>\n",
       "<style scoped>\n",
       "    .dataframe tbody tr th:only-of-type {\n",
       "        vertical-align: middle;\n",
       "    }\n",
       "\n",
       "    .dataframe tbody tr th {\n",
       "        vertical-align: top;\n",
       "    }\n",
       "\n",
       "    .dataframe thead th {\n",
       "        text-align: right;\n",
       "    }\n",
       "</style>\n",
       "<table border=\"1\" class=\"dataframe\">\n",
       "  <thead>\n",
       "    <tr style=\"text-align: right;\">\n",
       "      <th></th>\n",
       "      <th>code</th>\n",
       "      <th>title</th>\n",
       "      <th>genre</th>\n",
       "      <th>summering</th>\n",
       "      <th>first_day</th>\n",
       "      <th>production_year</th>\n",
       "      <th>movie_director</th>\n",
       "      <th>star_actor</th>\n",
       "      <th>img</th>\n",
       "      <th>synopsis</th>\n",
       "    </tr>\n",
       "  </thead>\n",
       "  <tbody>\n",
       "    <tr>\n",
       "      <th>0</th>\n",
       "      <td>20210397</td>\n",
       "      <td>가가린 (Gagarine)</td>\n",
       "      <td>SF</td>\n",
       "      <td>장편 | 예술영화 | SF | 97분 57초 | 12세이상관람가 | 프랑스</td>\n",
       "      <td>2022-12-22</td>\n",
       "      <td>2020년</td>\n",
       "      <td>파니 리에타르|제레미 트루일</td>\n",
       "      <td>피네건 올드필드 | 드니 라방 | 알세니 바틸리 | 리나 쿠드리</td>\n",
       "      <td>https://www.kobis.or.kr/common/mast/movie/2022...</td>\n",
       "      <td>가가린 옥상에서 하늘을 보며 우주비행사를 꿈꾸던 10대 소년, 유리.\\n사랑하는 사...</td>\n",
       "    </tr>\n",
       "  </tbody>\n",
       "</table>\n",
       "</div>"
      ],
      "text/plain": [
       "       code           title genre                                  summering   \n",
       "0  20210397  가가린 (Gagarine)    SF  장편 | 예술영화 | SF | 97분 57초 | 12세이상관람가 | 프랑스  \\\n",
       "\n",
       "    first_day production_year   movie_director   \n",
       "0  2022-12-22           2020년  파니 리에타르|제레미 트루일  \\\n",
       "\n",
       "                            star_actor   \n",
       "0  피네건 올드필드 | 드니 라방 | 알세니 바틸리 | 리나 쿠드리  \\\n",
       "\n",
       "                                                 img   \n",
       "0  https://www.kobis.or.kr/common/mast/movie/2022...  \\\n",
       "\n",
       "                                            synopsis  \n",
       "0  가가린 옥상에서 하늘을 보며 우주비행사를 꿈꾸던 10대 소년, 유리.\\n사랑하는 사...  "
      ]
     },
     "execution_count": 137,
     "metadata": {},
     "output_type": "execute_result"
    }
   ],
   "source": [
    "df.set_index('code', inplace=True)\n",
    "df.reset_index(inplace=True)\n",
    "df.fillna('', inplace=True)\n",
    "print(df.shape)\n",
    "df.head(1)\n"
   ]
  },
  {
   "cell_type": "code",
   "execution_count": 138,
   "metadata": {},
   "outputs": [
    {
     "data": {
      "text/plain": [
       "code               0\n",
       "title              0\n",
       "genre              0\n",
       "summering          0\n",
       "first_day          0\n",
       "production_year    0\n",
       "movie_director     0\n",
       "star_actor         0\n",
       "img                0\n",
       "synopsis           0\n",
       "dtype: int64"
      ]
     },
     "execution_count": 138,
     "metadata": {},
     "output_type": "execute_result"
    }
   ],
   "source": [
    "df.isna().sum()"
   ]
  },
  {
   "cell_type": "code",
   "execution_count": 139,
   "metadata": {},
   "outputs": [
    {
     "data": {
      "text/plain": [
       "3646"
      ]
     },
     "execution_count": 139,
     "metadata": {},
     "output_type": "execute_result"
    }
   ],
   "source": [
    "m_type, m_kind, m_genre, m_time, m_rated, m_nation = [], [], [], [], [], []\n",
    "for info in df.summering.values:\n",
    "    infos = info.split('|')\n",
    "    infos_len = len(infos)\n",
    "    m_type.append(infos[0].strip())                     # 장편\n",
    "    m_kind.append(infos[1].strip())                     # 일반영화, 예술영화..\n",
    "    m_genre.append(infos[2].strip().replace(',', ''))   # 애니메이션, 드라마, 멜로\n",
    "    m_nation.append(infos[-1].strip())                  # 한국\n",
    "    \n",
    "    # 요약 정보 개수가 다를 수 있다\n",
    "    if infos_len == 6:\n",
    "        m_time.append(infos[-3].strip())                # 70분\n",
    "        m_rated.append(infos[-2].strip())\n",
    "    elif infos_len == 5 :\n",
    "        m_time.append(infos[-2].strip())                # 12세 이상 관람가\n",
    "        m_rated.append('')\n",
    "    elif infos_len == 4:\n",
    "        m_rated.append('')\n",
    "        m_time.append('')\n",
    "    else:\n",
    "        print(info)\n",
    "\n",
    "len(m_type)"
   ]
  },
  {
   "cell_type": "code",
   "execution_count": 140,
   "metadata": {},
   "outputs": [],
   "source": [
    "df['m_type'] = m_type\n",
    "df['m_kind'] = m_kind\n",
    "df['m_genre'] = m_genre\n",
    "df['m_nation'] = m_nation\n",
    "df['m_time'] = m_time\n",
    "df['m_rated'] = m_rated"
   ]
  },
  {
   "cell_type": "code",
   "execution_count": 105,
   "metadata": {},
   "outputs": [
    {
     "data": {
      "text/html": [
       "<div>\n",
       "<style scoped>\n",
       "    .dataframe tbody tr th:only-of-type {\n",
       "        vertical-align: middle;\n",
       "    }\n",
       "\n",
       "    .dataframe tbody tr th {\n",
       "        vertical-align: top;\n",
       "    }\n",
       "\n",
       "    .dataframe thead th {\n",
       "        text-align: right;\n",
       "    }\n",
       "</style>\n",
       "<table border=\"1\" class=\"dataframe\">\n",
       "  <thead>\n",
       "    <tr style=\"text-align: right;\">\n",
       "      <th></th>\n",
       "      <th>code</th>\n",
       "      <th>title</th>\n",
       "      <th>genre</th>\n",
       "      <th>summering</th>\n",
       "      <th>first_day</th>\n",
       "      <th>production_year</th>\n",
       "      <th>movie_director</th>\n",
       "      <th>star_actor</th>\n",
       "      <th>img</th>\n",
       "      <th>synopsis</th>\n",
       "      <th>m_type</th>\n",
       "      <th>m_kind</th>\n",
       "      <th>m_genre</th>\n",
       "      <th>m_nation</th>\n",
       "      <th>m_time</th>\n",
       "      <th>m_rated</th>\n",
       "    </tr>\n",
       "  </thead>\n",
       "  <tbody>\n",
       "    <tr>\n",
       "      <th>0</th>\n",
       "      <td>20210397</td>\n",
       "      <td>가가린 (Gagarine)</td>\n",
       "      <td>SF</td>\n",
       "      <td>장편 | 예술영화 | SF | 97분 57초 | 12세이상관람가 | 프랑스</td>\n",
       "      <td>2022-12-22</td>\n",
       "      <td>2020년</td>\n",
       "      <td>파니 리에타르|제레미 트루일</td>\n",
       "      <td>피네건 올드필드 | 드니 라방 | 알세니 바틸리 | 리나 쿠드리</td>\n",
       "      <td>https://www.kobis.or.kr/common/mast/movie/2022...</td>\n",
       "      <td>가가린 옥상에서 하늘을 보며 우주비행사를 꿈꾸던 10대 소년, 유리.\\n사랑하는 사...</td>\n",
       "      <td>장편</td>\n",
       "      <td>예술영화</td>\n",
       "      <td>SF</td>\n",
       "      <td>프랑스</td>\n",
       "      <td>97분 57초</td>\n",
       "      <td>12세이상관람가</td>\n",
       "    </tr>\n",
       "  </tbody>\n",
       "</table>\n",
       "</div>"
      ],
      "text/plain": [
       "       code           title genre                                  summering   \n",
       "0  20210397  가가린 (Gagarine)    SF  장편 | 예술영화 | SF | 97분 57초 | 12세이상관람가 | 프랑스  \\\n",
       "\n",
       "    first_day production_year   movie_director   \n",
       "0  2022-12-22           2020년  파니 리에타르|제레미 트루일  \\\n",
       "\n",
       "                            star_actor   \n",
       "0  피네건 올드필드 | 드니 라방 | 알세니 바틸리 | 리나 쿠드리  \\\n",
       "\n",
       "                                                 img   \n",
       "0  https://www.kobis.or.kr/common/mast/movie/2022...  \\\n",
       "\n",
       "                                            synopsis m_type m_kind m_genre   \n",
       "0  가가린 옥상에서 하늘을 보며 우주비행사를 꿈꾸던 10대 소년, 유리.\\n사랑하는 사...     장편   예술영화      SF  \\\n",
       "\n",
       "  m_nation   m_time   m_rated  \n",
       "0      프랑스  97분 57초  12세이상관람가  "
      ]
     },
     "execution_count": 105,
     "metadata": {},
     "output_type": "execute_result"
    }
   ],
   "source": [
    "df.head(1)"
   ]
  },
  {
   "cell_type": "code",
   "execution_count": null,
   "metadata": {},
   "outputs": [],
   "source": [
    "df.tail(5)"
   ]
  },
  {
   "cell_type": "code",
   "execution_count": 141,
   "metadata": {},
   "outputs": [],
   "source": [
    "indexs = df[df.summering.str.contains('멜로/로맨스') & df.summering.str.contains('청소년관람불가')].index"
   ]
  },
  {
   "cell_type": "code",
   "execution_count": 61,
   "metadata": {},
   "outputs": [
    {
     "data": {
      "text/html": [
       "<div>\n",
       "<style scoped>\n",
       "    .dataframe tbody tr th:only-of-type {\n",
       "        vertical-align: middle;\n",
       "    }\n",
       "\n",
       "    .dataframe tbody tr th {\n",
       "        vertical-align: top;\n",
       "    }\n",
       "\n",
       "    .dataframe thead th {\n",
       "        text-align: right;\n",
       "    }\n",
       "</style>\n",
       "<table border=\"1\" class=\"dataframe\">\n",
       "  <thead>\n",
       "    <tr style=\"text-align: right;\">\n",
       "      <th></th>\n",
       "      <th>code</th>\n",
       "      <th>title</th>\n",
       "      <th>genre</th>\n",
       "      <th>summering</th>\n",
       "      <th>first_day</th>\n",
       "      <th>production_year</th>\n",
       "      <th>movie_director</th>\n",
       "      <th>star_actor</th>\n",
       "      <th>img</th>\n",
       "      <th>synopsis</th>\n",
       "      <th>m_type</th>\n",
       "      <th>m_kind</th>\n",
       "      <th>m_genre</th>\n",
       "      <th>m_nation</th>\n",
       "      <th>m_time</th>\n",
       "      <th>m_rated</th>\n",
       "    </tr>\n",
       "  </thead>\n",
       "  <tbody>\n",
       "  </tbody>\n",
       "</table>\n",
       "</div>"
      ],
      "text/plain": [
       "Empty DataFrame\n",
       "Columns: [code, title, genre, summering, first_day, production_year, movie_director, star_actor, img, synopsis, m_type, m_kind, m_genre, m_nation, m_time, m_rated]\n",
       "Index: []"
      ]
     },
     "execution_count": 61,
     "metadata": {},
     "output_type": "execute_result"
    }
   ],
   "source": [
    "\n",
    "df[df.star_actor.str.find('[') >= 0]"
   ]
  },
  {
   "cell_type": "code",
   "execution_count": 160,
   "metadata": {},
   "outputs": [
    {
     "data": {
      "text/plain": [
       "Index([  33,   39,  122,  125,  126,  127,  128,  129,  130,  131,\n",
       "       ...\n",
       "       2383, 2401, 2408, 2411, 2420, 2449, 2468, 2568, 2606, 2642],\n",
       "      dtype='int64', length=207)"
      ]
     },
     "execution_count": 160,
     "metadata": {},
     "output_type": "execute_result"
    }
   ],
   "source": [
    "# 감독 자리에 다른 값들이 들어갔다. 주연 배우 자리에는 데이터가 없고\n",
    "# 잘못 처리했다. 일단 감독이 이상한 것은 지우고 테스트\n",
    "indexs = df[df.movie_director.str.find('[') >= 0].index\n",
    "indexs"
   ]
  },
  {
   "cell_type": "code",
   "execution_count": 142,
   "metadata": {},
   "outputs": [],
   "source": [
    "df.drop(df.index[indexs], inplace=True)\n",
    "df.set_index('code', inplace=True)\n",
    "df.reset_index(inplace=True)"
   ]
  },
  {
   "cell_type": "code",
   "execution_count": 143,
   "metadata": {},
   "outputs": [
    {
     "data": {
      "text/plain": [
       "(2746, 16)"
      ]
     },
     "execution_count": 143,
     "metadata": {},
     "output_type": "execute_result"
    }
   ],
   "source": [
    "df.shape"
   ]
  },
  {
   "cell_type": "code",
   "execution_count": 84,
   "metadata": {},
   "outputs": [],
   "source": [
    "for index in df[df.movie_director.str.find('[') >= 0].index:\n",
    "    df.iloc[index, 6] = ''"
   ]
  },
  {
   "attachments": {},
   "cell_type": "markdown",
   "metadata": {},
   "source": [
    "##### 시놉시스 형태소 분석해 놓기"
   ]
  },
  {
   "cell_type": "code",
   "execution_count": 144,
   "metadata": {},
   "outputs": [],
   "source": [
    "from konlpy.tag import Okt\n",
    "okt = Okt()\n",
    "stop_words = '''의 가 에 과 을 의 를 는 이 은 한편 와 \n",
    "            '''.split()"
   ]
  },
  {
   "cell_type": "code",
   "execution_count": 145,
   "metadata": {},
   "outputs": [],
   "source": [
    "import re, string\n",
    "\n",
    "morphs = []\n",
    "\n",
    "for text in df.synopsis:\n",
    "    text = re.sub('['+string.punctuation+'\\r\\n“”‘’…]', ' ', text)\n",
    "    tokens = okt.morphs(text)\n",
    "    morphs.append(' '.join([word for word in tokens if word not in stop_words]))\n",
    "\n",
    "df['morphs'] = morphs\n"
   ]
  },
  {
   "cell_type": "code",
   "execution_count": 129,
   "metadata": {},
   "outputs": [
    {
     "data": {
      "text/html": [
       "<div>\n",
       "<style scoped>\n",
       "    .dataframe tbody tr th:only-of-type {\n",
       "        vertical-align: middle;\n",
       "    }\n",
       "\n",
       "    .dataframe tbody tr th {\n",
       "        vertical-align: top;\n",
       "    }\n",
       "\n",
       "    .dataframe thead th {\n",
       "        text-align: right;\n",
       "    }\n",
       "</style>\n",
       "<table border=\"1\" class=\"dataframe\">\n",
       "  <thead>\n",
       "    <tr style=\"text-align: right;\">\n",
       "      <th></th>\n",
       "      <th>code</th>\n",
       "      <th>title</th>\n",
       "      <th>genre</th>\n",
       "      <th>summering</th>\n",
       "      <th>first_day</th>\n",
       "      <th>production_year</th>\n",
       "      <th>movie_director</th>\n",
       "      <th>star_actor</th>\n",
       "      <th>img</th>\n",
       "      <th>synopsis</th>\n",
       "      <th>m_type</th>\n",
       "      <th>m_kind</th>\n",
       "      <th>m_genre</th>\n",
       "      <th>m_nation</th>\n",
       "      <th>m_time</th>\n",
       "      <th>m_rated</th>\n",
       "      <th>morphs</th>\n",
       "    </tr>\n",
       "  </thead>\n",
       "  <tbody>\n",
       "    <tr>\n",
       "      <th>0</th>\n",
       "      <td>20210397</td>\n",
       "      <td>가가린 (Gagarine)</td>\n",
       "      <td>SF</td>\n",
       "      <td>장편 | 예술영화 | SF | 97분 57초 | 12세이상관람가 | 프랑스</td>\n",
       "      <td>2022-12-22</td>\n",
       "      <td>2020년</td>\n",
       "      <td>파니 리에타르|제레미 트루일</td>\n",
       "      <td>피네건 올드필드 | 드니 라방 | 알세니 바틸리 | 리나 쿠드리</td>\n",
       "      <td>https://www.kobis.or.kr/common/mast/movie/2022...</td>\n",
       "      <td>가가린 옥상에서 하늘을 보며 우주비행사를 꿈꾸던 10대 소년, 유리.\\n사랑하는 사...</td>\n",
       "      <td>장편</td>\n",
       "      <td>예술영화</td>\n",
       "      <td>SF</td>\n",
       "      <td>프랑스</td>\n",
       "      <td>97분 57초</td>\n",
       "      <td>12세이상관람가</td>\n",
       "      <td>가가린 옥상 에서 하늘 보며 우주비행사 꿈꾸던 10 대 소년 유리 사랑 하는 사람 ...</td>\n",
       "    </tr>\n",
       "  </tbody>\n",
       "</table>\n",
       "</div>"
      ],
      "text/plain": [
       "       code           title genre                                  summering   \n",
       "0  20210397  가가린 (Gagarine)    SF  장편 | 예술영화 | SF | 97분 57초 | 12세이상관람가 | 프랑스  \\\n",
       "\n",
       "    first_day production_year   movie_director   \n",
       "0  2022-12-22           2020년  파니 리에타르|제레미 트루일  \\\n",
       "\n",
       "                            star_actor   \n",
       "0  피네건 올드필드 | 드니 라방 | 알세니 바틸리 | 리나 쿠드리  \\\n",
       "\n",
       "                                                 img   \n",
       "0  https://www.kobis.or.kr/common/mast/movie/2022...  \\\n",
       "\n",
       "                                            synopsis m_type m_kind m_genre   \n",
       "0  가가린 옥상에서 하늘을 보며 우주비행사를 꿈꾸던 10대 소년, 유리.\\n사랑하는 사...     장편   예술영화      SF  \\\n",
       "\n",
       "  m_nation   m_time   m_rated   \n",
       "0      프랑스  97분 57초  12세이상관람가  \\\n",
       "\n",
       "                                              morphs  \n",
       "0  가가린 옥상 에서 하늘 보며 우주비행사 꿈꾸던 10 대 소년 유리 사랑 하는 사람 ...  "
      ]
     },
     "execution_count": 129,
     "metadata": {},
     "output_type": "execute_result"
    }
   ],
   "source": [
    "df.head(1)"
   ]
  },
  {
   "cell_type": "code",
   "execution_count": 146,
   "metadata": {},
   "outputs": [],
   "source": [
    "df.to_csv('../static/data/movie_test.csv', index=False)"
   ]
  },
  {
   "cell_type": "code",
   "execution_count": null,
   "metadata": {},
   "outputs": [],
   "source": [
    "for title in df.title:\n",
    "    print(title)"
   ]
  }
 ],
 "metadata": {
  "kernelspec": {
   "display_name": "base",
   "language": "python",
   "name": "python3"
  },
  "language_info": {
   "codemirror_mode": {
    "name": "ipython",
    "version": 3
   },
   "file_extension": ".py",
   "mimetype": "text/x-python",
   "name": "python",
   "nbconvert_exporter": "python",
   "pygments_lexer": "ipython3",
   "version": "3.10.10"
  },
  "orig_nbformat": 4
 },
 "nbformat": 4,
 "nbformat_minor": 2
}
