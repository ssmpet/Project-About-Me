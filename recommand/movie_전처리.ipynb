{
 "cells": [
  {
   "cell_type": "code",
   "execution_count": 1,
   "metadata": {},
   "outputs": [],
   "source": [
    "import numpy as np\n",
    "import pandas as pd"
   ]
  },
  {
   "cell_type": "code",
   "execution_count": 2,
   "metadata": {},
   "outputs": [],
   "source": [
    "fname = '가 나 다 라 마 바 사 아 자 차 카 타 파 하 A B C D E F G H I J K L M N O P Q R S T U V W X Y Z'.split()"
   ]
  },
  {
   "cell_type": "code",
   "execution_count": 3,
   "metadata": {},
   "outputs": [
    {
     "data": {
      "text/plain": [
       "(2960, 10)"
      ]
     },
     "execution_count": 3,
     "metadata": {},
     "output_type": "execute_result"
    }
   ],
   "source": [
    "df = pd.DataFrame()\n",
    "for fn in fname:\n",
    "    try:\n",
    "        tmp = pd.read_csv(f'../static/data/movie{fn}.csv')\n",
    "    except:\n",
    "        continue\n",
    "    df = pd.concat([df, tmp])\n",
    "df.shape"
   ]
  },
  {
   "cell_type": "code",
   "execution_count": 4,
   "metadata": {},
   "outputs": [
    {
     "data": {
      "text/html": [
       "<div>\n",
       "<style scoped>\n",
       "    .dataframe tbody tr th:only-of-type {\n",
       "        vertical-align: middle;\n",
       "    }\n",
       "\n",
       "    .dataframe tbody tr th {\n",
       "        vertical-align: top;\n",
       "    }\n",
       "\n",
       "    .dataframe thead th {\n",
       "        text-align: right;\n",
       "    }\n",
       "</style>\n",
       "<table border=\"1\" class=\"dataframe\">\n",
       "  <thead>\n",
       "    <tr style=\"text-align: right;\">\n",
       "      <th></th>\n",
       "      <th>code</th>\n",
       "      <th>title</th>\n",
       "      <th>genre</th>\n",
       "      <th>summering</th>\n",
       "      <th>first_day</th>\n",
       "      <th>production_year</th>\n",
       "      <th>movie_director</th>\n",
       "      <th>star_actor</th>\n",
       "      <th>img</th>\n",
       "      <th>synopsis</th>\n",
       "    </tr>\n",
       "  </thead>\n",
       "  <tbody>\n",
       "    <tr>\n",
       "      <th>0</th>\n",
       "      <td>20231523</td>\n",
       "      <td>그 여름 (The Summer)</td>\n",
       "      <td>애니메이션(2)</td>\n",
       "      <td>장편 | 예술,독립 영화 | 애니메이션, 드라마, 멜로/로맨스 | 60분 57초 |...</td>\n",
       "      <td>2023-06-07</td>\n",
       "      <td>2023년</td>\n",
       "      <td>한지원</td>\n",
       "      <td>윤아영 | 송하림</td>\n",
       "      <td>https://www.kobis.or.kr/common/mast/movie/2023...</td>\n",
       "      <td>\"서로의 몸은 차라리 꽃잎과 물결에 가까웠다\"\\n갈색 눈동자를 가진 평범한 학생 '...</td>\n",
       "    </tr>\n",
       "  </tbody>\n",
       "</table>\n",
       "</div>"
      ],
      "text/plain": [
       "       code              title     genre   \n",
       "0  20231523  그 여름 (The Summer)  애니메이션(2)  \\\n",
       "\n",
       "                                           summering   first_day   \n",
       "0  장편 | 예술,독립 영화 | 애니메이션, 드라마, 멜로/로맨스 | 60분 57초 |...  2023-06-07  \\\n",
       "\n",
       "  production_year movie_director star_actor   \n",
       "0           2023년            한지원  윤아영 | 송하림  \\\n",
       "\n",
       "                                                 img   \n",
       "0  https://www.kobis.or.kr/common/mast/movie/2023...  \\\n",
       "\n",
       "                                            synopsis  \n",
       "0  \"서로의 몸은 차라리 꽃잎과 물결에 가까웠다\"\\n갈색 눈동자를 가진 평범한 학생 '...  "
      ]
     },
     "execution_count": 4,
     "metadata": {},
     "output_type": "execute_result"
    }
   ],
   "source": [
    "df.head(1)"
   ]
  },
  {
   "cell_type": "code",
   "execution_count": 4,
   "metadata": {},
   "outputs": [
    {
     "name": "stdout",
     "output_type": "stream",
     "text": [
      "(2960, 10)\n"
     ]
    },
    {
     "data": {
      "text/html": [
       "<div>\n",
       "<style scoped>\n",
       "    .dataframe tbody tr th:only-of-type {\n",
       "        vertical-align: middle;\n",
       "    }\n",
       "\n",
       "    .dataframe tbody tr th {\n",
       "        vertical-align: top;\n",
       "    }\n",
       "\n",
       "    .dataframe thead th {\n",
       "        text-align: right;\n",
       "    }\n",
       "</style>\n",
       "<table border=\"1\" class=\"dataframe\">\n",
       "  <thead>\n",
       "    <tr style=\"text-align: right;\">\n",
       "      <th></th>\n",
       "      <th>code</th>\n",
       "      <th>title</th>\n",
       "      <th>genre</th>\n",
       "      <th>summering</th>\n",
       "      <th>first_day</th>\n",
       "      <th>production_year</th>\n",
       "      <th>movie_director</th>\n",
       "      <th>star_actor</th>\n",
       "      <th>img</th>\n",
       "      <th>synopsis</th>\n",
       "    </tr>\n",
       "  </thead>\n",
       "  <tbody>\n",
       "    <tr>\n",
       "      <th>0</th>\n",
       "      <td>20231523</td>\n",
       "      <td>그 여름 (The Summer)</td>\n",
       "      <td>애니메이션(2)</td>\n",
       "      <td>장편 | 예술,독립 영화 | 애니메이션, 드라마, 멜로/로맨스 | 60분 57초 |...</td>\n",
       "      <td>2023-06-07</td>\n",
       "      <td>2023년</td>\n",
       "      <td>한지원</td>\n",
       "      <td>윤아영 | 송하림</td>\n",
       "      <td>https://www.kobis.or.kr/common/mast/movie/2023...</td>\n",
       "      <td>\"서로의 몸은 차라리 꽃잎과 물결에 가까웠다\"\\r\\n갈색 눈동자를 가진 평범한 학생...</td>\n",
       "    </tr>\n",
       "  </tbody>\n",
       "</table>\n",
       "</div>"
      ],
      "text/plain": [
       "       code              title     genre  \\\n",
       "0  20231523  그 여름 (The Summer)  애니메이션(2)   \n",
       "\n",
       "                                           summering   first_day  \\\n",
       "0  장편 | 예술,독립 영화 | 애니메이션, 드라마, 멜로/로맨스 | 60분 57초 |...  2023-06-07   \n",
       "\n",
       "  production_year movie_director star_actor  \\\n",
       "0           2023년            한지원  윤아영 | 송하림   \n",
       "\n",
       "                                                 img  \\\n",
       "0  https://www.kobis.or.kr/common/mast/movie/2023...   \n",
       "\n",
       "                                            synopsis  \n",
       "0  \"서로의 몸은 차라리 꽃잎과 물결에 가까웠다\"\\r\\n갈색 눈동자를 가진 평범한 학생...  "
      ]
     },
     "execution_count": 4,
     "metadata": {},
     "output_type": "execute_result"
    }
   ],
   "source": [
    "df.set_index('code', inplace=True)\n",
    "df.reset_index(inplace=True)\n",
    "df.fillna('', inplace=True)\n",
    "print(df.shape)\n",
    "df.head(1)\n"
   ]
  },
  {
   "cell_type": "code",
   "execution_count": 6,
   "metadata": {},
   "outputs": [
    {
     "data": {
      "text/plain": [
       "code               0\n",
       "title              0\n",
       "genre              0\n",
       "summering          0\n",
       "first_day          0\n",
       "production_year    0\n",
       "movie_director     0\n",
       "star_actor         0\n",
       "img                0\n",
       "synopsis           0\n",
       "dtype: int64"
      ]
     },
     "execution_count": 6,
     "metadata": {},
     "output_type": "execute_result"
    }
   ],
   "source": [
    "df.isna().sum()"
   ]
  },
  {
   "cell_type": "code",
   "execution_count": 6,
   "metadata": {},
   "outputs": [
    {
     "data": {
      "text/plain": [
       "2960"
      ]
     },
     "execution_count": 6,
     "metadata": {},
     "output_type": "execute_result"
    }
   ],
   "source": [
    "m_type, m_kind, m_genre, m_time, m_rated, m_nation = [], [], [], [], [], []\n",
    "for info in df.summering.values:\n",
    "    infos = info.split('|')\n",
    "    infos_len = len(infos)\n",
    "    m_type.append(infos[0].strip())                     # 장편\n",
    "    m_kind.append(infos[1].strip())                     # 일반영화, 예술영화..\n",
    "    m_genre.append(infos[2].strip().replace(',', ''))   # 애니메이션, 드라마, 멜로\n",
    "    m_nation.append(infos[-1].strip())                  # 한국\n",
    "    \n",
    "    # 요약 정보 개수가 다를 수 있다\n",
    "    if infos_len == 6:\n",
    "        m_time.append(infos[-3].strip())                # 70분\n",
    "        m_rated.append(infos[-2].strip())\n",
    "    elif infos_len == 5 :\n",
    "        m_time.append(infos[-2].strip())                # 12세 이상 관람가\n",
    "        m_rated.append('')\n",
    "    elif infos_len == 4:\n",
    "        m_rated.append('')\n",
    "        m_time.append('')\n",
    "    else:\n",
    "        print(info)\n",
    "\n",
    "len(m_type)"
   ]
  },
  {
   "cell_type": "code",
   "execution_count": 7,
   "metadata": {},
   "outputs": [],
   "source": [
    "df['m_type'] = m_type\n",
    "df['m_kind'] = m_kind\n",
    "df['m_genre'] = m_genre\n",
    "df['m_nation'] = m_nation\n",
    "df['m_time'] = m_time\n",
    "df['m_rated'] = m_rated"
   ]
  },
  {
   "cell_type": "code",
   "execution_count": 9,
   "metadata": {},
   "outputs": [
    {
     "data": {
      "text/html": [
       "<div>\n",
       "<style scoped>\n",
       "    .dataframe tbody tr th:only-of-type {\n",
       "        vertical-align: middle;\n",
       "    }\n",
       "\n",
       "    .dataframe tbody tr th {\n",
       "        vertical-align: top;\n",
       "    }\n",
       "\n",
       "    .dataframe thead th {\n",
       "        text-align: right;\n",
       "    }\n",
       "</style>\n",
       "<table border=\"1\" class=\"dataframe\">\n",
       "  <thead>\n",
       "    <tr style=\"text-align: right;\">\n",
       "      <th></th>\n",
       "      <th>code</th>\n",
       "      <th>title</th>\n",
       "      <th>genre</th>\n",
       "      <th>summering</th>\n",
       "      <th>first_day</th>\n",
       "      <th>production_year</th>\n",
       "      <th>movie_director</th>\n",
       "      <th>star_actor</th>\n",
       "      <th>img</th>\n",
       "      <th>synopsis</th>\n",
       "      <th>m_type</th>\n",
       "      <th>m_kind</th>\n",
       "      <th>m_genre</th>\n",
       "      <th>m_nation</th>\n",
       "      <th>m_time</th>\n",
       "      <th>m_rated</th>\n",
       "    </tr>\n",
       "  </thead>\n",
       "  <tbody>\n",
       "    <tr>\n",
       "      <th>0</th>\n",
       "      <td>20231523</td>\n",
       "      <td>그 여름 (The Summer)</td>\n",
       "      <td>애니메이션(2)</td>\n",
       "      <td>장편 | 예술,독립 영화 | 애니메이션, 드라마, 멜로/로맨스 | 60분 57초 |...</td>\n",
       "      <td>2023-06-07</td>\n",
       "      <td>2023년</td>\n",
       "      <td>한지원</td>\n",
       "      <td>윤아영 | 송하림</td>\n",
       "      <td>https://www.kobis.or.kr/common/mast/movie/2023...</td>\n",
       "      <td>\"서로의 몸은 차라리 꽃잎과 물결에 가까웠다\"\\n갈색 눈동자를 가진 평범한 학생 '...</td>\n",
       "      <td>장편</td>\n",
       "      <td>예술,독립 영화</td>\n",
       "      <td>애니메이션 드라마 멜로/로맨스</td>\n",
       "      <td>한국</td>\n",
       "      <td>60분 57초</td>\n",
       "      <td>12세이상관람가</td>\n",
       "    </tr>\n",
       "  </tbody>\n",
       "</table>\n",
       "</div>"
      ],
      "text/plain": [
       "       code              title     genre   \n",
       "0  20231523  그 여름 (The Summer)  애니메이션(2)  \\\n",
       "\n",
       "                                           summering   first_day   \n",
       "0  장편 | 예술,독립 영화 | 애니메이션, 드라마, 멜로/로맨스 | 60분 57초 |...  2023-06-07  \\\n",
       "\n",
       "  production_year movie_director star_actor   \n",
       "0           2023년            한지원  윤아영 | 송하림  \\\n",
       "\n",
       "                                                 img   \n",
       "0  https://www.kobis.or.kr/common/mast/movie/2023...  \\\n",
       "\n",
       "                                            synopsis m_type    m_kind   \n",
       "0  \"서로의 몸은 차라리 꽃잎과 물결에 가까웠다\"\\n갈색 눈동자를 가진 평범한 학생 '...     장편  예술,독립 영화  \\\n",
       "\n",
       "            m_genre m_nation   m_time   m_rated  \n",
       "0  애니메이션 드라마 멜로/로맨스       한국  60분 57초  12세이상관람가  "
      ]
     },
     "execution_count": 9,
     "metadata": {},
     "output_type": "execute_result"
    }
   ],
   "source": [
    "df.head(1)"
   ]
  },
  {
   "cell_type": "code",
   "execution_count": null,
   "metadata": {},
   "outputs": [],
   "source": [
    "df.tail(5)"
   ]
  },
  {
   "cell_type": "code",
   "execution_count": 8,
   "metadata": {},
   "outputs": [
    {
     "data": {
      "text/plain": [
       "Int64Index([], dtype='int64')"
      ]
     },
     "execution_count": 8,
     "metadata": {},
     "output_type": "execute_result"
    }
   ],
   "source": [
    "indexs = df[df.summering.str.contains('멜로/로맨스') & df.summering.str.contains('청소년관람불가')].index\n",
    "indexs"
   ]
  },
  {
   "cell_type": "code",
   "execution_count": 9,
   "metadata": {},
   "outputs": [
    {
     "data": {
      "text/html": [
       "<div>\n",
       "<style scoped>\n",
       "    .dataframe tbody tr th:only-of-type {\n",
       "        vertical-align: middle;\n",
       "    }\n",
       "\n",
       "    .dataframe tbody tr th {\n",
       "        vertical-align: top;\n",
       "    }\n",
       "\n",
       "    .dataframe thead th {\n",
       "        text-align: right;\n",
       "    }\n",
       "</style>\n",
       "<table border=\"1\" class=\"dataframe\">\n",
       "  <thead>\n",
       "    <tr style=\"text-align: right;\">\n",
       "      <th></th>\n",
       "      <th>code</th>\n",
       "      <th>title</th>\n",
       "      <th>genre</th>\n",
       "      <th>summering</th>\n",
       "      <th>first_day</th>\n",
       "      <th>production_year</th>\n",
       "      <th>movie_director</th>\n",
       "      <th>star_actor</th>\n",
       "      <th>img</th>\n",
       "      <th>synopsis</th>\n",
       "      <th>m_type</th>\n",
       "      <th>m_kind</th>\n",
       "      <th>m_genre</th>\n",
       "      <th>m_nation</th>\n",
       "      <th>m_time</th>\n",
       "      <th>m_rated</th>\n",
       "    </tr>\n",
       "  </thead>\n",
       "  <tbody>\n",
       "  </tbody>\n",
       "</table>\n",
       "</div>"
      ],
      "text/plain": [
       "Empty DataFrame\n",
       "Columns: [code, title, genre, summering, first_day, production_year, movie_director, star_actor, img, synopsis, m_type, m_kind, m_genre, m_nation, m_time, m_rated]\n",
       "Index: []"
      ]
     },
     "execution_count": 9,
     "metadata": {},
     "output_type": "execute_result"
    }
   ],
   "source": [
    "\n",
    "df[df.star_actor.str.find('[') >= 0]"
   ]
  },
  {
   "cell_type": "code",
   "execution_count": 13,
   "metadata": {},
   "outputs": [
    {
     "data": {
      "text/plain": [
       "Index([], dtype='int64')"
      ]
     },
     "execution_count": 13,
     "metadata": {},
     "output_type": "execute_result"
    }
   ],
   "source": [
    "# 감독 자리에 다른 값들이 들어갔다. 주연 배우 자리에는 데이터가 없고\n",
    "# 잘못 처리했다. 일단 감독이 이상한 것은 지우고 테스트\n",
    "indexs = df[df.movie_director.str.find('[') >= 0].index\n",
    "indexs"
   ]
  },
  {
   "cell_type": "code",
   "execution_count": 142,
   "metadata": {},
   "outputs": [],
   "source": [
    "df.drop(df.index[indexs], inplace=True)\n",
    "df.set_index('code', inplace=True)\n",
    "df.reset_index(inplace=True)"
   ]
  },
  {
   "cell_type": "code",
   "execution_count": 143,
   "metadata": {},
   "outputs": [
    {
     "data": {
      "text/plain": [
       "(2746, 16)"
      ]
     },
     "execution_count": 143,
     "metadata": {},
     "output_type": "execute_result"
    }
   ],
   "source": [
    "df.shape"
   ]
  },
  {
   "attachments": {},
   "cell_type": "markdown",
   "metadata": {},
   "source": [
    "##### 시놉시스 형태소 분석해 놓기"
   ]
  },
  {
   "cell_type": "code",
   "execution_count": 10,
   "metadata": {},
   "outputs": [],
   "source": [
    "from konlpy.tag import Okt\n",
    "okt = Okt()\n",
    "stop_words = '''의 가 에 과 을 의 를 는 이 은 와 \n",
    "            '''.split()"
   ]
  },
  {
   "cell_type": "code",
   "execution_count": 11,
   "metadata": {},
   "outputs": [],
   "source": [
    "import re, string\n",
    "\n",
    "morphs = []\n",
    "\n",
    "for text in df.synopsis:\n",
    "    text = re.sub('['+string.punctuation+'\\r\\n“”‘’…]', ' ', text)\n",
    "    tokens = okt.morphs(text)\n",
    "    morphs.append(' '.join([word for word in tokens if word not in stop_words]))\n",
    "\n",
    "df['morphs'] = morphs\n"
   ]
  },
  {
   "cell_type": "code",
   "execution_count": 12,
   "metadata": {},
   "outputs": [
    {
     "data": {
      "text/html": [
       "<div>\n",
       "<style scoped>\n",
       "    .dataframe tbody tr th:only-of-type {\n",
       "        vertical-align: middle;\n",
       "    }\n",
       "\n",
       "    .dataframe tbody tr th {\n",
       "        vertical-align: top;\n",
       "    }\n",
       "\n",
       "    .dataframe thead th {\n",
       "        text-align: right;\n",
       "    }\n",
       "</style>\n",
       "<table border=\"1\" class=\"dataframe\">\n",
       "  <thead>\n",
       "    <tr style=\"text-align: right;\">\n",
       "      <th></th>\n",
       "      <th>code</th>\n",
       "      <th>title</th>\n",
       "      <th>genre</th>\n",
       "      <th>summering</th>\n",
       "      <th>first_day</th>\n",
       "      <th>production_year</th>\n",
       "      <th>movie_director</th>\n",
       "      <th>star_actor</th>\n",
       "      <th>img</th>\n",
       "      <th>synopsis</th>\n",
       "      <th>m_type</th>\n",
       "      <th>m_kind</th>\n",
       "      <th>m_genre</th>\n",
       "      <th>m_nation</th>\n",
       "      <th>m_time</th>\n",
       "      <th>m_rated</th>\n",
       "      <th>morphs</th>\n",
       "    </tr>\n",
       "  </thead>\n",
       "  <tbody>\n",
       "    <tr>\n",
       "      <th>0</th>\n",
       "      <td>20231523</td>\n",
       "      <td>그 여름 (The Summer)</td>\n",
       "      <td>애니메이션(2)</td>\n",
       "      <td>장편 | 예술,독립 영화 | 애니메이션, 드라마, 멜로/로맨스 | 60분 57초 |...</td>\n",
       "      <td>2023-06-07</td>\n",
       "      <td>2023년</td>\n",
       "      <td>한지원</td>\n",
       "      <td>윤아영 | 송하림</td>\n",
       "      <td>https://www.kobis.or.kr/common/mast/movie/2023...</td>\n",
       "      <td>\"서로의 몸은 차라리 꽃잎과 물결에 가까웠다\"\\r\\n갈색 눈동자를 가진 평범한 학생...</td>\n",
       "      <td>장편</td>\n",
       "      <td>예술,독립 영화</td>\n",
       "      <td>애니메이션 드라마 멜로/로맨스</td>\n",
       "      <td>한국</td>\n",
       "      <td>60분 57초</td>\n",
       "      <td>12세이상관람가</td>\n",
       "      <td>서로 몸 차라리 꽃잎 물결 가까웠다 갈색 눈동자 가진 평범한 학생 이경 여름 햇살 ...</td>\n",
       "    </tr>\n",
       "  </tbody>\n",
       "</table>\n",
       "</div>"
      ],
      "text/plain": [
       "       code              title     genre  \\\n",
       "0  20231523  그 여름 (The Summer)  애니메이션(2)   \n",
       "\n",
       "                                           summering   first_day  \\\n",
       "0  장편 | 예술,독립 영화 | 애니메이션, 드라마, 멜로/로맨스 | 60분 57초 |...  2023-06-07   \n",
       "\n",
       "  production_year movie_director star_actor  \\\n",
       "0           2023년            한지원  윤아영 | 송하림   \n",
       "\n",
       "                                                 img  \\\n",
       "0  https://www.kobis.or.kr/common/mast/movie/2023...   \n",
       "\n",
       "                                            synopsis m_type    m_kind  \\\n",
       "0  \"서로의 몸은 차라리 꽃잎과 물결에 가까웠다\"\\r\\n갈색 눈동자를 가진 평범한 학생...     장편  예술,독립 영화   \n",
       "\n",
       "            m_genre m_nation   m_time   m_rated  \\\n",
       "0  애니메이션 드라마 멜로/로맨스       한국  60분 57초  12세이상관람가   \n",
       "\n",
       "                                              morphs  \n",
       "0  서로 몸 차라리 꽃잎 물결 가까웠다 갈색 눈동자 가진 평범한 학생 이경 여름 햇살 ...  "
      ]
     },
     "execution_count": 12,
     "metadata": {},
     "output_type": "execute_result"
    }
   ],
   "source": [
    "df.head(1)"
   ]
  },
  {
   "cell_type": "code",
   "execution_count": 13,
   "metadata": {},
   "outputs": [],
   "source": [
    "df.to_csv('../static/data/movie_test.csv', index=False)"
   ]
  },
  {
   "cell_type": "code",
   "execution_count": null,
   "metadata": {},
   "outputs": [],
   "source": [
    "for title in df.title:\n",
    "    print(title)"
   ]
  }
 ],
 "metadata": {
  "kernelspec": {
   "display_name": "base",
   "language": "python",
   "name": "python3"
  },
  "language_info": {
   "codemirror_mode": {
    "name": "ipython",
    "version": 3
   },
   "file_extension": ".py",
   "mimetype": "text/x-python",
   "name": "python",
   "nbconvert_exporter": "python",
   "pygments_lexer": "ipython3",
   "version": "3.9.13"
  },
  "orig_nbformat": 4
 },
 "nbformat": 4,
 "nbformat_minor": 2
}
