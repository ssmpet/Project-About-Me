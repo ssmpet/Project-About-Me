{
 "cells": [
  {
   "cell_type": "code",
   "execution_count": 1,
   "metadata": {},
   "outputs": [],
   "source": [
    "import numpy as np\n",
    "import pandas as pd"
   ]
  },
  {
   "cell_type": "code",
   "execution_count": 147,
   "metadata": {},
   "outputs": [
    {
     "name": "stdout",
     "output_type": "stream",
     "text": [
      "(2673, 10)\n"
     ]
    },
    {
     "data": {
      "text/html": [
       "<div>\n",
       "<style scoped>\n",
       "    .dataframe tbody tr th:only-of-type {\n",
       "        vertical-align: middle;\n",
       "    }\n",
       "\n",
       "    .dataframe tbody tr th {\n",
       "        vertical-align: top;\n",
       "    }\n",
       "\n",
       "    .dataframe thead th {\n",
       "        text-align: right;\n",
       "    }\n",
       "</style>\n",
       "<table border=\"1\" class=\"dataframe\">\n",
       "  <thead>\n",
       "    <tr style=\"text-align: right;\">\n",
       "      <th></th>\n",
       "      <th>code</th>\n",
       "      <th>title</th>\n",
       "      <th>genre</th>\n",
       "      <th>summering</th>\n",
       "      <th>first_day</th>\n",
       "      <th>production_year</th>\n",
       "      <th>movie_director</th>\n",
       "      <th>star_actor</th>\n",
       "      <th>img</th>\n",
       "      <th>synopsis</th>\n",
       "    </tr>\n",
       "  </thead>\n",
       "  <tbody>\n",
       "    <tr>\n",
       "      <th>0</th>\n",
       "      <td>20232561</td>\n",
       "      <td>몸값part.2 (Bargain part.2)</td>\n",
       "      <td>스릴러</td>\n",
       "      <td>장편 | 일반영화 | 스릴러 | 105분 13초 | 청소년관람불가 | 한국</td>\n",
       "      <td>2023-07-05</td>\n",
       "      <td>2022년</td>\n",
       "      <td>전우성</td>\n",
       "      <td>NaN</td>\n",
       "      <td>https://www.kobis.or.kr/common/mast/movie/2023...</td>\n",
       "      <td>무너진 세상, 폭발하는 광기\\n미친 자들의 목숨을 건 거래가 시작된다!\\n\\n서로의...</td>\n",
       "    </tr>\n",
       "  </tbody>\n",
       "</table>\n",
       "</div>"
      ],
      "text/plain": [
       "       code                      title genre   \n",
       "0  20232561  몸값part.2 (Bargain part.2)   스릴러  \\\n",
       "\n",
       "                                   summering   first_day production_year   \n",
       "0  장편 | 일반영화 | 스릴러 | 105분 13초 | 청소년관람불가 | 한국  2023-07-05           2022년  \\\n",
       "\n",
       "  movie_director  star_actor   \n",
       "0            전우성         NaN  \\\n",
       "\n",
       "                                                 img   \n",
       "0  https://www.kobis.or.kr/common/mast/movie/2023...  \\\n",
       "\n",
       "                                            synopsis  \n",
       "0  무너진 세상, 폭발하는 광기\\n미친 자들의 목숨을 건 거래가 시작된다!\\n\\n서로의...  "
      ]
     },
     "execution_count": 147,
     "metadata": {},
     "output_type": "execute_result"
    }
   ],
   "source": [
    "df = pd.read_csv('../static/data/movie01.csv')\n",
    "# df2 = pd.read_csv('../static/data/test02.csv')\n",
    "# print(df.shape, df2.shape)\n",
    "# df = pd.concat([df, df2])\n",
    "# df.set_index('code', inplace=True)\n",
    "# df.reset_index(inplace=True)\n",
    "print(df.shape)\n",
    "df.head(1)\n"
   ]
  },
  {
   "cell_type": "code",
   "execution_count": 148,
   "metadata": {},
   "outputs": [
    {
     "data": {
      "text/plain": [
       "2673"
      ]
     },
     "execution_count": 148,
     "metadata": {},
     "output_type": "execute_result"
    }
   ],
   "source": [
    "m_type, m_kind, m_genre, m_time, m_rated, m_nation = [], [], [], [], [], []\n",
    "for info in df.summering.values:\n",
    "    infos = info.split('|')\n",
    "    infos_len = len(infos)\n",
    "    m_type.append(infos[0].strip())                     # 장편\n",
    "    m_kind.append(infos[1].strip())                     # 일반영화, 예술영화..\n",
    "    m_genre.append(infos[2].strip().replace(',', ''))   # 애니메이션, 드라마, 멜로\n",
    "    m_nation.append(infos[-1].strip())                  # 한국\n",
    "    \n",
    "    # 요약 정보 개수가 다를 수 있다\n",
    "    if infos_len == 6:\n",
    "        m_time.append(infos[-3].strip())                # 70분\n",
    "        m_rated.append(infos[-2].strip())\n",
    "    elif infos_len == 5 :\n",
    "        m_time.append(infos[-2].strip())               # 12세 이상 관람가\n",
    "        m_rated.append('')\n",
    "    elif infos_len == 4:\n",
    "        m_rated.append('')\n",
    "        m_time.append('')\n",
    "    else:\n",
    "        print(info)\n",
    "\n",
    "len(m_type)"
   ]
  },
  {
   "cell_type": "code",
   "execution_count": 149,
   "metadata": {},
   "outputs": [],
   "source": [
    "df['m_type'] = m_type\n",
    "df['m_kind'] = m_kind\n",
    "df['m_genre'] = m_genre\n",
    "df['m_nation'] = m_nation\n",
    "df['m_time'] = m_time\n",
    "df['m_rated'] = m_rated"
   ]
  },
  {
   "cell_type": "code",
   "execution_count": 150,
   "metadata": {},
   "outputs": [
    {
     "data": {
      "text/html": [
       "<div>\n",
       "<style scoped>\n",
       "    .dataframe tbody tr th:only-of-type {\n",
       "        vertical-align: middle;\n",
       "    }\n",
       "\n",
       "    .dataframe tbody tr th {\n",
       "        vertical-align: top;\n",
       "    }\n",
       "\n",
       "    .dataframe thead th {\n",
       "        text-align: right;\n",
       "    }\n",
       "</style>\n",
       "<table border=\"1\" class=\"dataframe\">\n",
       "  <thead>\n",
       "    <tr style=\"text-align: right;\">\n",
       "      <th></th>\n",
       "      <th>code</th>\n",
       "      <th>title</th>\n",
       "      <th>genre</th>\n",
       "      <th>summering</th>\n",
       "      <th>first_day</th>\n",
       "      <th>production_year</th>\n",
       "      <th>movie_director</th>\n",
       "      <th>star_actor</th>\n",
       "      <th>img</th>\n",
       "      <th>synopsis</th>\n",
       "      <th>m_type</th>\n",
       "      <th>m_kind</th>\n",
       "      <th>m_genre</th>\n",
       "      <th>m_nation</th>\n",
       "      <th>m_time</th>\n",
       "      <th>m_rated</th>\n",
       "    </tr>\n",
       "  </thead>\n",
       "  <tbody>\n",
       "    <tr>\n",
       "      <th>0</th>\n",
       "      <td>20232561</td>\n",
       "      <td>몸값part.2 (Bargain part.2)</td>\n",
       "      <td>스릴러</td>\n",
       "      <td>장편 | 일반영화 | 스릴러 | 105분 13초 | 청소년관람불가 | 한국</td>\n",
       "      <td>2023-07-05</td>\n",
       "      <td>2022년</td>\n",
       "      <td>전우성</td>\n",
       "      <td>NaN</td>\n",
       "      <td>https://www.kobis.or.kr/common/mast/movie/2023...</td>\n",
       "      <td>무너진 세상, 폭발하는 광기\\n미친 자들의 목숨을 건 거래가 시작된다!\\n\\n서로의...</td>\n",
       "      <td>장편</td>\n",
       "      <td>일반영화</td>\n",
       "      <td>스릴러</td>\n",
       "      <td>한국</td>\n",
       "      <td>105분 13초</td>\n",
       "      <td>청소년관람불가</td>\n",
       "    </tr>\n",
       "  </tbody>\n",
       "</table>\n",
       "</div>"
      ],
      "text/plain": [
       "       code                      title genre   \n",
       "0  20232561  몸값part.2 (Bargain part.2)   스릴러  \\\n",
       "\n",
       "                                   summering   first_day production_year   \n",
       "0  장편 | 일반영화 | 스릴러 | 105분 13초 | 청소년관람불가 | 한국  2023-07-05           2022년  \\\n",
       "\n",
       "  movie_director  star_actor   \n",
       "0            전우성         NaN  \\\n",
       "\n",
       "                                                 img   \n",
       "0  https://www.kobis.or.kr/common/mast/movie/2023...  \\\n",
       "\n",
       "                                            synopsis m_type m_kind m_genre   \n",
       "0  무너진 세상, 폭발하는 광기\\n미친 자들의 목숨을 건 거래가 시작된다!\\n\\n서로의...     장편   일반영화     스릴러  \\\n",
       "\n",
       "  m_nation    m_time  m_rated  \n",
       "0       한국  105분 13초  청소년관람불가  "
      ]
     },
     "execution_count": 150,
     "metadata": {},
     "output_type": "execute_result"
    }
   ],
   "source": [
    "df.head(1)"
   ]
  },
  {
   "cell_type": "code",
   "execution_count": 152,
   "metadata": {},
   "outputs": [
    {
     "data": {
      "text/plain": [
       "code                  0\n",
       "title                 0\n",
       "genre                 0\n",
       "summering             0\n",
       "first_day             0\n",
       "production_year       0\n",
       "movie_director      768\n",
       "star_actor         2673\n",
       "img                   0\n",
       "synopsis              0\n",
       "m_type                0\n",
       "m_kind                0\n",
       "m_genre               0\n",
       "m_nation              0\n",
       "m_time                0\n",
       "m_rated               0\n",
       "dtype: int64"
      ]
     },
     "execution_count": 152,
     "metadata": {},
     "output_type": "execute_result"
    }
   ],
   "source": [
    "df.isna().sum()"
   ]
  },
  {
   "cell_type": "code",
   "execution_count": 151,
   "metadata": {},
   "outputs": [
    {
     "data": {
      "text/html": [
       "<div>\n",
       "<style scoped>\n",
       "    .dataframe tbody tr th:only-of-type {\n",
       "        vertical-align: middle;\n",
       "    }\n",
       "\n",
       "    .dataframe tbody tr th {\n",
       "        vertical-align: top;\n",
       "    }\n",
       "\n",
       "    .dataframe thead th {\n",
       "        text-align: right;\n",
       "    }\n",
       "</style>\n",
       "<table border=\"1\" class=\"dataframe\">\n",
       "  <thead>\n",
       "    <tr style=\"text-align: right;\">\n",
       "      <th></th>\n",
       "      <th>code</th>\n",
       "      <th>title</th>\n",
       "      <th>genre</th>\n",
       "      <th>summering</th>\n",
       "      <th>first_day</th>\n",
       "      <th>production_year</th>\n",
       "      <th>movie_director</th>\n",
       "      <th>star_actor</th>\n",
       "      <th>img</th>\n",
       "      <th>synopsis</th>\n",
       "      <th>m_type</th>\n",
       "      <th>m_kind</th>\n",
       "      <th>m_genre</th>\n",
       "      <th>m_nation</th>\n",
       "      <th>m_time</th>\n",
       "      <th>m_rated</th>\n",
       "    </tr>\n",
       "  </thead>\n",
       "  <tbody>\n",
       "    <tr>\n",
       "      <th>1995</th>\n",
       "      <td>20227635</td>\n",
       "      <td>라스트 플라이트 (The Last Flight)</td>\n",
       "      <td>기타</td>\n",
       "      <td>장편 | 일반영화 | 기타 | 94분 20초 | 프랑스</td>\n",
       "      <td>해당정보없음</td>\n",
       "      <td>2009년</td>\n",
       "      <td>카림 드리디</td>\n",
       "      <td>NaN</td>\n",
       "      <td>https://www.kobis.or.kr/common/mast/movie/2022...</td>\n",
       "      <td>사랑하는 연인을 찾아 헤매는 비행사와 영국의 식민지배 방식을 못마땅히 여겼던 군인의...</td>\n",
       "      <td>장편</td>\n",
       "      <td>일반영화</td>\n",
       "      <td>기타</td>\n",
       "      <td>프랑스</td>\n",
       "      <td>94분 20초</td>\n",
       "      <td></td>\n",
       "    </tr>\n",
       "    <tr>\n",
       "      <th>1996</th>\n",
       "      <td>20226777</td>\n",
       "      <td>극장판 짱구는 못말려: 수수께끼! 꽃피는 천하떡잎학교 (Crayon Shin-cha...</td>\n",
       "      <td>애니메이션</td>\n",
       "      <td>장편 | 일반영화 | 애니메이션 | 104분 37초 | 전체관람가 | 일본</td>\n",
       "      <td>2022-09-28</td>\n",
       "      <td>2021년</td>\n",
       "      <td>타카하시 와타루</td>\n",
       "      <td>NaN</td>\n",
       "      <td>https://www.kobis.or.kr/common/mast/movie/2022...</td>\n",
       "      <td>짱구와 친구들, 명문학교에 입학하다?!\\n\\n명문 엘리트 양성학교에 체험 입학하게 ...</td>\n",
       "      <td>장편</td>\n",
       "      <td>일반영화</td>\n",
       "      <td>애니메이션</td>\n",
       "      <td>일본</td>\n",
       "      <td>104분 37초</td>\n",
       "      <td>전체관람가</td>\n",
       "    </tr>\n",
       "    <tr>\n",
       "      <th>1997</th>\n",
       "      <td>20227392</td>\n",
       "      <td>자드 - 왓 어 뷰티풀 모먼트 투어 (ZARD - What a beautiful m...</td>\n",
       "      <td>공연</td>\n",
       "      <td>장편 | 일반영화 | 공연 | 101분 30초 | 전체관람가 | 일본</td>\n",
       "      <td>2022-09-28</td>\n",
       "      <td>2022년</td>\n",
       "      <td>NaN</td>\n",
       "      <td>NaN</td>\n",
       "      <td>https://www.kobis.or.kr/common/mast/movie/2022...</td>\n",
       "      <td>일본 밴드 ZARD의 마지막 전국 투어</td>\n",
       "      <td>장편</td>\n",
       "      <td>일반영화</td>\n",
       "      <td>공연</td>\n",
       "      <td>일본</td>\n",
       "      <td>101분 30초</td>\n",
       "      <td>전체관람가</td>\n",
       "    </tr>\n",
       "    <tr>\n",
       "      <th>1998</th>\n",
       "      <td>20226884</td>\n",
       "      <td>나의 여신</td>\n",
       "      <td>기타</td>\n",
       "      <td>장편 | 독립영화 | 기타 | 86분 18초 | 12세이상관람가 | 한국</td>\n",
       "      <td>해당정보없음</td>\n",
       "      <td>2021년</td>\n",
       "      <td>NaN</td>\n",
       "      <td>NaN</td>\n",
       "      <td>https://www.kobis.or.kr/kobis/web/comm/images/...</td>\n",
       "      <td>교수가 되기 위해 노력중인 무속 연구자가 연구를 위해 제주도의 한 젊은 무당을 찾아...</td>\n",
       "      <td>장편</td>\n",
       "      <td>독립영화</td>\n",
       "      <td>기타</td>\n",
       "      <td>한국</td>\n",
       "      <td>86분 18초</td>\n",
       "      <td>12세이상관람가</td>\n",
       "    </tr>\n",
       "    <tr>\n",
       "      <th>1999</th>\n",
       "      <td>20193128</td>\n",
       "      <td>가나안 김용기</td>\n",
       "      <td>다큐멘터리(1)</td>\n",
       "      <td>장편 | 예술영화 | 다큐멘터리, 드라마 | 91분 59초 | 12세이상관람가 | 한국</td>\n",
       "      <td>해당정보없음</td>\n",
       "      <td>2022년</td>\n",
       "      <td>김상철</td>\n",
       "      <td>NaN</td>\n",
       "      <td>https://www.kobis.or.kr/common/mast/movie/2021...</td>\n",
       "      <td>가나안농군학교 설립자 김용기 장로의 이야기.</td>\n",
       "      <td>장편</td>\n",
       "      <td>예술영화</td>\n",
       "      <td>다큐멘터리 드라마</td>\n",
       "      <td>한국</td>\n",
       "      <td>91분 59초</td>\n",
       "      <td>12세이상관람가</td>\n",
       "    </tr>\n",
       "  </tbody>\n",
       "</table>\n",
       "</div>"
      ],
      "text/plain": [
       "          code                                              title     genre   \n",
       "1995  20227635                         라스트 플라이트 (The Last Flight)        기타  \\\n",
       "1996  20226777  극장판 짱구는 못말려: 수수께끼! 꽃피는 천하떡잎학교 (Crayon Shin-cha...     애니메이션   \n",
       "1997  20227392  자드 - 왓 어 뷰티풀 모먼트 투어 (ZARD - What a beautiful m...        공연   \n",
       "1998  20226884                                              나의 여신        기타   \n",
       "1999  20193128                                            가나안 김용기  다큐멘터리(1)   \n",
       "\n",
       "                                             summering   first_day   \n",
       "1995                    장편 | 일반영화 | 기타 | 94분 20초 | 프랑스      해당정보없음  \\\n",
       "1996         장편 | 일반영화 | 애니메이션 | 104분 37초 | 전체관람가 | 일본  2022-09-28   \n",
       "1997            장편 | 일반영화 | 공연 | 101분 30초 | 전체관람가 | 일본  2022-09-28   \n",
       "1998          장편 | 독립영화 | 기타 | 86분 18초 | 12세이상관람가 | 한국      해당정보없음   \n",
       "1999  장편 | 예술영화 | 다큐멘터리, 드라마 | 91분 59초 | 12세이상관람가 | 한국      해당정보없음   \n",
       "\n",
       "     production_year movie_director  star_actor   \n",
       "1995           2009년         카림 드리디         NaN  \\\n",
       "1996           2021년       타카하시 와타루         NaN   \n",
       "1997           2022년            NaN         NaN   \n",
       "1998           2021년            NaN         NaN   \n",
       "1999           2022년            김상철         NaN   \n",
       "\n",
       "                                                    img   \n",
       "1995  https://www.kobis.or.kr/common/mast/movie/2022...  \\\n",
       "1996  https://www.kobis.or.kr/common/mast/movie/2022...   \n",
       "1997  https://www.kobis.or.kr/common/mast/movie/2022...   \n",
       "1998  https://www.kobis.or.kr/kobis/web/comm/images/...   \n",
       "1999  https://www.kobis.or.kr/common/mast/movie/2021...   \n",
       "\n",
       "                                               synopsis m_type m_kind   \n",
       "1995  사랑하는 연인을 찾아 헤매는 비행사와 영국의 식민지배 방식을 못마땅히 여겼던 군인의...     장편   일반영화  \\\n",
       "1996  짱구와 친구들, 명문학교에 입학하다?!\\n\\n명문 엘리트 양성학교에 체험 입학하게 ...     장편   일반영화   \n",
       "1997                              일본 밴드 ZARD의 마지막 전국 투어     장편   일반영화   \n",
       "1998  교수가 되기 위해 노력중인 무속 연구자가 연구를 위해 제주도의 한 젊은 무당을 찾아...     장편   독립영화   \n",
       "1999                           가나안농군학교 설립자 김용기 장로의 이야기.     장편   예술영화   \n",
       "\n",
       "        m_genre m_nation    m_time   m_rated  \n",
       "1995         기타      프랑스   94분 20초            \n",
       "1996      애니메이션       일본  104분 37초     전체관람가  \n",
       "1997         공연       일본  101분 30초     전체관람가  \n",
       "1998         기타       한국   86분 18초  12세이상관람가  \n",
       "1999  다큐멘터리 드라마       한국   91분 59초  12세이상관람가  "
      ]
     },
     "execution_count": 151,
     "metadata": {},
     "output_type": "execute_result"
    }
   ],
   "source": [
    "df.head(2000).tail(5)"
   ]
  },
  {
   "cell_type": "code",
   "execution_count": 153,
   "metadata": {},
   "outputs": [],
   "source": [
    "df.fillna('', inplace=True)"
   ]
  },
  {
   "cell_type": "code",
   "execution_count": 154,
   "metadata": {},
   "outputs": [
    {
     "data": {
      "text/html": [
       "<div>\n",
       "<style scoped>\n",
       "    .dataframe tbody tr th:only-of-type {\n",
       "        vertical-align: middle;\n",
       "    }\n",
       "\n",
       "    .dataframe tbody tr th {\n",
       "        vertical-align: top;\n",
       "    }\n",
       "\n",
       "    .dataframe thead th {\n",
       "        text-align: right;\n",
       "    }\n",
       "</style>\n",
       "<table border=\"1\" class=\"dataframe\">\n",
       "  <thead>\n",
       "    <tr style=\"text-align: right;\">\n",
       "      <th></th>\n",
       "      <th>code</th>\n",
       "      <th>title</th>\n",
       "      <th>genre</th>\n",
       "      <th>summering</th>\n",
       "      <th>first_day</th>\n",
       "      <th>production_year</th>\n",
       "      <th>movie_director</th>\n",
       "      <th>star_actor</th>\n",
       "      <th>img</th>\n",
       "      <th>synopsis</th>\n",
       "      <th>m_type</th>\n",
       "      <th>m_kind</th>\n",
       "      <th>m_genre</th>\n",
       "      <th>m_nation</th>\n",
       "      <th>m_time</th>\n",
       "      <th>m_rated</th>\n",
       "    </tr>\n",
       "  </thead>\n",
       "  <tbody>\n",
       "  </tbody>\n",
       "</table>\n",
       "</div>"
      ],
      "text/plain": [
       "Empty DataFrame\n",
       "Columns: [code, title, genre, summering, first_day, production_year, movie_director, star_actor, img, synopsis, m_type, m_kind, m_genre, m_nation, m_time, m_rated]\n",
       "Index: []"
      ]
     },
     "execution_count": 154,
     "metadata": {},
     "output_type": "execute_result"
    }
   ],
   "source": [
    "\n",
    "df[df.movie_director.str.find('[주연]') >= 0]"
   ]
  },
  {
   "cell_type": "code",
   "execution_count": 81,
   "metadata": {},
   "outputs": [],
   "source": [
    "# 감독이 없고 주연 배우만 있는 경우가 있어서 잘 못 들어갔다. \n",
    "# 배우에 전처리 해서 넣어 주었다.\n",
    "indexs = df[df.movie_director.str.find('[주연]') >= 0].index\n",
    "for index in indexs:\n",
    "    df.iloc[index, 7] = df.iloc[index, 6].replace('[주연]', '').strip()\n",
    "    df.iloc[index, 6] = ''"
   ]
  },
  {
   "cell_type": "code",
   "execution_count": 82,
   "metadata": {},
   "outputs": [
    {
     "data": {
      "text/html": [
       "<div>\n",
       "<style scoped>\n",
       "    .dataframe tbody tr th:only-of-type {\n",
       "        vertical-align: middle;\n",
       "    }\n",
       "\n",
       "    .dataframe tbody tr th {\n",
       "        vertical-align: top;\n",
       "    }\n",
       "\n",
       "    .dataframe thead th {\n",
       "        text-align: right;\n",
       "    }\n",
       "</style>\n",
       "<table border=\"1\" class=\"dataframe\">\n",
       "  <thead>\n",
       "    <tr style=\"text-align: right;\">\n",
       "      <th></th>\n",
       "      <th>code</th>\n",
       "      <th>title</th>\n",
       "      <th>genre</th>\n",
       "      <th>summering</th>\n",
       "      <th>first_day</th>\n",
       "      <th>production_year</th>\n",
       "      <th>movie_director</th>\n",
       "      <th>star_actor</th>\n",
       "      <th>img</th>\n",
       "      <th>synopsis</th>\n",
       "      <th>m_type</th>\n",
       "      <th>m_kind</th>\n",
       "      <th>m_genre</th>\n",
       "      <th>m_nation</th>\n",
       "      <th>m_time</th>\n",
       "      <th>m_rated</th>\n",
       "    </tr>\n",
       "  </thead>\n",
       "  <tbody>\n",
       "  </tbody>\n",
       "</table>\n",
       "</div>"
      ],
      "text/plain": [
       "Empty DataFrame\n",
       "Columns: [code, title, genre, summering, first_day, production_year, movie_director, star_actor, img, synopsis, m_type, m_kind, m_genre, m_nation, m_time, m_rated]\n",
       "Index: []"
      ]
     },
     "execution_count": 82,
     "metadata": {},
     "output_type": "execute_result"
    }
   ],
   "source": [
    "df[df.movie_director.str.find('[주연]') >=0 ]"
   ]
  },
  {
   "cell_type": "code",
   "execution_count": 160,
   "metadata": {},
   "outputs": [
    {
     "data": {
      "text/plain": [
       "Index([  33,   39,  122,  125,  126,  127,  128,  129,  130,  131,\n",
       "       ...\n",
       "       2383, 2401, 2408, 2411, 2420, 2449, 2468, 2568, 2606, 2642],\n",
       "      dtype='int64', length=207)"
      ]
     },
     "execution_count": 160,
     "metadata": {},
     "output_type": "execute_result"
    }
   ],
   "source": [
    "# 감독 자리에 다른 값들이 들어갔다. 주연 배우 자리에는 데이터가 없고\n",
    "# 잘못 처리했다. 일단 감독이 이상한 것은 지우고 테스트\n",
    "indexs = df[df.movie_director.str.find('[') >= 0].index\n",
    "indexs"
   ]
  },
  {
   "cell_type": "code",
   "execution_count": 161,
   "metadata": {},
   "outputs": [],
   "source": [
    "df.drop(df.index[indexs], inplace=True)\n",
    "df.set_index('code', inplace=True)\n",
    "df.reset_index(inplace=True)"
   ]
  },
  {
   "cell_type": "code",
   "execution_count": 162,
   "metadata": {},
   "outputs": [
    {
     "data": {
      "text/plain": [
       "(2466, 16)"
      ]
     },
     "execution_count": 162,
     "metadata": {},
     "output_type": "execute_result"
    }
   ],
   "source": [
    "df.shape"
   ]
  },
  {
   "cell_type": "code",
   "execution_count": 84,
   "metadata": {},
   "outputs": [],
   "source": [
    "for index in df[df.movie_director.str.find('[') >= 0].index:\n",
    "    df.iloc[index, 6] = ''"
   ]
  },
  {
   "cell_type": "code",
   "execution_count": 87,
   "metadata": {},
   "outputs": [],
   "source": [
    "df.to_csv('../static/data/movie_test.csv', index=False)"
   ]
  },
  {
   "cell_type": "code",
   "execution_count": 89,
   "metadata": {},
   "outputs": [
    {
     "data": {
      "text/html": [
       "<div>\n",
       "<style scoped>\n",
       "    .dataframe tbody tr th:only-of-type {\n",
       "        vertical-align: middle;\n",
       "    }\n",
       "\n",
       "    .dataframe tbody tr th {\n",
       "        vertical-align: top;\n",
       "    }\n",
       "\n",
       "    .dataframe thead th {\n",
       "        text-align: right;\n",
       "    }\n",
       "</style>\n",
       "<table border=\"1\" class=\"dataframe\">\n",
       "  <thead>\n",
       "    <tr style=\"text-align: right;\">\n",
       "      <th></th>\n",
       "      <th>code</th>\n",
       "      <th>title</th>\n",
       "      <th>genre</th>\n",
       "      <th>summering</th>\n",
       "      <th>first_day</th>\n",
       "      <th>production_year</th>\n",
       "      <th>movie_director</th>\n",
       "      <th>star_actor</th>\n",
       "      <th>img</th>\n",
       "      <th>synopsis</th>\n",
       "      <th>m_type</th>\n",
       "      <th>m_kind</th>\n",
       "      <th>m_genre</th>\n",
       "      <th>m_nation</th>\n",
       "      <th>m_time</th>\n",
       "      <th>m_rated</th>\n",
       "    </tr>\n",
       "  </thead>\n",
       "  <tbody>\n",
       "    <tr>\n",
       "      <th>0</th>\n",
       "      <td>20232491</td>\n",
       "      <td>핑크퐁 시네마 콘서트3 : 진저브레드맨을 잡아라 (Pinkfong Sing-Alon...</td>\n",
       "      <td>애니메이션</td>\n",
       "      <td>장편 | 일반영화 | 애니메이션 | 65분 14초 | 전체관람가 | 한국</td>\n",
       "      <td>2023-07-26</td>\n",
       "      <td>2023년</td>\n",
       "      <td>변희선</td>\n",
       "      <td>조경이(핑크퐁) | 이소은(호기) | 박요한(진저브레드맨) | 김새해(제니) | 장...</td>\n",
       "      <td>https://www.kobis.or.kr/common/mast/movie/2023...</td>\n",
       "      <td>“세상에서 가장 맛있는 아이스크림을 먹고 싶어!”\\r\\n\\r\\n아기상어가 원하는 최...</td>\n",
       "      <td>장편</td>\n",
       "      <td>일반영화</td>\n",
       "      <td>애니메이션</td>\n",
       "      <td>한국</td>\n",
       "      <td>65분 14초</td>\n",
       "      <td>전체관람가</td>\n",
       "    </tr>\n",
       "  </tbody>\n",
       "</table>\n",
       "</div>"
      ],
      "text/plain": [
       "       code                                              title  genre   \n",
       "0  20232491  핑크퐁 시네마 콘서트3 : 진저브레드맨을 잡아라 (Pinkfong Sing-Alon...  애니메이션  \\\n",
       "\n",
       "                                  summering   first_day production_year   \n",
       "0  장편 | 일반영화 | 애니메이션 | 65분 14초 | 전체관람가 | 한국  2023-07-26           2023년  \\\n",
       "\n",
       "  movie_director                                         star_actor   \n",
       "0            변희선  조경이(핑크퐁) | 이소은(호기) | 박요한(진저브레드맨) | 김새해(제니) | 장...  \\\n",
       "\n",
       "                                                 img   \n",
       "0  https://www.kobis.or.kr/common/mast/movie/2023...  \\\n",
       "\n",
       "                                            synopsis m_type m_kind m_genre   \n",
       "0  “세상에서 가장 맛있는 아이스크림을 먹고 싶어!”\\r\\n\\r\\n아기상어가 원하는 최...     장편   일반영화   애니메이션  \\\n",
       "\n",
       "  m_nation   m_time m_rated  \n",
       "0       한국  65분 14초   전체관람가  "
      ]
     },
     "execution_count": 89,
     "metadata": {},
     "output_type": "execute_result"
    }
   ],
   "source": [
    "df.head(1)"
   ]
  },
  {
   "cell_type": "code",
   "execution_count": 109,
   "metadata": {},
   "outputs": [
    {
     "data": {
      "text/plain": [
       "array([\"“저는 사랑이 뭔지 잘 몰라요”\\r\\n“너는 몰라도 돼, 우리가 사랑이라고 생각하니까”\\r\\n\\r\\n사랑 빼곤 모든 것이 충족된 삶을 살던 도쿄 유명 패션 잡지 에디터 ‘료스케’(스즈키 료헤이)는\\r\\n삶은 고되고 사랑은 두려운 퍼스널 트레이너 '류타'(미야자와 히오)를 만난다.\\r\\n운명처럼 찾아온 사랑에 모든 날들이 특별해지고,\\r\\n서로를 만나기 전과는 비교할 수 없을 정도로 행복한 나날을 보내는 두 남자.\\r\\n평소와 다름없던 어느 날\\r\\n영원할 것 같던 이들에게도 이별이 찾아오는데…\\r\\n\\r\\n사랑이 필요하지만 사랑이 두려운 두 남자,\\r\\n이별 후 비로소 사랑은 시작된다.\",\n",
       "       '집이 없어 비닐하우스에 기거하지만 하루하루 성실하게 살아가고 있던 요양보호사 문정이 갑작스럽게 비극적인 사건을 겪으면서 일어나는 이야기',\n",
       "       '평생 100일의 연애기간을 넘기지 못하는 하윤\\r\\n그런 하윤이 운명의 남자라고 생각했던 태령마저 이별을 말한다.\\r\\n\\r\\n100일을 넘기기 위해 한달간의 유예기간을 가지자고 한\\r\\n하윤의 제안을 태령은 승낙한다.\\r\\n\\r\\n이 과정에서 하윤은 자신의 오랜 남사친인 강진에게 질투작전을 위해\\r\\n가짜 썸남인척 연기해달라고 부탁한다.\\r\\n\\r\\n두 남자와 이중계약을 맺어버린 하윤은 한 달동안 두 남자 사이에서 갈등한다.',\n",
       "       '주목받는 젊은 작가 재이는 신작 출간을 앞두고 있다. 재이의 동거인이자 애인인 건우는 보습 학원 영어 강사로 일하며 묵묵하게 재이를 보조하고 있다. 두 사람은 모두 서로를 아끼고 있으며 이대로 행복하다. 하지만 갑자기 예정하지 않았던 아이가 생기면서 두 사람의 삶에 크나큰 변화와 균열이 생기기 시작한다.',\n",
       "       '수많은 스캔들과 사고로 인해 추락에 추락을 거듭한 왕년의 슈퍼스타 박혁빈\\r\\n어느날. 그가 진행하는 라디오 방송에 여러 페널들이 모이게 되고,\\r\\n이곳으로 보낸 여러사연들을 읽으면서 패널들과의 인연들이 나타나게 되고 새로운 사건이 시작되는데,',\n",
       "       '과격하기로 악명높은 서부경찰서 강력반내에서도 위험인물로 지목될 만큼 난폭하지만 일에 대해서 만큼은 광기에 가까운 끈질긴 집념을 보이는 우형사. 그에게 어느날 지금까지 본 적 없는 대담하고 잔인한 살인사건이 찾아온다. 한낮의 도심 한복판에서 살인사건이 벌어진다. 피살자 중 한명은 마약밀매 전과 3범. 경찰은 즉시 수사에 착수하지만 그러나 그 시간 그곳에는 소나기가 몰아치고 단서는 거의 모두 비에 씻겨버린지 한참이다. 우형사와 그의 파트너인 김형사를 비롯하여 서부경찰서 강력반 6명 전원이 사건에 투입되고 잠복 근무중인 우형사와 김형사는 사건에 가담한 짱구와 영배를 검거, 그들로부터 이 사건의 주범이 장성민이라는 사실을 알아낸다. 사건발생 15일 장성민의 여자 김주연의 집에서 드디어 장성민과의 첫번째 조우가 이루어지나 미로와도 같은 골목에서 우형사는 그를 놓친다. 매번 경찰의 그물망을 유유히 피해 사라지는 장성민은 마치 무능한 경찰을 비웃는 것 같다. 사건 발생 42일 장성민이 기차에서 거래한다는 정보를 입수한 형사들은 비밀리에 기차를 점거 그를 에워싸지만 이 신출귀몰한 범인은 쉽게 잡히지 않는데...',\n",
       "       '끔찍한 범죄 현장의 유일한 목격자, 12세 소녀 블레이즈\\r\\n\\r\\n정신적 충격을 받은 블레이즈는 현실을 피해 상상의 세계로 숨어 버린다.\\r\\n어렸을 때부터 함께 해 온 ‘상상 친구’인 반짝이는 마법의 드래곤, ‘제피’가 있는 세계에서 현실에 대한 분노를 폭발시키며 애써 상처를 잊으려고 노력하는 블레이즈!\\r\\n\\r\\n그러나 영원할 줄 알았던 유년기의 끝이 다가오면서\\r\\n소울메이트 제피와의 이별의 순간이 다가오는데…\\r\\n\\r\\n두려움에 맞서 당당하게 성장해 나가는 그녀의 용기 있는 발걸음이 시작된다!',\n",
       "       '“그 무엇보다 좋은 아버지가 되고 싶었어…”\\r\\n\\r\\n성공한 변호사로 뉴욕에서 행복한 새 가정을 이룬 피터는\\r\\n어느 날, 전처에게 아들 니콜라스가 학교를 나가지 않는다는 소식을 듣는다.\\r\\n좋은 아버지가 되고 싶었던 피터는 아들을 집으로 데려오지만\\r\\n애를 쓸수록 두 사람의 사이는 어긋나기만 하는데…',\n",
       "       '문재구는 자신을 고향인 섬에 묻어달라는 아버지 문덕배의 유언에 따라 꽃상여를 배에 싣고 섬으로 향한다. 하지만 재구의 친구이자 시인인 김철의 예상대로 섬에 가까워지자 섬 사람들의 맹렬한 반대가 시작되고 배를 섬에 대는 것조차 거부당한다. 가까스로 혼자 섬에 도착한 김철은 너무도 슬프게 아름다웠던 네 여인에 대한 추억과 그 해 여름날의 한 사건을 떠올린다.\\r\\n1950년 한국전쟁이 일어나던 해 엄마가 없는 김철은 마을 모든 여성들의 품속에서 자란다. 딸이 죽자 정신이 나가 남편에게 버림받는 친구 재구의 어머니 넙도댁의 한과 타고난 색기로 동네 아낙들의 질시를 한몸에 받은 벌떡녀의 끼를 보며 호기심을 키웠으며 무녀가 된 업순네를 졸라 죽은 엄마의 영혼을 만나기도 했다. 하지만 어린 김철에게 가장 따뜻한 꿈과 허무한 죽음을 알게 해준 여자는 마을 아낙들이 억지로 시집보내준 날 늙은 서방을 내쫓아버리고 아이들과 놀아주었으며 혼수상태에 빠진 철에게 젖을 물려주었던 바보 옥님이다.\\r\\n그런 어느날 섬에 난리가 난다. 무장한 인민군들이 동네 사람들 중 반동분자를 색출하기 시작하자 섬사람들은 목숨을 부지하기 위해 이웃을 고발하기까지 한다. 이 모든 사태가 섬에서 쫓겨난 덕배의 농간에서 비롯되었다는 사실을 알게 된 섬사람들은 가슴 속에 큰 한을 안고 살아가게 된다.',\n",
       "       '시골노인 박씨가 죽자 영화감독인 큰아들 찬우, 카페를 경영하는 골칫덩어리 딸 미선은 서둘러 고향으로 돌아오고 미국에 사는 셋째아들 찬세도 귀국한다. 적막한 시골엔 장례식 준비하느라 갑자기 분주해지면서, 초상집은 동네 사람들이 모여들며 소식을 묻고 옛 사람을 만나는 만남의 장이 된다. 자식들은 부친의 죽음을 애석해 하며 대성통곡하는데, 그 중에서도 부모 속을 썩이던 미선이 제일 가슴 아파하며 울음을 그치지 않는다. 상주인 찬우는 자기의 직업대로 부친의 죽음을 한편의 파노라마로 인식하고, 찬세는 신앙에 따라 유교식 장례절차가 진행되는 가운데 찬송가를 소리 높여 부른다. 게다가 박노인의 여동생은 보험 세일을 하며 장례식은 점차 죽인 자보다 산자의 몫으로 남는다.'],\n",
       "      dtype=object)"
      ]
     },
     "execution_count": 109,
     "metadata": {},
     "output_type": "execute_result"
    }
   ],
   "source": [
    "text = df.synopsis.values[40:50]\n",
    "text"
   ]
  },
  {
   "cell_type": "code",
   "execution_count": 93,
   "metadata": {},
   "outputs": [
    {
     "data": {
      "text/plain": [
       "'!\"#$%&\\'()*+,-./:;<=>?@[\\\\]^_`{|}~'"
      ]
     },
     "execution_count": 93,
     "metadata": {},
     "output_type": "execute_result"
    }
   ],
   "source": [
    "import string, re\n",
    "string.punctuation"
   ]
  },
  {
   "cell_type": "code",
   "execution_count": 163,
   "metadata": {},
   "outputs": [],
   "source": [
    "# 시놉시스전처리\n",
    "texts = df.synopsis.apply(lambda x: re.sub('['+string.punctuation+'\\r\\n“”‘’…]', ' ', x))"
   ]
  },
  {
   "cell_type": "code",
   "execution_count": 164,
   "metadata": {},
   "outputs": [],
   "source": [
    "from konlpy.tag import Okt"
   ]
  },
  {
   "cell_type": "code",
   "execution_count": 165,
   "metadata": {},
   "outputs": [],
   "source": [
    "okt = Okt()\n",
    "# 시놉시스 전처리의 형태소 분석\n",
    "df['morphs'] = [' '.join(okt.morphs(text)) for text in texts]"
   ]
  },
  {
   "cell_type": "code",
   "execution_count": 166,
   "metadata": {},
   "outputs": [
    {
     "data": {
      "text/html": [
       "<div>\n",
       "<style scoped>\n",
       "    .dataframe tbody tr th:only-of-type {\n",
       "        vertical-align: middle;\n",
       "    }\n",
       "\n",
       "    .dataframe tbody tr th {\n",
       "        vertical-align: top;\n",
       "    }\n",
       "\n",
       "    .dataframe thead th {\n",
       "        text-align: right;\n",
       "    }\n",
       "</style>\n",
       "<table border=\"1\" class=\"dataframe\">\n",
       "  <thead>\n",
       "    <tr style=\"text-align: right;\">\n",
       "      <th></th>\n",
       "      <th>code</th>\n",
       "      <th>title</th>\n",
       "      <th>genre</th>\n",
       "      <th>summering</th>\n",
       "      <th>first_day</th>\n",
       "      <th>production_year</th>\n",
       "      <th>movie_director</th>\n",
       "      <th>star_actor</th>\n",
       "      <th>img</th>\n",
       "      <th>synopsis</th>\n",
       "      <th>m_type</th>\n",
       "      <th>m_kind</th>\n",
       "      <th>m_genre</th>\n",
       "      <th>m_nation</th>\n",
       "      <th>m_time</th>\n",
       "      <th>m_rated</th>\n",
       "      <th>morphs</th>\n",
       "    </tr>\n",
       "  </thead>\n",
       "  <tbody>\n",
       "    <tr>\n",
       "      <th>0</th>\n",
       "      <td>20232561</td>\n",
       "      <td>몸값part.2 (Bargain part.2)</td>\n",
       "      <td>스릴러</td>\n",
       "      <td>장편 | 일반영화 | 스릴러 | 105분 13초 | 청소년관람불가 | 한국</td>\n",
       "      <td>2023-07-05</td>\n",
       "      <td>2022년</td>\n",
       "      <td>전우성</td>\n",
       "      <td></td>\n",
       "      <td>https://www.kobis.or.kr/common/mast/movie/2023...</td>\n",
       "      <td>무너진 세상, 폭발하는 광기\\n미친 자들의 목숨을 건 거래가 시작된다!\\n\\n서로의...</td>\n",
       "      <td>장편</td>\n",
       "      <td>일반영화</td>\n",
       "      <td>스릴러</td>\n",
       "      <td>한국</td>\n",
       "      <td>105분 13초</td>\n",
       "      <td>청소년관람불가</td>\n",
       "      <td>무너진 세상 폭발 하는 광기 미친 자 들 의 목숨 을 건 거래 가 시작 된다 서로 ...</td>\n",
       "    </tr>\n",
       "  </tbody>\n",
       "</table>\n",
       "</div>"
      ],
      "text/plain": [
       "       code                      title genre   \n",
       "0  20232561  몸값part.2 (Bargain part.2)   스릴러  \\\n",
       "\n",
       "                                   summering   first_day production_year   \n",
       "0  장편 | 일반영화 | 스릴러 | 105분 13초 | 청소년관람불가 | 한국  2023-07-05           2022년  \\\n",
       "\n",
       "  movie_director star_actor   \n",
       "0            전우성             \\\n",
       "\n",
       "                                                 img   \n",
       "0  https://www.kobis.or.kr/common/mast/movie/2023...  \\\n",
       "\n",
       "                                            synopsis m_type m_kind m_genre   \n",
       "0  무너진 세상, 폭발하는 광기\\n미친 자들의 목숨을 건 거래가 시작된다!\\n\\n서로의...     장편   일반영화     스릴러  \\\n",
       "\n",
       "  m_nation    m_time  m_rated   \n",
       "0       한국  105분 13초  청소년관람불가  \\\n",
       "\n",
       "                                              morphs  \n",
       "0  무너진 세상 폭발 하는 광기 미친 자 들 의 목숨 을 건 거래 가 시작 된다 서로 ...  "
      ]
     },
     "execution_count": 166,
     "metadata": {},
     "output_type": "execute_result"
    }
   ],
   "source": [
    "df.head(1)"
   ]
  },
  {
   "cell_type": "code",
   "execution_count": 167,
   "metadata": {},
   "outputs": [
    {
     "data": {
      "text/plain": [
       "(2466, 24271)"
      ]
     },
     "execution_count": 167,
     "metadata": {},
     "output_type": "execute_result"
    }
   ],
   "source": [
    "from sklearn.feature_extraction.text import TfidfVectorizer\n",
    "tvect = TfidfVectorizer(stop_words='english')\n",
    "total_tv = tvect.fit_transform(df.morphs)\n",
    "total_tv.shape"
   ]
  },
  {
   "cell_type": "code",
   "execution_count": 168,
   "metadata": {},
   "outputs": [
    {
     "data": {
      "text/plain": [
       "(2466, 24271)"
      ]
     },
     "execution_count": 168,
     "metadata": {},
     "output_type": "execute_result"
    }
   ],
   "source": [
    "from sklearn.feature_extraction.text import CountVectorizer\n",
    "cvect = CountVectorizer(stop_words='english')\n",
    "total_cv = cvect.fit_transform(df.morphs)\n",
    "total_cv.shape"
   ]
  },
  {
   "cell_type": "code",
   "execution_count": 169,
   "metadata": {},
   "outputs": [],
   "source": [
    "indices = pd.Series(df.index, index=df.code)"
   ]
  },
  {
   "cell_type": "code",
   "execution_count": 187,
   "metadata": {},
   "outputs": [
    {
     "data": {
      "text/plain": [
       "(2466, 2466)"
      ]
     },
     "execution_count": 187,
     "metadata": {},
     "output_type": "execute_result"
    }
   ],
   "source": [
    "from sklearn.metrics.pairwise import cosine_similarity\n",
    "cosine_sim = cosine_similarity(total_tv)\n",
    "cosine_sim.shape"
   ]
  },
  {
   "cell_type": "code",
   "execution_count": 188,
   "metadata": {},
   "outputs": [
    {
     "data": {
      "text/plain": [
       "(2466, 2466)"
      ]
     },
     "execution_count": 188,
     "metadata": {},
     "output_type": "execute_result"
    }
   ],
   "source": [
    "cosine_sim_cv = cosine_similarity(total_cv)\n",
    "cosine_sim_cv.shape"
   ]
  },
  {
   "cell_type": "code",
   "execution_count": 191,
   "metadata": {},
   "outputs": [],
   "source": [
    "def get_recommendation(code, cos_sim):\n",
    "    index = indices[code]\n",
    "    sim_scores = pd.Series(cos_sim[index])\n",
    "    movie_indices = sim_scores.sort_values(ascending=False).head(11).tail(10).index\n",
    "    return df.code.iloc[movie_indices], df.title.iloc[movie_indices]"
   ]
  },
  {
   "cell_type": "code",
   "execution_count": 190,
   "metadata": {},
   "outputs": [
    {
     "data": {
      "text/plain": [
       "(2466, 2466)"
      ]
     },
     "execution_count": 190,
     "metadata": {},
     "output_type": "execute_result"
    }
   ],
   "source": [
    "from sklearn.metrics.pairwise import linear_kernel\n",
    "cosine_sim_total = linear_kernel(total_tv, total_tv)\n",
    "cosine_sim_total.shape"
   ]
  },
  {
   "cell_type": "code",
   "execution_count": 184,
   "metadata": {},
   "outputs": [],
   "source": [
    "from sklearn.metrics.pairwise import linear_kernel\n",
    "cosine_sim_total_cv = linear_kernel(total_cv, total_cv)"
   ]
  },
  {
   "cell_type": "code",
   "execution_count": null,
   "metadata": {},
   "outputs": [],
   "source": [
    "df.tail(5)"
   ]
  },
  {
   "cell_type": "code",
   "execution_count": 197,
   "metadata": {},
   "outputs": [
    {
     "data": {
      "text/plain": [
       "(1131    20020064\n",
       " 2372    20225570\n",
       " 1451    20060363\n",
       " 2220    20226279\n",
       " 2221    20021081\n",
       " 1090    20156102\n",
       " 1692    20211328\n",
       " 1767    20060006\n",
       " 1212    20229453\n",
       " 2337    20226003\n",
       " Name: code, dtype: object,\n",
       " 1131                    잔다라 (Jan Dara)\n",
       " 2372    눈감은 여름 (Summer In Closed Eyes)\n",
       " 1451            디어 평양 (Dear Pyongyang)\n",
       " 2220                  다라트 (Dry Season)\n",
       " 2221                  아부나 (Our Father)\n",
       " 1090     바닷마을 다이어리 (Our Little Sister)\n",
       " 1692    검객: 척살금의위 (Chivalrous Forever)\n",
       " 1767        메종 드 히미코 (Mezon Do Himiko)\n",
       " 1212                   문라이즈 (Moonrise)\n",
       " 2337         달을 빚는 토끼 (Dumpling Bunny)\n",
       " Name: title, dtype: object)"
      ]
     },
     "execution_count": 197,
     "metadata": {},
     "output_type": "execute_result"
    }
   ],
   "source": [
    "get_recommendation('20225534', cosine_sim_cv)"
   ]
  },
  {
   "cell_type": "code",
   "execution_count": 192,
   "metadata": {},
   "outputs": [
    {
     "data": {
      "text/plain": [
       "(2372    20225570\n",
       " 1090    20156102\n",
       " 1131    20020064\n",
       " 1451    20060363\n",
       " 2220    20226279\n",
       " 2081    20212704\n",
       " 1351    20228974\n",
       " 2221    20021081\n",
       " 627     20227527\n",
       " 1028    20228892\n",
       " Name: code, dtype: object,\n",
       " 2372                       눈감은 여름 (Summer In Closed Eyes)\n",
       " 1090                        바닷마을 다이어리 (Our Little Sister)\n",
       " 1131                                       잔다라 (Jan Dara)\n",
       " 1451                               디어 평양 (Dear Pyongyang)\n",
       " 2220                                     다라트 (Dry Season)\n",
       " 2081    뉴타운 생존자 수색작전 (Search operation: The New Town S...\n",
       " 1351                                     재일배이트 (Jailbait)\n",
       " 2221                                     아부나 (Our Father)\n",
       " 627                                         공작새 (Peafowl)\n",
       " 1028                                      마에스트로 (Maestro)\n",
       " Name: title, dtype: object)"
      ]
     },
     "execution_count": 192,
     "metadata": {},
     "output_type": "execute_result"
    }
   ],
   "source": [
    "get_recommendation('20225534', cosine_sim)"
   ]
  },
  {
   "cell_type": "code",
   "execution_count": 199,
   "metadata": {},
   "outputs": [
    {
     "data": {
      "text/plain": [
       "2372    0.157410\n",
       "1090    0.141053\n",
       "1131    0.133918\n",
       "1451    0.132550\n",
       "2220    0.116664\n",
       "2081    0.115052\n",
       "1351    0.113074\n",
       "2221    0.111055\n",
       "627     0.100726\n",
       "dtype: float64"
      ]
     },
     "execution_count": 199,
     "metadata": {},
     "output_type": "execute_result"
    }
   ],
   "source": [
    "# for code in df.code.values:\n",
    "code = \"20225534\"\n",
    "sim_scores = pd.Series(cosine_sim[indices[code]])\n",
    "score = sim_scores.sort_values(ascending=False).head(10).tail(9)\n",
    "score"
   ]
  },
  {
   "cell_type": "code",
   "execution_count": null,
   "metadata": {},
   "outputs": [],
   "source": []
  },
  {
   "cell_type": "code",
   "execution_count": 198,
   "metadata": {},
   "outputs": [
    {
     "data": {
      "text/plain": [
       "1131    0.311990\n",
       "2372    0.311400\n",
       "1451    0.287034\n",
       "2220    0.283731\n",
       "2221    0.277746\n",
       "1090    0.267632\n",
       "1692    0.247717\n",
       "1767    0.246008\n",
       "1212    0.228218\n",
       "dtype: float64"
      ]
     },
     "execution_count": 198,
     "metadata": {},
     "output_type": "execute_result"
    }
   ],
   "source": [
    "code = \"20225534\"\n",
    "sim_scores = pd.Series(cosine_sim_cv[indices[code]])\n",
    "score = sim_scores.sort_values(ascending=False).head(10).tail(9)\n",
    "score"
   ]
  }
 ],
 "metadata": {
  "kernelspec": {
   "display_name": "base",
   "language": "python",
   "name": "python3"
  },
  "language_info": {
   "codemirror_mode": {
    "name": "ipython",
    "version": 3
   },
   "file_extension": ".py",
   "mimetype": "text/x-python",
   "name": "python",
   "nbconvert_exporter": "python",
   "pygments_lexer": "ipython3",
   "version": "3.10.10"
  },
  "orig_nbformat": 4
 },
 "nbformat": 4,
 "nbformat_minor": 2
}
