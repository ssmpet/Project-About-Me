{
 "cells": [
  {
   "cell_type": "code",
   "execution_count": 9,
   "metadata": {},
   "outputs": [],
   "source": [
    "import pandas as pd\n",
    "import re, string\n"
   ]
  },
  {
   "attachments": {},
   "cell_type": "markdown",
   "metadata": {},
   "source": [
    "### 영화 추천 시스템 테스트"
   ]
  },
  {
   "attachments": {},
   "cell_type": "markdown",
   "metadata": {},
   "source": [
    "##### 1. 영화 제목이나 배우 찾기"
   ]
  },
  {
   "cell_type": "code",
   "execution_count": 12,
   "metadata": {},
   "outputs": [],
   "source": [
    "df = pd.read_csv('../static/data/movie_test.csv')"
   ]
  },
  {
   "cell_type": "code",
   "execution_count": null,
   "metadata": {},
   "outputs": [],
   "source": [
    "df.head()"
   ]
  },
  {
   "cell_type": "code",
   "execution_count": 15,
   "metadata": {},
   "outputs": [
    {
     "data": {
      "text/html": [
       "<div>\n",
       "<style scoped>\n",
       "    .dataframe tbody tr th:only-of-type {\n",
       "        vertical-align: middle;\n",
       "    }\n",
       "\n",
       "    .dataframe tbody tr th {\n",
       "        vertical-align: top;\n",
       "    }\n",
       "\n",
       "    .dataframe thead th {\n",
       "        text-align: right;\n",
       "    }\n",
       "</style>\n",
       "<table border=\"1\" class=\"dataframe\">\n",
       "  <thead>\n",
       "    <tr style=\"text-align: right;\">\n",
       "      <th></th>\n",
       "      <th>code</th>\n",
       "      <th>title</th>\n",
       "      <th>genre</th>\n",
       "      <th>summering</th>\n",
       "      <th>first_day</th>\n",
       "      <th>production_year</th>\n",
       "      <th>movie_director</th>\n",
       "      <th>star_actor</th>\n",
       "      <th>img</th>\n",
       "      <th>synopsis</th>\n",
       "      <th>m_type</th>\n",
       "      <th>m_kind</th>\n",
       "      <th>m_genre</th>\n",
       "      <th>m_nation</th>\n",
       "      <th>m_time</th>\n",
       "      <th>m_rated</th>\n",
       "      <th>morphs</th>\n",
       "    </tr>\n",
       "  </thead>\n",
       "  <tbody>\n",
       "    <tr>\n",
       "      <th>0</th>\n",
       "      <td>20232561</td>\n",
       "      <td>몸값part.2 (Bargain part.2)</td>\n",
       "      <td>스릴러</td>\n",
       "      <td>장편 | 일반영화 | 스릴러 | 105분 13초 | 청소년관람불가 | 한국</td>\n",
       "      <td>2023-07-05</td>\n",
       "      <td>2022년</td>\n",
       "      <td>전우성</td>\n",
       "      <td>NaN</td>\n",
       "      <td>https://www.kobis.or.kr/common/mast/movie/2023...</td>\n",
       "      <td>무너진 세상, 폭발하는 광기\\r\\n미친 자들의 목숨을 건 거래가 시작된다!\\r\\n\\...</td>\n",
       "      <td>장편</td>\n",
       "      <td>일반영화</td>\n",
       "      <td>스릴러</td>\n",
       "      <td>한국</td>\n",
       "      <td>105분 13초</td>\n",
       "      <td>청소년관람불가</td>\n",
       "      <td>무너진 세상 폭발 하는 광기 미친 자 들 의 목숨 을 건 거래 가 시작 된다 서로 ...</td>\n",
       "    </tr>\n",
       "  </tbody>\n",
       "</table>\n",
       "</div>"
      ],
      "text/plain": [
       "       code                      title genre  \\\n",
       "0  20232561  몸값part.2 (Bargain part.2)   스릴러   \n",
       "\n",
       "                                   summering   first_day production_year  \\\n",
       "0  장편 | 일반영화 | 스릴러 | 105분 13초 | 청소년관람불가 | 한국  2023-07-05           2022년   \n",
       "\n",
       "  movie_director  star_actor  \\\n",
       "0            전우성         NaN   \n",
       "\n",
       "                                                 img  \\\n",
       "0  https://www.kobis.or.kr/common/mast/movie/2023...   \n",
       "\n",
       "                                            synopsis m_type m_kind m_genre  \\\n",
       "0  무너진 세상, 폭발하는 광기\\r\\n미친 자들의 목숨을 건 거래가 시작된다!\\r\\n\\...     장편   일반영화     스릴러   \n",
       "\n",
       "  m_nation    m_time  m_rated  \\\n",
       "0       한국  105분 13초  청소년관람불가   \n",
       "\n",
       "                                              morphs  \n",
       "0  무너진 세상 폭발 하는 광기 미친 자 들 의 목숨 을 건 거래 가 시작 된다 서로 ...  "
      ]
     },
     "execution_count": 15,
     "metadata": {},
     "output_type": "execute_result"
    }
   ],
   "source": [
    "\n",
    "df.fillna('')\n",
    "df.code = df.code.astype(str)\n",
    "df.head(1)"
   ]
  },
  {
   "cell_type": "code",
   "execution_count": 18,
   "metadata": {},
   "outputs": [
    {
     "name": "stdout",
     "output_type": "stream",
     "text": [
      "<class 'pandas.core.frame.DataFrame'>\n",
      "RangeIndex: 2466 entries, 0 to 2465\n",
      "Data columns (total 17 columns):\n",
      " #   Column           Non-Null Count  Dtype \n",
      "---  ------           --------------  ----- \n",
      " 0   code             2466 non-null   object\n",
      " 1   title            2466 non-null   object\n",
      " 2   genre            2466 non-null   object\n",
      " 3   summering        2466 non-null   object\n",
      " 4   first_day        2466 non-null   object\n",
      " 5   production_year  2466 non-null   object\n",
      " 6   movie_director   1698 non-null   object\n",
      " 7   star_actor       2466 non-null   object\n",
      " 8   img              2466 non-null   object\n",
      " 9   synopsis         2466 non-null   object\n",
      " 10  m_type           2466 non-null   object\n",
      " 11  m_kind           2466 non-null   object\n",
      " 12  m_genre          2466 non-null   object\n",
      " 13  m_nation         2466 non-null   object\n",
      " 14  m_time           2390 non-null   object\n",
      " 15  m_rated          1165 non-null   object\n",
      " 16  morphs           2466 non-null   object\n",
      "dtypes: object(17)\n",
      "memory usage: 327.6+ KB\n"
     ]
    }
   ],
   "source": [
    "df.info()"
   ]
  },
  {
   "cell_type": "code",
   "execution_count": 17,
   "metadata": {},
   "outputs": [],
   "source": [
    "df.star_actor = ''"
   ]
  },
  {
   "cell_type": "code",
   "execution_count": 25,
   "metadata": {},
   "outputs": [],
   "source": [
    "title = '봄'\n",
    "actor = ''\n",
    "director = ''\n",
    "title = re.sub('['+string.punctuation+']', '', title).lower()\n",
    "actor = re.sub('['+string.punctuation+']', '', actor).lower()\n",
    "director = re.sub('['+string.punctuation+']', '', director).lower()\n",
    "\n",
    "\n",
    "movies = df[df.title.str.replace('['+string.punctuation+']', '', regex=True).str.contains(title, case=False) &\n",
    " df.star_actor.str.replace('['+string.punctuation+']', '', regex=True).str.contains(actor, case=False) &\n",
    " df.movie_director.str.replace('['+string.punctuation+']', '', regex=True).str.contains(actor, case=False)]\n",
    "movies = movies[['code', 'title', 'first_day', 'production_year', 'movie_director', 'star_actor', 'img', 'synopsis', 'm_genre', 'm_nation', 'm_time', 'm_rated']]"
   ]
  },
  {
   "cell_type": "code",
   "execution_count": null,
   "metadata": {},
   "outputs": [],
   "source": []
  }
 ],
 "metadata": {
  "kernelspec": {
   "display_name": "base",
   "language": "python",
   "name": "python3"
  },
  "language_info": {
   "codemirror_mode": {
    "name": "ipython",
    "version": 3
   },
   "file_extension": ".py",
   "mimetype": "text/x-python",
   "name": "python",
   "nbconvert_exporter": "python",
   "pygments_lexer": "ipython3",
   "version": "3.9.13"
  },
  "orig_nbformat": 4
 },
 "nbformat": 4,
 "nbformat_minor": 2
}
