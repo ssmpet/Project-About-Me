{
 "cells": [
  {
   "cell_type": "code",
   "execution_count": 1,
   "metadata": {},
   "outputs": [],
   "source": [
    "import numpy as np\n",
    "import pandas as pd\n",
    "import re"
   ]
  },
  {
   "attachments": {},
   "cell_type": "markdown",
   "metadata": {},
   "source": [
    "### 검색한 감독, 배우, 영화 제목으로 영화 찾기 테스트"
   ]
  },
  {
   "cell_type": "code",
   "execution_count": 2,
   "metadata": {},
   "outputs": [
    {
     "name": "stdout",
     "output_type": "stream",
     "text": [
      "(11270, 17)\n"
     ]
    },
    {
     "data": {
      "text/html": [
       "<div>\n",
       "<style scoped>\n",
       "    .dataframe tbody tr th:only-of-type {\n",
       "        vertical-align: middle;\n",
       "    }\n",
       "\n",
       "    .dataframe tbody tr th {\n",
       "        vertical-align: top;\n",
       "    }\n",
       "\n",
       "    .dataframe thead th {\n",
       "        text-align: right;\n",
       "    }\n",
       "</style>\n",
       "<table border=\"1\" class=\"dataframe\">\n",
       "  <thead>\n",
       "    <tr style=\"text-align: right;\">\n",
       "      <th></th>\n",
       "      <th>code</th>\n",
       "      <th>title</th>\n",
       "      <th>genre</th>\n",
       "      <th>summering</th>\n",
       "      <th>first_day</th>\n",
       "      <th>production_year</th>\n",
       "      <th>movie_director</th>\n",
       "      <th>star_actor</th>\n",
       "      <th>img</th>\n",
       "      <th>synopsis</th>\n",
       "      <th>m_type</th>\n",
       "      <th>m_kind</th>\n",
       "      <th>m_genre</th>\n",
       "      <th>m_nation</th>\n",
       "      <th>m_time</th>\n",
       "      <th>m_rated</th>\n",
       "      <th>morphs</th>\n",
       "    </tr>\n",
       "  </thead>\n",
       "  <tbody>\n",
       "    <tr>\n",
       "      <th>0</th>\n",
       "      <td>20231523</td>\n",
       "      <td>그 여름 (The Summer)</td>\n",
       "      <td>애니메이션(2)</td>\n",
       "      <td>장편 | 예술,독립 영화 | 애니메이션, 드라마, 멜로/로맨스 | 60분 57초 |...</td>\n",
       "      <td>2023-06-07</td>\n",
       "      <td>2023년</td>\n",
       "      <td>한지원</td>\n",
       "      <td>윤아영 | 송하림</td>\n",
       "      <td>https://www.kobis.or.kr/common/mast/movie/2023...</td>\n",
       "      <td>\"서로의 몸은 차라리 꽃잎과 물결에 가까웠다\"\\r\\n갈색 눈동자를 가진 평범한 학생...</td>\n",
       "      <td>장편</td>\n",
       "      <td>예술,독립 영화</td>\n",
       "      <td>애니메이션 드라마 멜로/로맨스</td>\n",
       "      <td>한국</td>\n",
       "      <td>60분 57초</td>\n",
       "      <td>12세이상관람가</td>\n",
       "      <td>서로 몸 차라리 꽃잎 물결 가까웠다 갈색 눈동자 가진 평범한 학생 이경 여름 햇살 ...</td>\n",
       "    </tr>\n",
       "  </tbody>\n",
       "</table>\n",
       "</div>"
      ],
      "text/plain": [
       "       code              title     genre  \\\n",
       "0  20231523  그 여름 (The Summer)  애니메이션(2)   \n",
       "\n",
       "                                           summering   first_day  \\\n",
       "0  장편 | 예술,독립 영화 | 애니메이션, 드라마, 멜로/로맨스 | 60분 57초 |...  2023-06-07   \n",
       "\n",
       "  production_year movie_director star_actor  \\\n",
       "0           2023년            한지원  윤아영 | 송하림   \n",
       "\n",
       "                                                 img  \\\n",
       "0  https://www.kobis.or.kr/common/mast/movie/2023...   \n",
       "\n",
       "                                            synopsis m_type    m_kind  \\\n",
       "0  \"서로의 몸은 차라리 꽃잎과 물결에 가까웠다\"\\r\\n갈색 눈동자를 가진 평범한 학생...     장편  예술,독립 영화   \n",
       "\n",
       "            m_genre m_nation   m_time   m_rated  \\\n",
       "0  애니메이션 드라마 멜로/로맨스       한국  60분 57초  12세이상관람가   \n",
       "\n",
       "                                              morphs  \n",
       "0  서로 몸 차라리 꽃잎 물결 가까웠다 갈색 눈동자 가진 평범한 학생 이경 여름 햇살 ...  "
      ]
     },
     "execution_count": 2,
     "metadata": {},
     "output_type": "execute_result"
    }
   ],
   "source": [
    "df = pd.read_csv('../static/data/movie.csv')\n",
    "df.code = df.code.astype(str)\n",
    "df.fillna('', inplace=True)\n",
    "print(df.shape)\n",
    "df.head(1)"
   ]
  },
  {
   "cell_type": "code",
   "execution_count": null,
   "metadata": {},
   "outputs": [],
   "source": [
    "for txt in df.movie_director:\n",
    "    print(txt)"
   ]
  },
  {
   "cell_type": "code",
   "execution_count": 5,
   "metadata": {},
   "outputs": [
    {
     "data": {
      "text/plain": [
       "'아무게|아무개'"
      ]
     },
     "execution_count": 5,
     "metadata": {},
     "output_type": "execute_result"
    }
   ],
   "source": [
    "movie_code = \"20060151\"\n",
    "movie_director = \"봉준호\"\n",
    "star_actor = \"아무게 | 아무개\".replace(\" | \", \"|\")      # 공백없이 해야 contains를 사용해 찾을 수 있다.\n",
    "star_actor = re.sub(r'\\([^)]*\\)', '', star_actor)      # '(' 시작해서 ')' 로 끝나는 사이의 문자열을 모두 바꾸어 줌\n",
    "star_actor"
   ]
  },
  {
   "cell_type": "code",
   "execution_count": 6,
   "metadata": {},
   "outputs": [
    {
     "data": {
      "text/html": [
       "<div>\n",
       "<style scoped>\n",
       "    .dataframe tbody tr th:only-of-type {\n",
       "        vertical-align: middle;\n",
       "    }\n",
       "\n",
       "    .dataframe tbody tr th {\n",
       "        vertical-align: top;\n",
       "    }\n",
       "\n",
       "    .dataframe thead th {\n",
       "        text-align: right;\n",
       "    }\n",
       "</style>\n",
       "<table border=\"1\" class=\"dataframe\">\n",
       "  <thead>\n",
       "    <tr style=\"text-align: right;\">\n",
       "      <th></th>\n",
       "      <th>code</th>\n",
       "      <th>title</th>\n",
       "      <th>genre</th>\n",
       "      <th>summering</th>\n",
       "      <th>first_day</th>\n",
       "      <th>production_year</th>\n",
       "      <th>movie_director</th>\n",
       "      <th>star_actor</th>\n",
       "      <th>img</th>\n",
       "      <th>synopsis</th>\n",
       "      <th>m_type</th>\n",
       "      <th>m_kind</th>\n",
       "      <th>m_genre</th>\n",
       "      <th>m_nation</th>\n",
       "      <th>m_time</th>\n",
       "      <th>m_rated</th>\n",
       "      <th>morphs</th>\n",
       "    </tr>\n",
       "  </thead>\n",
       "  <tbody>\n",
       "    <tr>\n",
       "      <th>544</th>\n",
       "      <td>20183782</td>\n",
       "      <td>기생충 (PARASITE)</td>\n",
       "      <td>드라마</td>\n",
       "      <td>장편 | 일반영화 | 드라마 | 131분 39초 | 15세이상관람가 | 한국</td>\n",
       "      <td>2019-05-30</td>\n",
       "      <td>2019년</td>\n",
       "      <td>봉준호</td>\n",
       "      <td>송강호(기택) | 이선균(동익) | 조여정(연교) | 최우식(기우) | 박소담(기정...</td>\n",
       "      <td>https://www.kobis.or.kr/common/mast/movie/2019...</td>\n",
       "      <td>“폐 끼치고 싶진 않았어요”\\r\\n\\r\\n전원백수로 살 길 막막하지만 사이는 좋은 ...</td>\n",
       "      <td>장편</td>\n",
       "      <td>일반영화</td>\n",
       "      <td>드라마</td>\n",
       "      <td>한국</td>\n",
       "      <td>131분 39초</td>\n",
       "      <td>15세이상관람가</td>\n",
       "      <td>폐 끼 치고 싶진 않았어요 전 원 백수 로 살 길 막막하지만 사이 좋은 기택 송강호...</td>\n",
       "    </tr>\n",
       "    <tr>\n",
       "      <th>851</th>\n",
       "      <td>20060151</td>\n",
       "      <td>괴물 (The Host)</td>\n",
       "      <td>SF(2)</td>\n",
       "      <td>장편 | 일반영화 | SF, 가족, 드라마 | 119분 0초 | 12세관람가 | 한국</td>\n",
       "      <td>2006-07-27</td>\n",
       "      <td>2006년</td>\n",
       "      <td>봉준호</td>\n",
       "      <td>송강호(강두) | 변희봉(희봉) | 박해일(남일) | 배두나(남주) | 고아성(현서)</td>\n",
       "      <td>https://www.kobis.or.kr/upload/up_img/cleansin...</td>\n",
       "      <td>햇살 가득한 평화로운 한강 둔치아버지(변희봉)가 운영하는 한강매점, 늘어지게 낮잠 ...</td>\n",
       "      <td>장편</td>\n",
       "      <td>일반영화</td>\n",
       "      <td>SF 가족 드라마</td>\n",
       "      <td>한국</td>\n",
       "      <td>119분 0초</td>\n",
       "      <td>12세관람가</td>\n",
       "      <td>햇살 가득한 평화로운 한강 둔치 아버지 변희봉 운영 하는 한강 매점 늘어지게 낮잠 ...</td>\n",
       "    </tr>\n",
       "    <tr>\n",
       "      <th>5007</th>\n",
       "      <td>20030046</td>\n",
       "      <td>살인의 추억 (Memories of Murder)</td>\n",
       "      <td>스릴러</td>\n",
       "      <td>장편 | 일반영화 | 스릴러 | 127분 0초 | 15세관람가 | 한국</td>\n",
       "      <td>2003-04-25</td>\n",
       "      <td>2003년</td>\n",
       "      <td>봉준호</td>\n",
       "      <td>송강호 | 김상경 | 정인선</td>\n",
       "      <td>https://www.kobis.or.kr/upload/up_img/cleansin...</td>\n",
       "      <td>선 보러 집 나갔던 처녀, 배수관서 알몸시체로... 사건 잇다르자 날 저물면 부녀자...</td>\n",
       "      <td>장편</td>\n",
       "      <td>일반영화</td>\n",
       "      <td>스릴러</td>\n",
       "      <td>한국</td>\n",
       "      <td>127분 0초</td>\n",
       "      <td>15세관람가</td>\n",
       "      <td>선 보러 집 나갔던 처녀 배수관 서 알몸 시체 로 사건 잇 다르자 날 저물면 부녀자...</td>\n",
       "    </tr>\n",
       "    <tr>\n",
       "      <th>5134</th>\n",
       "      <td>20126674</td>\n",
       "      <td>설국열차 (Snowpiercer)</td>\n",
       "      <td>SF(1)</td>\n",
       "      <td>장편 | 일반영화 | SF, 액션 | 125분 46초 | 15세이상관람가 | 한국, 체코</td>\n",
       "      <td>2013-08-01</td>\n",
       "      <td>2013년</td>\n",
       "      <td>봉준호</td>\n",
       "      <td>크리스 에반스 | 송강호 | 에드 해리스 | 존 허트 | 틸다 스윈튼 | 제이미 벨...</td>\n",
       "      <td>https://www.kobis.or.kr/common/mast/movie/2013...</td>\n",
       "      <td>1986년 앙굴렘 국제만화제에서 그랑프리를 받은 프랑스 SF만화 '설국 열차'를 영...</td>\n",
       "      <td>장편</td>\n",
       "      <td>일반영화</td>\n",
       "      <td>SF 액션</td>\n",
       "      <td>한국, 체코</td>\n",
       "      <td>125분 46초</td>\n",
       "      <td>15세이상관람가</td>\n",
       "      <td>1986년 앙굴렘 국제 만 화제 에서 그랑프리 받은 프랑스 SF 만화 설국 열차 영...</td>\n",
       "    </tr>\n",
       "  </tbody>\n",
       "</table>\n",
       "</div>"
      ],
      "text/plain": [
       "          code                        title  genre  \\\n",
       "544   20183782               기생충 (PARASITE)    드라마   \n",
       "851   20060151                괴물 (The Host)  SF(2)   \n",
       "5007  20030046  살인의 추억 (Memories of Murder)    스릴러   \n",
       "5134  20126674           설국열차 (Snowpiercer)  SF(1)   \n",
       "\n",
       "                                              summering   first_day  \\\n",
       "544          장편 | 일반영화 | 드라마 | 131분 39초 | 15세이상관람가 | 한국  2019-05-30   \n",
       "851     장편 | 일반영화 | SF, 가족, 드라마 | 119분 0초 | 12세관람가 | 한국  2006-07-27   \n",
       "5007            장편 | 일반영화 | 스릴러 | 127분 0초 | 15세관람가 | 한국  2003-04-25   \n",
       "5134  장편 | 일반영화 | SF, 액션 | 125분 46초 | 15세이상관람가 | 한국, 체코  2013-08-01   \n",
       "\n",
       "     production_year movie_director  \\\n",
       "544            2019년            봉준호   \n",
       "851            2006년            봉준호   \n",
       "5007           2003년            봉준호   \n",
       "5134           2013년            봉준호   \n",
       "\n",
       "                                             star_actor  \\\n",
       "544   송강호(기택) | 이선균(동익) | 조여정(연교) | 최우식(기우) | 박소담(기정...   \n",
       "851     송강호(강두) | 변희봉(희봉) | 박해일(남일) | 배두나(남주) | 고아성(현서)   \n",
       "5007                                    송강호 | 김상경 | 정인선   \n",
       "5134  크리스 에반스 | 송강호 | 에드 해리스 | 존 허트 | 틸다 스윈튼 | 제이미 벨...   \n",
       "\n",
       "                                                    img  \\\n",
       "544   https://www.kobis.or.kr/common/mast/movie/2019...   \n",
       "851   https://www.kobis.or.kr/upload/up_img/cleansin...   \n",
       "5007  https://www.kobis.or.kr/upload/up_img/cleansin...   \n",
       "5134  https://www.kobis.or.kr/common/mast/movie/2013...   \n",
       "\n",
       "                                               synopsis m_type m_kind  \\\n",
       "544   “폐 끼치고 싶진 않았어요”\\r\\n\\r\\n전원백수로 살 길 막막하지만 사이는 좋은 ...     장편   일반영화   \n",
       "851   햇살 가득한 평화로운 한강 둔치아버지(변희봉)가 운영하는 한강매점, 늘어지게 낮잠 ...     장편   일반영화   \n",
       "5007  선 보러 집 나갔던 처녀, 배수관서 알몸시체로... 사건 잇다르자 날 저물면 부녀자...     장편   일반영화   \n",
       "5134  1986년 앙굴렘 국제만화제에서 그랑프리를 받은 프랑스 SF만화 '설국 열차'를 영...     장편   일반영화   \n",
       "\n",
       "        m_genre m_nation    m_time   m_rated  \\\n",
       "544         드라마       한국  131분 39초  15세이상관람가   \n",
       "851   SF 가족 드라마       한국   119분 0초    12세관람가   \n",
       "5007        스릴러       한국   127분 0초    15세관람가   \n",
       "5134      SF 액션   한국, 체코  125분 46초  15세이상관람가   \n",
       "\n",
       "                                                 morphs  \n",
       "544   폐 끼 치고 싶진 않았어요 전 원 백수 로 살 길 막막하지만 사이 좋은 기택 송강호...  \n",
       "851   햇살 가득한 평화로운 한강 둔치 아버지 변희봉 운영 하는 한강 매점 늘어지게 낮잠 ...  \n",
       "5007  선 보러 집 나갔던 처녀 배수관 서 알몸 시체 로 사건 잇 다르자 날 저물면 부녀자...  \n",
       "5134  1986년 앙굴렘 국제 만 화제 에서 그랑프리 받은 프랑스 SF 만화 설국 열차 영...  "
      ]
     },
     "execution_count": 6,
     "metadata": {},
     "output_type": "execute_result"
    }
   ],
   "source": [
    "df[df.movie_director.str.contains(movie_director)]"
   ]
  },
  {
   "cell_type": "code",
   "execution_count": 7,
   "metadata": {},
   "outputs": [
    {
     "data": {
      "text/plain": [
       "'아무게|아무개'"
      ]
     },
     "execution_count": 7,
     "metadata": {},
     "output_type": "execute_result"
    }
   ],
   "source": [
    "star_actor"
   ]
  },
  {
   "cell_type": "code",
   "execution_count": 27,
   "metadata": {},
   "outputs": [
    {
     "data": {
      "text/plain": [
       "[0       True\n",
       " 1       True\n",
       " 2       True\n",
       " 3       True\n",
       " 4       True\n",
       "         ... \n",
       " 2741    True\n",
       " 2742    True\n",
       " 2743    True\n",
       " 2744    True\n",
       " 2745    True\n",
       " Name: star_actor, Length: 2746, dtype: bool]"
      ]
     },
     "execution_count": 27,
     "metadata": {},
     "output_type": "execute_result"
    }
   ],
   "source": [
    "# 빈 문자열이면 True 반환 (주의 필요)\n",
    "[df.star_actor.str.contains(star_actor)]"
   ]
  },
  {
   "cell_type": "code",
   "execution_count": null,
   "metadata": {},
   "outputs": [],
   "source": [
    "indexs = df[df.star_actor.str.contains(star_actor) & (~df.code.str.contains(movie_code))]\n",
    "indexs"
   ]
  },
  {
   "cell_type": "code",
   "execution_count": 44,
   "metadata": {},
   "outputs": [
    {
     "data": {
      "text/plain": [
       "Int64Index([510, 1534], dtype='int64')"
      ]
     },
     "execution_count": 44,
     "metadata": {},
     "output_type": "execute_result"
    }
   ],
   "source": [
    "    \n",
    "choice_indexs = indexs if len(indexs) < 10 else np.random.choice(indexs, 9, replace=False)\n",
    "choice_indexs\n"
   ]
  },
  {
   "cell_type": "code",
   "execution_count": 45,
   "metadata": {},
   "outputs": [
    {
     "data": {
      "text/html": [
       "<div>\n",
       "<style scoped>\n",
       "    .dataframe tbody tr th:only-of-type {\n",
       "        vertical-align: middle;\n",
       "    }\n",
       "\n",
       "    .dataframe tbody tr th {\n",
       "        vertical-align: top;\n",
       "    }\n",
       "\n",
       "    .dataframe thead th {\n",
       "        text-align: right;\n",
       "    }\n",
       "</style>\n",
       "<table border=\"1\" class=\"dataframe\">\n",
       "  <thead>\n",
       "    <tr style=\"text-align: right;\">\n",
       "      <th></th>\n",
       "      <th>code</th>\n",
       "      <th>title</th>\n",
       "      <th>genre</th>\n",
       "      <th>summering</th>\n",
       "      <th>first_day</th>\n",
       "      <th>production_year</th>\n",
       "      <th>movie_director</th>\n",
       "      <th>star_actor</th>\n",
       "      <th>img</th>\n",
       "      <th>synopsis</th>\n",
       "      <th>m_type</th>\n",
       "      <th>m_kind</th>\n",
       "      <th>m_genre</th>\n",
       "      <th>m_nation</th>\n",
       "      <th>m_time</th>\n",
       "      <th>m_rated</th>\n",
       "      <th>morphs</th>\n",
       "    </tr>\n",
       "  </thead>\n",
       "  <tbody>\n",
       "    <tr>\n",
       "      <th>510</th>\n",
       "      <td>20183782</td>\n",
       "      <td>기생충 (PARASITE)</td>\n",
       "      <td>드라마</td>\n",
       "      <td>장편 | 일반영화 | 드라마 | 131분 39초 | 15세이상관람가 | 한국</td>\n",
       "      <td>2019-05-30</td>\n",
       "      <td>2019년</td>\n",
       "      <td>봉준호</td>\n",
       "      <td></td>\n",
       "      <td>https://www.kobis.or.kr/common/mast/movie/2019...</td>\n",
       "      <td>“폐 끼치고 싶진 않았어요”\\r\\n\\r\\n전원백수로 살 길 막막하지만 사이는 좋은 ...</td>\n",
       "      <td>장편</td>\n",
       "      <td>일반영화</td>\n",
       "      <td>드라마</td>\n",
       "      <td>한국</td>\n",
       "      <td>131분 39초</td>\n",
       "      <td>15세이상관람가</td>\n",
       "      <td>폐 끼 치고 싶진 않았어요 전 원 백수 로 살 길 막막하지만 사이 좋은 기택 송강호...</td>\n",
       "    </tr>\n",
       "    <tr>\n",
       "      <th>1534</th>\n",
       "      <td>20090248</td>\n",
       "      <td>마더 (Mother)</td>\n",
       "      <td>드라마</td>\n",
       "      <td>장편 | 일반영화 | 드라마 | 128분 0초 | 청소년관람불가 | 한국</td>\n",
       "      <td>2009-05-28</td>\n",
       "      <td>2009년</td>\n",
       "      <td>봉준호</td>\n",
       "      <td></td>\n",
       "      <td>https://www.kobis.or.kr/upload/up_img/cleansin...</td>\n",
       "      <td>읍내 약재상에서 일하며 아들과 단 둘이 사는 엄마(김혜자 扮). 그녀에게 아들, 도...</td>\n",
       "      <td>장편</td>\n",
       "      <td>일반영화</td>\n",
       "      <td>드라마</td>\n",
       "      <td>한국</td>\n",
       "      <td>128분 0초</td>\n",
       "      <td>청소년관람불가</td>\n",
       "      <td>읍내 약 재상 에서 일 하며 아들 단 둘 사는 엄마 김혜자 扮 그녀 에게 아들 도준...</td>\n",
       "    </tr>\n",
       "  </tbody>\n",
       "</table>\n",
       "</div>"
      ],
      "text/plain": [
       "          code           title genre  \\\n",
       "510   20183782  기생충 (PARASITE)   드라마   \n",
       "1534  20090248     마더 (Mother)   드라마   \n",
       "\n",
       "                                       summering   first_day production_year  \\\n",
       "510   장편 | 일반영화 | 드라마 | 131분 39초 | 15세이상관람가 | 한국  2019-05-30           2019년   \n",
       "1534    장편 | 일반영화 | 드라마 | 128분 0초 | 청소년관람불가 | 한국  2009-05-28           2009년   \n",
       "\n",
       "     movie_director star_actor  \\\n",
       "510             봉준호              \n",
       "1534            봉준호              \n",
       "\n",
       "                                                    img  \\\n",
       "510   https://www.kobis.or.kr/common/mast/movie/2019...   \n",
       "1534  https://www.kobis.or.kr/upload/up_img/cleansin...   \n",
       "\n",
       "                                               synopsis m_type m_kind m_genre  \\\n",
       "510   “폐 끼치고 싶진 않았어요”\\r\\n\\r\\n전원백수로 살 길 막막하지만 사이는 좋은 ...     장편   일반영화     드라마   \n",
       "1534  읍내 약재상에서 일하며 아들과 단 둘이 사는 엄마(김혜자 扮). 그녀에게 아들, 도...     장편   일반영화     드라마   \n",
       "\n",
       "     m_nation    m_time   m_rated  \\\n",
       "510        한국  131분 39초  15세이상관람가   \n",
       "1534       한국   128분 0초   청소년관람불가   \n",
       "\n",
       "                                                 morphs  \n",
       "510   폐 끼 치고 싶진 않았어요 전 원 백수 로 살 길 막막하지만 사이 좋은 기택 송강호...  \n",
       "1534  읍내 약 재상 에서 일 하며 아들 단 둘 사는 엄마 김혜자 扮 그녀 에게 아들 도준...  "
      ]
     },
     "execution_count": 45,
     "metadata": {},
     "output_type": "execute_result"
    }
   ],
   "source": [
    "df.iloc[choice_indexs]"
   ]
  },
  {
   "cell_type": "code",
   "execution_count": 8,
   "metadata": {},
   "outputs": [],
   "source": [
    "import string\n",
    "text = ' '\n",
    "text = re.sub('['+string.punctuation+']', ' ', text).lower()"
   ]
  }
 ],
 "metadata": {
  "kernelspec": {
   "display_name": "base",
   "language": "python",
   "name": "python3"
  },
  "language_info": {
   "codemirror_mode": {
    "name": "ipython",
    "version": 3
   },
   "file_extension": ".py",
   "mimetype": "text/x-python",
   "name": "python",
   "nbconvert_exporter": "python",
   "pygments_lexer": "ipython3",
   "version": "3.9.13"
  },
  "orig_nbformat": 4
 },
 "nbformat": 4,
 "nbformat_minor": 2
}
