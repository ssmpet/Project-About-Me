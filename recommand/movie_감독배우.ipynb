{
 "cells": [
  {
   "cell_type": "code",
   "execution_count": 7,
   "metadata": {},
   "outputs": [],
   "source": [
    "import numpy as np\n",
    "import pandas as pd\n",
    "import re"
   ]
  },
  {
   "cell_type": "code",
   "execution_count": 8,
   "metadata": {},
   "outputs": [
    {
     "name": "stdout",
     "output_type": "stream",
     "text": [
      "(2746, 17)\n"
     ]
    },
    {
     "data": {
      "text/html": [
       "<div>\n",
       "<style scoped>\n",
       "    .dataframe tbody tr th:only-of-type {\n",
       "        vertical-align: middle;\n",
       "    }\n",
       "\n",
       "    .dataframe tbody tr th {\n",
       "        vertical-align: top;\n",
       "    }\n",
       "\n",
       "    .dataframe thead th {\n",
       "        text-align: right;\n",
       "    }\n",
       "</style>\n",
       "<table border=\"1\" class=\"dataframe\">\n",
       "  <thead>\n",
       "    <tr style=\"text-align: right;\">\n",
       "      <th></th>\n",
       "      <th>code</th>\n",
       "      <th>title</th>\n",
       "      <th>genre</th>\n",
       "      <th>summering</th>\n",
       "      <th>first_day</th>\n",
       "      <th>production_year</th>\n",
       "      <th>movie_director</th>\n",
       "      <th>star_actor</th>\n",
       "      <th>img</th>\n",
       "      <th>synopsis</th>\n",
       "      <th>m_type</th>\n",
       "      <th>m_kind</th>\n",
       "      <th>m_genre</th>\n",
       "      <th>m_nation</th>\n",
       "      <th>m_time</th>\n",
       "      <th>m_rated</th>\n",
       "      <th>morphs</th>\n",
       "    </tr>\n",
       "  </thead>\n",
       "  <tbody>\n",
       "    <tr>\n",
       "      <th>0</th>\n",
       "      <td>20210397</td>\n",
       "      <td>가가린 (Gagarine)</td>\n",
       "      <td>SF</td>\n",
       "      <td>장편 | 예술영화 | SF | 97분 57초 | 12세이상관람가 | 프랑스</td>\n",
       "      <td>2022-12-22</td>\n",
       "      <td>2020년</td>\n",
       "      <td>파니 리에타르|제레미 트루일</td>\n",
       "      <td>피네건 올드필드 | 드니 라방 | 알세니 바틸리 | 리나 쿠드리</td>\n",
       "      <td>https://www.kobis.or.kr/common/mast/movie/2022...</td>\n",
       "      <td>가가린 옥상에서 하늘을 보며 우주비행사를 꿈꾸던 10대 소년, 유리.\\n사랑하는 사...</td>\n",
       "      <td>장편</td>\n",
       "      <td>예술영화</td>\n",
       "      <td>SF</td>\n",
       "      <td>프랑스</td>\n",
       "      <td>97분 57초</td>\n",
       "      <td>12세이상관람가</td>\n",
       "      <td>가가린 옥상 에서 하늘 보며 우주비행사 꿈꾸던 10 대 소년 유리 사랑 하는 사람 ...</td>\n",
       "    </tr>\n",
       "  </tbody>\n",
       "</table>\n",
       "</div>"
      ],
      "text/plain": [
       "       code           title genre                                  summering   \n",
       "0  20210397  가가린 (Gagarine)    SF  장편 | 예술영화 | SF | 97분 57초 | 12세이상관람가 | 프랑스  \\\n",
       "\n",
       "    first_day production_year   movie_director   \n",
       "0  2022-12-22           2020년  파니 리에타르|제레미 트루일  \\\n",
       "\n",
       "                            star_actor   \n",
       "0  피네건 올드필드 | 드니 라방 | 알세니 바틸리 | 리나 쿠드리  \\\n",
       "\n",
       "                                                 img   \n",
       "0  https://www.kobis.or.kr/common/mast/movie/2022...  \\\n",
       "\n",
       "                                            synopsis m_type m_kind m_genre   \n",
       "0  가가린 옥상에서 하늘을 보며 우주비행사를 꿈꾸던 10대 소년, 유리.\\n사랑하는 사...     장편   예술영화      SF  \\\n",
       "\n",
       "  m_nation   m_time   m_rated   \n",
       "0      프랑스  97분 57초  12세이상관람가  \\\n",
       "\n",
       "                                              morphs  \n",
       "0  가가린 옥상 에서 하늘 보며 우주비행사 꿈꾸던 10 대 소년 유리 사랑 하는 사람 ...  "
      ]
     },
     "execution_count": 8,
     "metadata": {},
     "output_type": "execute_result"
    }
   ],
   "source": [
    "df = pd.read_csv('../static/data/movie_test.csv')\n",
    "df.code = df.code.astype(str)\n",
    "df.fillna('', inplace=True)\n",
    "print(df.shape)\n",
    "df.head(1)"
   ]
  },
  {
   "cell_type": "code",
   "execution_count": null,
   "metadata": {},
   "outputs": [],
   "source": [
    "for txt in df.movie_director:\n",
    "    print(txt)"
   ]
  },
  {
   "cell_type": "code",
   "execution_count": 17,
   "metadata": {},
   "outputs": [
    {
     "data": {
      "text/plain": [
       "''"
      ]
     },
     "execution_count": 17,
     "metadata": {},
     "output_type": "execute_result"
    }
   ],
   "source": [
    "movie_code = \"20060151\"\n",
    "movie_director = \"봉준호\"\n",
    "star_actor = \"\".replace(\" | \", \"|\")\n",
    "star_actor = re.sub(r'\\([^)]*\\)', '', star_actor)   # '(' 시작해서 ')' 로 끝나는 사이의 문자열을 모두 바꾸어 줌\n",
    "star_actor"
   ]
  },
  {
   "cell_type": "code",
   "execution_count": 11,
   "metadata": {},
   "outputs": [
    {
     "data": {
      "text/html": [
       "<div>\n",
       "<style scoped>\n",
       "    .dataframe tbody tr th:only-of-type {\n",
       "        vertical-align: middle;\n",
       "    }\n",
       "\n",
       "    .dataframe tbody tr th {\n",
       "        vertical-align: top;\n",
       "    }\n",
       "\n",
       "    .dataframe thead th {\n",
       "        text-align: right;\n",
       "    }\n",
       "</style>\n",
       "<table border=\"1\" class=\"dataframe\">\n",
       "  <thead>\n",
       "    <tr style=\"text-align: right;\">\n",
       "      <th></th>\n",
       "      <th>code</th>\n",
       "      <th>title</th>\n",
       "      <th>genre</th>\n",
       "      <th>summering</th>\n",
       "      <th>first_day</th>\n",
       "      <th>production_year</th>\n",
       "      <th>movie_director</th>\n",
       "      <th>star_actor</th>\n",
       "      <th>img</th>\n",
       "      <th>synopsis</th>\n",
       "      <th>m_type</th>\n",
       "      <th>m_kind</th>\n",
       "      <th>m_genre</th>\n",
       "      <th>m_nation</th>\n",
       "      <th>m_time</th>\n",
       "      <th>m_rated</th>\n",
       "      <th>morphs</th>\n",
       "    </tr>\n",
       "  </thead>\n",
       "  <tbody>\n",
       "    <tr>\n",
       "      <th>223</th>\n",
       "      <td>20060151</td>\n",
       "      <td>괴물 (The Host)</td>\n",
       "      <td>SF(2)</td>\n",
       "      <td>장편 | 일반영화 | SF, 가족, 드라마 | 119분 0초 | 12세관람가 | 한국</td>\n",
       "      <td>2006-07-27</td>\n",
       "      <td>2006년</td>\n",
       "      <td>봉준호</td>\n",
       "      <td></td>\n",
       "      <td>https://www.kobis.or.kr/upload/up_img/cleansin...</td>\n",
       "      <td>햇살 가득한 평화로운 한강 둔치아버지(변희봉)가 운영하는 한강매점, 늘어지게 낮잠 ...</td>\n",
       "      <td>장편</td>\n",
       "      <td>일반영화</td>\n",
       "      <td>SF 가족 드라마</td>\n",
       "      <td>한국</td>\n",
       "      <td>119분 0초</td>\n",
       "      <td>12세관람가</td>\n",
       "      <td>햇살 가득한 평화로운 한강 둔치 아버지 변희봉 운영 하는 한강 매점 늘어지게 낮잠 ...</td>\n",
       "    </tr>\n",
       "    <tr>\n",
       "      <th>510</th>\n",
       "      <td>20183782</td>\n",
       "      <td>기생충 (PARASITE)</td>\n",
       "      <td>드라마</td>\n",
       "      <td>장편 | 일반영화 | 드라마 | 131분 39초 | 15세이상관람가 | 한국</td>\n",
       "      <td>2019-05-30</td>\n",
       "      <td>2019년</td>\n",
       "      <td>봉준호</td>\n",
       "      <td></td>\n",
       "      <td>https://www.kobis.or.kr/common/mast/movie/2019...</td>\n",
       "      <td>“폐 끼치고 싶진 않았어요”\\n\\n전원백수로 살 길 막막하지만 사이는 좋은 기택(송...</td>\n",
       "      <td>장편</td>\n",
       "      <td>일반영화</td>\n",
       "      <td>드라마</td>\n",
       "      <td>한국</td>\n",
       "      <td>131분 39초</td>\n",
       "      <td>15세이상관람가</td>\n",
       "      <td>폐 끼 치고 싶진 않았어요 전 원 백수 로 살 길 막막하지만 사이 좋은 기택 송강호...</td>\n",
       "    </tr>\n",
       "    <tr>\n",
       "      <th>1534</th>\n",
       "      <td>20090248</td>\n",
       "      <td>마더 (Mother)</td>\n",
       "      <td>드라마</td>\n",
       "      <td>장편 | 일반영화 | 드라마 | 128분 0초 | 청소년관람불가 | 한국</td>\n",
       "      <td>2009-05-28</td>\n",
       "      <td>2009년</td>\n",
       "      <td>봉준호</td>\n",
       "      <td></td>\n",
       "      <td>https://www.kobis.or.kr/upload/up_img/cleansin...</td>\n",
       "      <td>읍내 약재상에서 일하며 아들과 단 둘이 사는 엄마(김혜자 扮). 그녀에게 아들, 도...</td>\n",
       "      <td>장편</td>\n",
       "      <td>일반영화</td>\n",
       "      <td>드라마</td>\n",
       "      <td>한국</td>\n",
       "      <td>128분 0초</td>\n",
       "      <td>청소년관람불가</td>\n",
       "      <td>읍내 약 재상 에서 일 하며 아들 단 둘 사는 엄마 김혜자 扮 그녀 에게 아들 도준...</td>\n",
       "    </tr>\n",
       "  </tbody>\n",
       "</table>\n",
       "</div>"
      ],
      "text/plain": [
       "          code           title  genre   \n",
       "223   20060151   괴물 (The Host)  SF(2)  \\\n",
       "510   20183782  기생충 (PARASITE)    드라마   \n",
       "1534  20090248     마더 (Mother)    드라마   \n",
       "\n",
       "                                            summering   first_day   \n",
       "223   장편 | 일반영화 | SF, 가족, 드라마 | 119분 0초 | 12세관람가 | 한국  2006-07-27  \\\n",
       "510        장편 | 일반영화 | 드라마 | 131분 39초 | 15세이상관람가 | 한국  2019-05-30   \n",
       "1534         장편 | 일반영화 | 드라마 | 128분 0초 | 청소년관람불가 | 한국  2009-05-28   \n",
       "\n",
       "     production_year movie_director star_actor   \n",
       "223            2006년            봉준호             \\\n",
       "510            2019년            봉준호              \n",
       "1534           2009년            봉준호              \n",
       "\n",
       "                                                    img   \n",
       "223   https://www.kobis.or.kr/upload/up_img/cleansin...  \\\n",
       "510   https://www.kobis.or.kr/common/mast/movie/2019...   \n",
       "1534  https://www.kobis.or.kr/upload/up_img/cleansin...   \n",
       "\n",
       "                                               synopsis m_type m_kind   \n",
       "223   햇살 가득한 평화로운 한강 둔치아버지(변희봉)가 운영하는 한강매점, 늘어지게 낮잠 ...     장편   일반영화  \\\n",
       "510   “폐 끼치고 싶진 않았어요”\\n\\n전원백수로 살 길 막막하지만 사이는 좋은 기택(송...     장편   일반영화   \n",
       "1534  읍내 약재상에서 일하며 아들과 단 둘이 사는 엄마(김혜자 扮). 그녀에게 아들, 도...     장편   일반영화   \n",
       "\n",
       "        m_genre m_nation    m_time   m_rated   \n",
       "223   SF 가족 드라마       한국   119분 0초    12세관람가  \\\n",
       "510         드라마       한국  131분 39초  15세이상관람가   \n",
       "1534        드라마       한국   128분 0초   청소년관람불가   \n",
       "\n",
       "                                                 morphs  \n",
       "223   햇살 가득한 평화로운 한강 둔치 아버지 변희봉 운영 하는 한강 매점 늘어지게 낮잠 ...  \n",
       "510   폐 끼 치고 싶진 않았어요 전 원 백수 로 살 길 막막하지만 사이 좋은 기택 송강호...  \n",
       "1534  읍내 약 재상 에서 일 하며 아들 단 둘 사는 엄마 김혜자 扮 그녀 에게 아들 도준...  "
      ]
     },
     "execution_count": 11,
     "metadata": {},
     "output_type": "execute_result"
    }
   ],
   "source": [
    "df[df.movie_director.str.contains(movie_director)]"
   ]
  },
  {
   "cell_type": "code",
   "execution_count": 28,
   "metadata": {},
   "outputs": [
    {
     "data": {
      "text/plain": [
       "''"
      ]
     },
     "execution_count": 28,
     "metadata": {},
     "output_type": "execute_result"
    }
   ],
   "source": [
    "star_actor"
   ]
  },
  {
   "cell_type": "code",
   "execution_count": 27,
   "metadata": {},
   "outputs": [
    {
     "data": {
      "text/plain": [
       "[0       True\n",
       " 1       True\n",
       " 2       True\n",
       " 3       True\n",
       " 4       True\n",
       "         ... \n",
       " 2741    True\n",
       " 2742    True\n",
       " 2743    True\n",
       " 2744    True\n",
       " 2745    True\n",
       " Name: star_actor, Length: 2746, dtype: bool]"
      ]
     },
     "execution_count": 27,
     "metadata": {},
     "output_type": "execute_result"
    }
   ],
   "source": [
    "# 빈 문자열이면 True 반환 (주의 필요)\n",
    "[df.star_actor.str.contains(star_actor)]"
   ]
  },
  {
   "cell_type": "code",
   "execution_count": null,
   "metadata": {},
   "outputs": [],
   "source": [
    "indexs = df[df.star_actor.str.contains(star_actor) & (~df.code.str.contains(movie_code))]\n",
    "indexs"
   ]
  },
  {
   "cell_type": "code",
   "execution_count": 44,
   "metadata": {},
   "outputs": [
    {
     "data": {
      "text/plain": [
       "Int64Index([510, 1534], dtype='int64')"
      ]
     },
     "execution_count": 44,
     "metadata": {},
     "output_type": "execute_result"
    }
   ],
   "source": [
    "    \n",
    "choice_indexs = indexs if len(indexs) < 10 else np.random.choice(indexs, 9, replace=False)\n",
    "choice_indexs\n"
   ]
  },
  {
   "cell_type": "code",
   "execution_count": 45,
   "metadata": {},
   "outputs": [
    {
     "data": {
      "text/html": [
       "<div>\n",
       "<style scoped>\n",
       "    .dataframe tbody tr th:only-of-type {\n",
       "        vertical-align: middle;\n",
       "    }\n",
       "\n",
       "    .dataframe tbody tr th {\n",
       "        vertical-align: top;\n",
       "    }\n",
       "\n",
       "    .dataframe thead th {\n",
       "        text-align: right;\n",
       "    }\n",
       "</style>\n",
       "<table border=\"1\" class=\"dataframe\">\n",
       "  <thead>\n",
       "    <tr style=\"text-align: right;\">\n",
       "      <th></th>\n",
       "      <th>code</th>\n",
       "      <th>title</th>\n",
       "      <th>genre</th>\n",
       "      <th>summering</th>\n",
       "      <th>first_day</th>\n",
       "      <th>production_year</th>\n",
       "      <th>movie_director</th>\n",
       "      <th>star_actor</th>\n",
       "      <th>img</th>\n",
       "      <th>synopsis</th>\n",
       "      <th>m_type</th>\n",
       "      <th>m_kind</th>\n",
       "      <th>m_genre</th>\n",
       "      <th>m_nation</th>\n",
       "      <th>m_time</th>\n",
       "      <th>m_rated</th>\n",
       "      <th>morphs</th>\n",
       "    </tr>\n",
       "  </thead>\n",
       "  <tbody>\n",
       "    <tr>\n",
       "      <th>510</th>\n",
       "      <td>20183782</td>\n",
       "      <td>기생충 (PARASITE)</td>\n",
       "      <td>드라마</td>\n",
       "      <td>장편 | 일반영화 | 드라마 | 131분 39초 | 15세이상관람가 | 한국</td>\n",
       "      <td>2019-05-30</td>\n",
       "      <td>2019년</td>\n",
       "      <td>봉준호</td>\n",
       "      <td></td>\n",
       "      <td>https://www.kobis.or.kr/common/mast/movie/2019...</td>\n",
       "      <td>“폐 끼치고 싶진 않았어요”\\r\\n\\r\\n전원백수로 살 길 막막하지만 사이는 좋은 ...</td>\n",
       "      <td>장편</td>\n",
       "      <td>일반영화</td>\n",
       "      <td>드라마</td>\n",
       "      <td>한국</td>\n",
       "      <td>131분 39초</td>\n",
       "      <td>15세이상관람가</td>\n",
       "      <td>폐 끼 치고 싶진 않았어요 전 원 백수 로 살 길 막막하지만 사이 좋은 기택 송강호...</td>\n",
       "    </tr>\n",
       "    <tr>\n",
       "      <th>1534</th>\n",
       "      <td>20090248</td>\n",
       "      <td>마더 (Mother)</td>\n",
       "      <td>드라마</td>\n",
       "      <td>장편 | 일반영화 | 드라마 | 128분 0초 | 청소년관람불가 | 한국</td>\n",
       "      <td>2009-05-28</td>\n",
       "      <td>2009년</td>\n",
       "      <td>봉준호</td>\n",
       "      <td></td>\n",
       "      <td>https://www.kobis.or.kr/upload/up_img/cleansin...</td>\n",
       "      <td>읍내 약재상에서 일하며 아들과 단 둘이 사는 엄마(김혜자 扮). 그녀에게 아들, 도...</td>\n",
       "      <td>장편</td>\n",
       "      <td>일반영화</td>\n",
       "      <td>드라마</td>\n",
       "      <td>한국</td>\n",
       "      <td>128분 0초</td>\n",
       "      <td>청소년관람불가</td>\n",
       "      <td>읍내 약 재상 에서 일 하며 아들 단 둘 사는 엄마 김혜자 扮 그녀 에게 아들 도준...</td>\n",
       "    </tr>\n",
       "  </tbody>\n",
       "</table>\n",
       "</div>"
      ],
      "text/plain": [
       "          code           title genre  \\\n",
       "510   20183782  기생충 (PARASITE)   드라마   \n",
       "1534  20090248     마더 (Mother)   드라마   \n",
       "\n",
       "                                       summering   first_day production_year  \\\n",
       "510   장편 | 일반영화 | 드라마 | 131분 39초 | 15세이상관람가 | 한국  2019-05-30           2019년   \n",
       "1534    장편 | 일반영화 | 드라마 | 128분 0초 | 청소년관람불가 | 한국  2009-05-28           2009년   \n",
       "\n",
       "     movie_director star_actor  \\\n",
       "510             봉준호              \n",
       "1534            봉준호              \n",
       "\n",
       "                                                    img  \\\n",
       "510   https://www.kobis.or.kr/common/mast/movie/2019...   \n",
       "1534  https://www.kobis.or.kr/upload/up_img/cleansin...   \n",
       "\n",
       "                                               synopsis m_type m_kind m_genre  \\\n",
       "510   “폐 끼치고 싶진 않았어요”\\r\\n\\r\\n전원백수로 살 길 막막하지만 사이는 좋은 ...     장편   일반영화     드라마   \n",
       "1534  읍내 약재상에서 일하며 아들과 단 둘이 사는 엄마(김혜자 扮). 그녀에게 아들, 도...     장편   일반영화     드라마   \n",
       "\n",
       "     m_nation    m_time   m_rated  \\\n",
       "510        한국  131분 39초  15세이상관람가   \n",
       "1534       한국   128분 0초   청소년관람불가   \n",
       "\n",
       "                                                 morphs  \n",
       "510   폐 끼 치고 싶진 않았어요 전 원 백수 로 살 길 막막하지만 사이 좋은 기택 송강호...  \n",
       "1534  읍내 약 재상 에서 일 하며 아들 단 둘 사는 엄마 김혜자 扮 그녀 에게 아들 도준...  "
      ]
     },
     "execution_count": 45,
     "metadata": {},
     "output_type": "execute_result"
    }
   ],
   "source": [
    "df.iloc[choice_indexs]"
   ]
  }
 ],
 "metadata": {
  "kernelspec": {
   "display_name": "base",
   "language": "python",
   "name": "python3"
  },
  "language_info": {
   "codemirror_mode": {
    "name": "ipython",
    "version": 3
   },
   "file_extension": ".py",
   "mimetype": "text/x-python",
   "name": "python",
   "nbconvert_exporter": "python",
   "pygments_lexer": "ipython3",
   "version": "3.10.10"
  },
  "orig_nbformat": 4
 },
 "nbformat": 4,
 "nbformat_minor": 2
}
