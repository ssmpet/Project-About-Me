{
 "cells": [
  {
   "cell_type": "code",
   "execution_count": 6,
   "metadata": {},
   "outputs": [],
   "source": [
    "import numpy as np\n",
    "import pandas as pd"
   ]
  },
  {
   "cell_type": "code",
   "execution_count": 7,
   "metadata": {},
   "outputs": [
    {
     "name": "stdout",
     "output_type": "stream",
     "text": [
      "(1964, 17)\n"
     ]
    },
    {
     "data": {
      "text/html": [
       "<div>\n",
       "<style scoped>\n",
       "    .dataframe tbody tr th:only-of-type {\n",
       "        vertical-align: middle;\n",
       "    }\n",
       "\n",
       "    .dataframe tbody tr th {\n",
       "        vertical-align: top;\n",
       "    }\n",
       "\n",
       "    .dataframe thead th {\n",
       "        text-align: right;\n",
       "    }\n",
       "</style>\n",
       "<table border=\"1\" class=\"dataframe\">\n",
       "  <thead>\n",
       "    <tr style=\"text-align: right;\">\n",
       "      <th></th>\n",
       "      <th>code</th>\n",
       "      <th>title</th>\n",
       "      <th>genre</th>\n",
       "      <th>summering</th>\n",
       "      <th>first_day</th>\n",
       "      <th>production_year</th>\n",
       "      <th>movie_director</th>\n",
       "      <th>star_actor</th>\n",
       "      <th>img</th>\n",
       "      <th>synopsis</th>\n",
       "      <th>m_type</th>\n",
       "      <th>m_kind</th>\n",
       "      <th>m_genre</th>\n",
       "      <th>m_nation</th>\n",
       "      <th>m_time</th>\n",
       "      <th>m_rated</th>\n",
       "      <th>morphs</th>\n",
       "    </tr>\n",
       "  </thead>\n",
       "  <tbody>\n",
       "    <tr>\n",
       "      <th>0</th>\n",
       "      <td>20210397</td>\n",
       "      <td>가가린 (Gagarine)</td>\n",
       "      <td>SF</td>\n",
       "      <td>장편 | 예술영화 | SF | 97분 57초 | 12세이상관람가 | 프랑스</td>\n",
       "      <td>2022-12-22</td>\n",
       "      <td>2020년</td>\n",
       "      <td>파니 리에타르|제레미 트루일</td>\n",
       "      <td>피네건 올드필드 | 드니 라방 | 알세니 바틸리 | 리나 쿠드리</td>\n",
       "      <td>https://www.kobis.or.kr/common/mast/movie/2022...</td>\n",
       "      <td>가가린 옥상에서 하늘을 보며 우주비행사를 꿈꾸던 10대 소년, 유리.\\n사랑하는 사...</td>\n",
       "      <td>장편</td>\n",
       "      <td>예술영화</td>\n",
       "      <td>SF</td>\n",
       "      <td>프랑스</td>\n",
       "      <td>97분 57초</td>\n",
       "      <td>12세이상관람가</td>\n",
       "      <td>가가린 옥상 에서 하늘 보며 우주비행사 꿈꾸던 10 대 소년 유리 사랑 하는 사람 ...</td>\n",
       "    </tr>\n",
       "  </tbody>\n",
       "</table>\n",
       "</div>"
      ],
      "text/plain": [
       "       code           title genre                                  summering   \n",
       "0  20210397  가가린 (Gagarine)    SF  장편 | 예술영화 | SF | 97분 57초 | 12세이상관람가 | 프랑스  \\\n",
       "\n",
       "    first_day production_year   movie_director   \n",
       "0  2022-12-22           2020년  파니 리에타르|제레미 트루일  \\\n",
       "\n",
       "                            star_actor   \n",
       "0  피네건 올드필드 | 드니 라방 | 알세니 바틸리 | 리나 쿠드리  \\\n",
       "\n",
       "                                                 img   \n",
       "0  https://www.kobis.or.kr/common/mast/movie/2022...  \\\n",
       "\n",
       "                                            synopsis m_type m_kind m_genre   \n",
       "0  가가린 옥상에서 하늘을 보며 우주비행사를 꿈꾸던 10대 소년, 유리.\\n사랑하는 사...     장편   예술영화      SF  \\\n",
       "\n",
       "  m_nation   m_time   m_rated   \n",
       "0      프랑스  97분 57초  12세이상관람가  \\\n",
       "\n",
       "                                              morphs  \n",
       "0  가가린 옥상 에서 하늘 보며 우주비행사 꿈꾸던 10 대 소년 유리 사랑 하는 사람 ...  "
      ]
     },
     "execution_count": 7,
     "metadata": {},
     "output_type": "execute_result"
    }
   ],
   "source": [
    "df = pd.read_csv('../static/data/movie_test.csv')\n",
    "df.fillna('', inplace=True)\n",
    "print(df.shape)\n",
    "df.head(1)"
   ]
  },
  {
   "cell_type": "code",
   "execution_count": 8,
   "metadata": {},
   "outputs": [],
   "source": [
    "df['total'] = df.morphs + (' ' + df.m_genre) * 3 + (' ' + df.movie_director) * 2 + (' ' + df.star_actor) * 2"
   ]
  },
  {
   "cell_type": "code",
   "execution_count": 9,
   "metadata": {},
   "outputs": [
    {
     "data": {
      "text/plain": [
       "(1964, 27791)"
      ]
     },
     "execution_count": 9,
     "metadata": {},
     "output_type": "execute_result"
    }
   ],
   "source": [
    "from sklearn.feature_extraction.text import TfidfVectorizer\n",
    "tvect = TfidfVectorizer(stop_words='english')\n",
    "total_tv = tvect.fit_transform(df.total)\n",
    "total_tv.shape"
   ]
  },
  {
   "cell_type": "code",
   "execution_count": 10,
   "metadata": {},
   "outputs": [
    {
     "data": {
      "text/plain": [
       "(1964, 27791)"
      ]
     },
     "execution_count": 10,
     "metadata": {},
     "output_type": "execute_result"
    }
   ],
   "source": [
    "from sklearn.feature_extraction.text import CountVectorizer\n",
    "cvect = CountVectorizer(stop_words='english')\n",
    "total_cv = cvect.fit_transform(df.total)\n",
    "total_cv.shape"
   ]
  },
  {
   "cell_type": "code",
   "execution_count": 11,
   "metadata": {},
   "outputs": [],
   "source": [
    "indices = pd.Series(df.index, index=df.code)"
   ]
  },
  {
   "cell_type": "code",
   "execution_count": 12,
   "metadata": {},
   "outputs": [
    {
     "data": {
      "text/plain": [
       "(1964, 1964)"
      ]
     },
     "execution_count": 12,
     "metadata": {},
     "output_type": "execute_result"
    }
   ],
   "source": [
    "from sklearn.metrics.pairwise import cosine_similarity\n",
    "cosine_sim = cosine_similarity(total_tv)\n",
    "cosine_sim.shape"
   ]
  },
  {
   "cell_type": "code",
   "execution_count": 13,
   "metadata": {},
   "outputs": [
    {
     "data": {
      "text/plain": [
       "(1964, 1964)"
      ]
     },
     "execution_count": 13,
     "metadata": {},
     "output_type": "execute_result"
    }
   ],
   "source": [
    "cosine_sim_cv = cosine_similarity(total_cv)\n",
    "cosine_sim_cv.shape"
   ]
  },
  {
   "cell_type": "code",
   "execution_count": 14,
   "metadata": {},
   "outputs": [],
   "source": [
    "def get_recommendation(code, cos_sim):\n",
    "    index = indices[code]\n",
    "    sim_scores = pd.Series(cos_sim[index])\n",
    "    movie_indices = sim_scores.sort_values(ascending=False).head(11).tail(10).index\n",
    "    return df.code.iloc[movie_indices], df.title.iloc[movie_indices]"
   ]
  },
  {
   "cell_type": "code",
   "execution_count": 15,
   "metadata": {},
   "outputs": [
    {
     "data": {
      "text/plain": [
       "(1964, 1964)"
      ]
     },
     "execution_count": 15,
     "metadata": {},
     "output_type": "execute_result"
    }
   ],
   "source": [
    "from sklearn.metrics.pairwise import linear_kernel\n",
    "cosine_sim_total = linear_kernel(total_tv, total_tv)\n",
    "cosine_sim_total.shape"
   ]
  },
  {
   "cell_type": "code",
   "execution_count": 17,
   "metadata": {},
   "outputs": [
    {
     "data": {
      "text/plain": [
       "(1964, 1964)"
      ]
     },
     "execution_count": 17,
     "metadata": {},
     "output_type": "execute_result"
    }
   ],
   "source": [
    "from sklearn.metrics.pairwise import linear_kernel\n",
    "cosine_sim_total_cv = linear_kernel(total_cv, total_cv)\n",
    "cosine_sim_total_cv.shape"
   ]
  },
  {
   "cell_type": "code",
   "execution_count": 19,
   "metadata": {},
   "outputs": [
    {
     "data": {
      "text/plain": [
       "0       20210397\n",
       "1       20209771\n",
       "2       20192817\n",
       "3       20163603\n",
       "4       20231496\n",
       "          ...   \n",
       "1959    20218541\n",
       "1960    20070115\n",
       "1961    20112018\n",
       "1962    20159646\n",
       "1963    20100076\n",
       "Name: code, Length: 1964, dtype: object"
      ]
     },
     "execution_count": 19,
     "metadata": {},
     "output_type": "execute_result"
    }
   ],
   "source": [
    "df.code"
   ]
  },
  {
   "cell_type": "code",
   "execution_count": 26,
   "metadata": {},
   "outputs": [],
   "source": [
    "code = \"20112018\""
   ]
  },
  {
   "cell_type": "code",
   "execution_count": 27,
   "metadata": {},
   "outputs": [
    {
     "data": {
      "text/plain": [
       "(984     20223268\n",
       " 615     20200627\n",
       " 312     20147527\n",
       " 42      20080513\n",
       " 866     20228854\n",
       " 1423    20198291\n",
       " 74      20231009\n",
       " 1081    20205001\n",
       " 27      20208616\n",
       " 536     20227066\n",
       " Name: code, dtype: object,\n",
       " 984                        더 컨테이젼: 바이러스의 습격 (The Leakers)\n",
       " 615                             나의 끝, 당신의 시작 (Relativity)\n",
       " 312     그날 본 꽃의 이름을 우리는 아직 모른다 (Anohana: The Flower We...\n",
       " 42                     갓파 쿠와 여름방학을 (Summer Days With Coo)\n",
       " 866                              단청낭자 (Dan Qing Xiao Jie)\n",
       " 1423                                      로켓맨 (Rocketman)\n",
       " 74                거울 속 외딴 성 (Lonely Castle in the Mirror)\n",
       " 1081                           도망친 여자 (The Woman Who Ran)\n",
       " 27                                                    간이역\n",
       " 536                                           깐부(코로나방학소동)\n",
       " Name: title, dtype: object)"
      ]
     },
     "execution_count": 27,
     "metadata": {},
     "output_type": "execute_result"
    }
   ],
   "source": [
    "get_recommendation(code, cosine_sim_cv)"
   ]
  },
  {
   "cell_type": "code",
   "execution_count": 28,
   "metadata": {},
   "outputs": [
    {
     "data": {
      "text/plain": [
       "(984     20223268\n",
       " 258     20217573\n",
       " 866     20228854\n",
       " 521     20212281\n",
       " 74      20231009\n",
       " 504     20211305\n",
       " 746     20194967\n",
       " 603     20175587\n",
       " 1515    20217675\n",
       " 503     20218763\n",
       " Name: code, dtype: object,\n",
       " 984               더 컨테이젼: 바이러스의 습격 (The Leakers)\n",
       " 258          굴뚝마을의 푸펠 (Poupelle of Chimney Town)\n",
       " 866                     단청낭자 (Dan Qing Xiao Jie)\n",
       " 521                                         긴 하루\n",
       " 74       거울 속 외딴 성 (Lonely Castle in the Mirror)\n",
       " 504                             기문환생 (My Lord 1)\n",
       " 746                        네레우스: 바다의 괴물 (Nereus)\n",
       " 603                        나비잠 (Butterfly Sleep)\n",
       " 1515    링: 더 라스트 챕터 (The Perilous Internet Ring)\n",
       " 503                          기문마계 (The Dark War)\n",
       " Name: title, dtype: object)"
      ]
     },
     "execution_count": 28,
     "metadata": {},
     "output_type": "execute_result"
    }
   ],
   "source": [
    "get_recommendation(code, cosine_sim)"
   ]
  },
  {
   "cell_type": "code",
   "execution_count": 29,
   "metadata": {},
   "outputs": [
    {
     "data": {
      "text/plain": [
       "984     0.115193\n",
       "258     0.114856\n",
       "866     0.102914\n",
       "521     0.101608\n",
       "74      0.096968\n",
       "504     0.096827\n",
       "746     0.093273\n",
       "603     0.092870\n",
       "1515    0.088050\n",
       "dtype: float64"
      ]
     },
     "execution_count": 29,
     "metadata": {},
     "output_type": "execute_result"
    }
   ],
   "source": [
    "# for code in df.code.values:\n",
    "sim_scores = pd.Series(cosine_sim[indices[code]])\n",
    "score = sim_scores.sort_values(ascending=False).head(10).tail(9)\n",
    "score"
   ]
  },
  {
   "cell_type": "code",
   "execution_count": 30,
   "metadata": {},
   "outputs": [
    {
     "data": {
      "text/plain": [
       "984     0.283509\n",
       "615     0.268526\n",
       "312     0.259926\n",
       "42      0.251488\n",
       "866     0.248669\n",
       "1423    0.243087\n",
       "74      0.240014\n",
       "1081    0.235070\n",
       "27      0.233760\n",
       "dtype: float64"
      ]
     },
     "execution_count": 30,
     "metadata": {},
     "output_type": "execute_result"
    }
   ],
   "source": [
    "sim_scores = pd.Series(cosine_sim_cv[indices[code]])\n",
    "score = sim_scores.sort_values(ascending=False).head(10).tail(9)\n",
    "score"
   ]
  }
 ],
 "metadata": {
  "kernelspec": {
   "display_name": "base",
   "language": "python",
   "name": "python3"
  },
  "language_info": {
   "codemirror_mode": {
    "name": "ipython",
    "version": 3
   },
   "file_extension": ".py",
   "mimetype": "text/x-python",
   "name": "python",
   "nbconvert_exporter": "python",
   "pygments_lexer": "ipython3",
   "version": "3.10.10"
  },
  "orig_nbformat": 4
 },
 "nbformat": 4,
 "nbformat_minor": 2
}
