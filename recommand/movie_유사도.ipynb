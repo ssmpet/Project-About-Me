{
 "cells": [
  {
   "cell_type": "code",
   "execution_count": 2,
   "metadata": {},
   "outputs": [],
   "source": [
    "import numpy as np\n",
    "import pandas as pd\n",
    "import re, string"
   ]
  },
  {
   "attachments": {},
   "cell_type": "markdown",
   "metadata": {},
   "source": [
    "### 유사도 테스트 해보기"
   ]
  },
  {
   "cell_type": "code",
   "execution_count": 3,
   "metadata": {},
   "outputs": [
    {
     "name": "stdout",
     "output_type": "stream",
     "text": [
      "(11270, 17)\n"
     ]
    },
    {
     "data": {
      "text/html": [
       "<div>\n",
       "<style scoped>\n",
       "    .dataframe tbody tr th:only-of-type {\n",
       "        vertical-align: middle;\n",
       "    }\n",
       "\n",
       "    .dataframe tbody tr th {\n",
       "        vertical-align: top;\n",
       "    }\n",
       "\n",
       "    .dataframe thead th {\n",
       "        text-align: right;\n",
       "    }\n",
       "</style>\n",
       "<table border=\"1\" class=\"dataframe\">\n",
       "  <thead>\n",
       "    <tr style=\"text-align: right;\">\n",
       "      <th></th>\n",
       "      <th>code</th>\n",
       "      <th>title</th>\n",
       "      <th>genre</th>\n",
       "      <th>summering</th>\n",
       "      <th>first_day</th>\n",
       "      <th>production_year</th>\n",
       "      <th>movie_director</th>\n",
       "      <th>star_actor</th>\n",
       "      <th>img</th>\n",
       "      <th>synopsis</th>\n",
       "      <th>m_type</th>\n",
       "      <th>m_kind</th>\n",
       "      <th>m_genre</th>\n",
       "      <th>m_nation</th>\n",
       "      <th>m_time</th>\n",
       "      <th>m_rated</th>\n",
       "      <th>morphs</th>\n",
       "    </tr>\n",
       "  </thead>\n",
       "  <tbody>\n",
       "    <tr>\n",
       "      <th>0</th>\n",
       "      <td>20231523</td>\n",
       "      <td>그 여름 (The Summer)</td>\n",
       "      <td>애니메이션(2)</td>\n",
       "      <td>장편 | 예술,독립 영화 | 애니메이션, 드라마, 멜로/로맨스 | 60분 57초 |...</td>\n",
       "      <td>2023-06-07</td>\n",
       "      <td>2023년</td>\n",
       "      <td>한지원</td>\n",
       "      <td>윤아영 | 송하림</td>\n",
       "      <td>https://www.kobis.or.kr/common/mast/movie/2023...</td>\n",
       "      <td>\"서로의 몸은 차라리 꽃잎과 물결에 가까웠다\"\\r\\n갈색 눈동자를 가진 평범한 학생...</td>\n",
       "      <td>장편</td>\n",
       "      <td>예술,독립 영화</td>\n",
       "      <td>애니메이션 드라마 멜로/로맨스</td>\n",
       "      <td>한국</td>\n",
       "      <td>60분 57초</td>\n",
       "      <td>12세이상관람가</td>\n",
       "      <td>서로 몸 차라리 꽃잎 물결 가까웠다 갈색 눈동자 가진 평범한 학생 이경 여름 햇살 ...</td>\n",
       "    </tr>\n",
       "  </tbody>\n",
       "</table>\n",
       "</div>"
      ],
      "text/plain": [
       "       code              title     genre   \n",
       "0  20231523  그 여름 (The Summer)  애니메이션(2)  \\\n",
       "\n",
       "                                           summering   first_day   \n",
       "0  장편 | 예술,독립 영화 | 애니메이션, 드라마, 멜로/로맨스 | 60분 57초 |...  2023-06-07  \\\n",
       "\n",
       "  production_year movie_director star_actor   \n",
       "0           2023년            한지원  윤아영 | 송하림  \\\n",
       "\n",
       "                                                 img   \n",
       "0  https://www.kobis.or.kr/common/mast/movie/2023...  \\\n",
       "\n",
       "                                            synopsis m_type    m_kind   \n",
       "0  \"서로의 몸은 차라리 꽃잎과 물결에 가까웠다\"\\r\\n갈색 눈동자를 가진 평범한 학생...     장편  예술,독립 영화  \\\n",
       "\n",
       "            m_genre m_nation   m_time   m_rated   \n",
       "0  애니메이션 드라마 멜로/로맨스       한국  60분 57초  12세이상관람가  \\\n",
       "\n",
       "                                              morphs  \n",
       "0  서로 몸 차라리 꽃잎 물결 가까웠다 갈색 눈동자 가진 평범한 학생 이경 여름 햇살 ...  "
      ]
     },
     "execution_count": 3,
     "metadata": {},
     "output_type": "execute_result"
    }
   ],
   "source": [
    "df = pd.read_csv('../static/data/movie.csv')\n",
    "df.code = df.code.astype(str)\n",
    "df.fillna('', inplace=True)\n",
    "print(df.shape)\n",
    "df.head(1)"
   ]
  },
  {
   "attachments": {},
   "cell_type": "markdown",
   "metadata": {},
   "source": [
    "##### 1. 형태소 분석 + 제목 + 장르 + 감독 + 배우 로 합쳐서 코사인 유사도 구해보기"
   ]
  },
  {
   "cell_type": "code",
   "execution_count": 4,
   "metadata": {},
   "outputs": [],
   "source": [
    "def clean_text(texts):\n",
    "    clean_text = []\n",
    "    for text in texts:\n",
    "        \n",
    "        text = re.sub(r'\\([^)]*\\)', '', text) \n",
    "        text = re.sub('['+string.punctuation+']', ' ', text).lower()\n",
    "        clean_text.append(text)\n",
    "    \n",
    "    return clean_text"
   ]
  },
  {
   "cell_type": "code",
   "execution_count": 5,
   "metadata": {},
   "outputs": [],
   "source": [
    "# df['total'] = df.morphs + (' ' + df.title) + (' ' + df.m_genre) * 3 + (' ' + df.movie_director) * 2 + (' ' + df.star_actor) * 2\n",
    "df['re_director'] = clean_text(df.movie_director)\n",
    "df['re_actor'] = clean_text(df.star_actor)\n",
    "\n",
    "df['total'] = df.morphs + (' ' + df.title) + (' ' + df.m_genre) * 3 + \\\n",
    "                (' ' + df.re_director) * 2 + (' ' + df.re_actor) * 2"
   ]
  },
  {
   "cell_type": "code",
   "execution_count": 6,
   "metadata": {},
   "outputs": [
    {
     "data": {
      "text/html": [
       "<div>\n",
       "<style scoped>\n",
       "    .dataframe tbody tr th:only-of-type {\n",
       "        vertical-align: middle;\n",
       "    }\n",
       "\n",
       "    .dataframe tbody tr th {\n",
       "        vertical-align: top;\n",
       "    }\n",
       "\n",
       "    .dataframe thead th {\n",
       "        text-align: right;\n",
       "    }\n",
       "</style>\n",
       "<table border=\"1\" class=\"dataframe\">\n",
       "  <thead>\n",
       "    <tr style=\"text-align: right;\">\n",
       "      <th></th>\n",
       "      <th>code</th>\n",
       "      <th>title</th>\n",
       "      <th>genre</th>\n",
       "      <th>summering</th>\n",
       "      <th>first_day</th>\n",
       "      <th>production_year</th>\n",
       "      <th>movie_director</th>\n",
       "      <th>star_actor</th>\n",
       "      <th>img</th>\n",
       "      <th>synopsis</th>\n",
       "      <th>m_type</th>\n",
       "      <th>m_kind</th>\n",
       "      <th>m_genre</th>\n",
       "      <th>m_nation</th>\n",
       "      <th>m_time</th>\n",
       "      <th>m_rated</th>\n",
       "      <th>morphs</th>\n",
       "      <th>re_director</th>\n",
       "      <th>re_actor</th>\n",
       "      <th>total</th>\n",
       "    </tr>\n",
       "  </thead>\n",
       "  <tbody>\n",
       "    <tr>\n",
       "      <th>0</th>\n",
       "      <td>20231523</td>\n",
       "      <td>그 여름 (The Summer)</td>\n",
       "      <td>애니메이션(2)</td>\n",
       "      <td>장편 | 예술,독립 영화 | 애니메이션, 드라마, 멜로/로맨스 | 60분 57초 |...</td>\n",
       "      <td>2023-06-07</td>\n",
       "      <td>2023년</td>\n",
       "      <td>한지원</td>\n",
       "      <td>윤아영 | 송하림</td>\n",
       "      <td>https://www.kobis.or.kr/common/mast/movie/2023...</td>\n",
       "      <td>\"서로의 몸은 차라리 꽃잎과 물결에 가까웠다\"\\r\\n갈색 눈동자를 가진 평범한 학생...</td>\n",
       "      <td>장편</td>\n",
       "      <td>예술,독립 영화</td>\n",
       "      <td>애니메이션 드라마 멜로/로맨스</td>\n",
       "      <td>한국</td>\n",
       "      <td>60분 57초</td>\n",
       "      <td>12세이상관람가</td>\n",
       "      <td>서로 몸 차라리 꽃잎 물결 가까웠다 갈색 눈동자 가진 평범한 학생 이경 여름 햇살 ...</td>\n",
       "      <td>한지원</td>\n",
       "      <td>윤아영   송하림</td>\n",
       "      <td>서로 몸 차라리 꽃잎 물결 가까웠다 갈색 눈동자 가진 평범한 학생 이경 여름 햇살 ...</td>\n",
       "    </tr>\n",
       "  </tbody>\n",
       "</table>\n",
       "</div>"
      ],
      "text/plain": [
       "       code              title     genre   \n",
       "0  20231523  그 여름 (The Summer)  애니메이션(2)  \\\n",
       "\n",
       "                                           summering   first_day   \n",
       "0  장편 | 예술,독립 영화 | 애니메이션, 드라마, 멜로/로맨스 | 60분 57초 |...  2023-06-07  \\\n",
       "\n",
       "  production_year movie_director star_actor   \n",
       "0           2023년            한지원  윤아영 | 송하림  \\\n",
       "\n",
       "                                                 img   \n",
       "0  https://www.kobis.or.kr/common/mast/movie/2023...  \\\n",
       "\n",
       "                                            synopsis m_type    m_kind   \n",
       "0  \"서로의 몸은 차라리 꽃잎과 물결에 가까웠다\"\\r\\n갈색 눈동자를 가진 평범한 학생...     장편  예술,독립 영화  \\\n",
       "\n",
       "            m_genre m_nation   m_time   m_rated   \n",
       "0  애니메이션 드라마 멜로/로맨스       한국  60분 57초  12세이상관람가  \\\n",
       "\n",
       "                                              morphs re_director   re_actor   \n",
       "0  서로 몸 차라리 꽃잎 물결 가까웠다 갈색 눈동자 가진 평범한 학생 이경 여름 햇살 ...         한지원  윤아영   송하림  \\\n",
       "\n",
       "                                               total  \n",
       "0  서로 몸 차라리 꽃잎 물결 가까웠다 갈색 눈동자 가진 평범한 학생 이경 여름 햇살 ...  "
      ]
     },
     "execution_count": 6,
     "metadata": {},
     "output_type": "execute_result"
    }
   ],
   "source": [
    "df.head(1)"
   ]
  },
  {
   "cell_type": "code",
   "execution_count": 7,
   "metadata": {},
   "outputs": [
    {
     "data": {
      "text/plain": [
       "(11270, 83032)"
      ]
     },
     "execution_count": 7,
     "metadata": {},
     "output_type": "execute_result"
    }
   ],
   "source": [
    "# TfidfVectorizer 사용\n",
    "from sklearn.feature_extraction.text import TfidfVectorizer\n",
    "tvect = TfidfVectorizer(stop_words='english')\n",
    "total_tv = tvect.fit_transform(df.total)\n",
    "total_tv.shape"
   ]
  },
  {
   "cell_type": "code",
   "execution_count": 8,
   "metadata": {},
   "outputs": [
    {
     "data": {
      "text/plain": [
       "(11270, 83032)"
      ]
     },
     "execution_count": 8,
     "metadata": {},
     "output_type": "execute_result"
    }
   ],
   "source": [
    "# CountVectorizer 사용\n",
    "from sklearn.feature_extraction.text import CountVectorizer\n",
    "cvect = CountVectorizer(stop_words='english')\n",
    "total_cv = cvect.fit_transform(df.total)\n",
    "total_cv.shape"
   ]
  },
  {
   "cell_type": "code",
   "execution_count": 9,
   "metadata": {},
   "outputs": [],
   "source": [
    "# index화 code값 매칭\n",
    "indices = pd.Series(df.index, index=df.code)"
   ]
  },
  {
   "cell_type": "code",
   "execution_count": 10,
   "metadata": {},
   "outputs": [
    {
     "data": {
      "text/plain": [
       "(11270, 11270)"
      ]
     },
     "execution_count": 10,
     "metadata": {},
     "output_type": "execute_result"
    }
   ],
   "source": [
    "# TfidfVectorizer 의 코사인 유사도\n",
    "from sklearn.metrics.pairwise import cosine_similarity\n",
    "cosine_sim = cosine_similarity(total_tv)\n",
    "cosine_sim.shape"
   ]
  },
  {
   "cell_type": "code",
   "execution_count": 11,
   "metadata": {},
   "outputs": [
    {
     "data": {
      "text/plain": [
       "(11270, 11270)"
      ]
     },
     "execution_count": 11,
     "metadata": {},
     "output_type": "execute_result"
    }
   ],
   "source": [
    "# CountVectorizer 의 코사인 유사도\n",
    "cosine_sim_cv = cosine_similarity(total_cv)\n",
    "cosine_sim_cv.shape"
   ]
  },
  {
   "cell_type": "code",
   "execution_count": 12,
   "metadata": {},
   "outputs": [
    {
     "data": {
      "text/plain": [
       "['../static/data/movie_cosine_sim.sim']"
      ]
     },
     "execution_count": 12,
     "metadata": {},
     "output_type": "execute_result"
    }
   ],
   "source": [
    "# 파일로 저장해서 사용하는 더 빠름\n",
    "import joblib\n",
    "\n",
    "joblib.dump(cosine_sim_cv, '../static/data/movie_cosine_sim.sim')"
   ]
  },
  {
   "cell_type": "code",
   "execution_count": 13,
   "metadata": {},
   "outputs": [],
   "source": [
    "def get_recommendation(code, cos_sim):\n",
    "    index = indices[code]\n",
    "    sim_scores = pd.Series(cos_sim[index])\n",
    "    movie_indices = sim_scores.sort_values(ascending=False).head(11).tail(10).index\n",
    "    return df.code.iloc[movie_indices], df.title.iloc[movie_indices]"
   ]
  },
  {
   "cell_type": "code",
   "execution_count": 14,
   "metadata": {},
   "outputs": [
    {
     "data": {
      "text/plain": [
       "(11270, 11270)"
      ]
     },
     "execution_count": 14,
     "metadata": {},
     "output_type": "execute_result"
    }
   ],
   "source": [
    "# TfidfVectorizer 의 코사인 유사도 %\n",
    "from sklearn.metrics.pairwise import linear_kernel\n",
    "cosine_sim_total = linear_kernel(total_tv, total_tv)\n",
    "cosine_sim_total.shape"
   ]
  },
  {
   "cell_type": "code",
   "execution_count": 15,
   "metadata": {},
   "outputs": [
    {
     "data": {
      "text/plain": [
       "(11270, 11270)"
      ]
     },
     "execution_count": 15,
     "metadata": {},
     "output_type": "execute_result"
    }
   ],
   "source": [
    "# CountVectorizer 의 코사인 유사도 %\n",
    "from sklearn.metrics.pairwise import linear_kernel\n",
    "cosine_sim_total_cv = linear_kernel(total_cv, total_cv)\n",
    "cosine_sim_total_cv.shape"
   ]
  },
  {
   "cell_type": "code",
   "execution_count": 16,
   "metadata": {},
   "outputs": [
    {
     "data": {
      "text/plain": [
       "0        20231523\n",
       "1        20232506\n",
       "2        20232003\n",
       "3        20232570\n",
       "4        20226897\n",
       "           ...   \n",
       "11265    20203281\n",
       "11266    20188682\n",
       "11267    20020049\n",
       "11268    19828097\n",
       "11269    20190105\n",
       "Name: code, Length: 11270, dtype: object"
      ]
     },
     "execution_count": 16,
     "metadata": {},
     "output_type": "execute_result"
    }
   ],
   "source": [
    "df.code"
   ]
  },
  {
   "cell_type": "code",
   "execution_count": 17,
   "metadata": {},
   "outputs": [],
   "source": [
    "code = \"20188682\""
   ]
  },
  {
   "cell_type": "code",
   "execution_count": 18,
   "metadata": {},
   "outputs": [
    {
     "data": {
      "text/plain": [
       "(5684     20205902\n",
       " 6488     20200401\n",
       " 1270     20219246\n",
       " 73       20231043\n",
       " 2639     20216583\n",
       " 10823    20208314\n",
       " 2762     20206806\n",
       " 10678    20192162\n",
       " 6241     20217031\n",
       " 2119     20190532\n",
       " Name: code, dtype: object,\n",
       " 5684                            신과 나: 100일간의 거래 (Homestay)\n",
       " 6488                                 오! 슬프도다 (Alas for Me)\n",
       " 1270     나츠메 우인장: 이시오코시와 수상한 방문자 (Natsume Yujin-cho Ish...\n",
       " 73       골목길 0번지 인격상담소 (Personality Counseling Center a...\n",
       " 2639                                 루시드 드림 (Lucid Dreams)\n",
       " 10823                                         확대 (Blow-Up)\n",
       " 2762                               리멤버: 기억의 살인자 (Remember)\n",
       " 10678        혈관음 (The Bold, the Corrupt and the Beautiful)\n",
       " 6241                                         어브로드 (ABROAD)\n",
       " 2119                          드래곤 빌리지 (Family of Mischief)\n",
       " Name: title, dtype: object)"
      ]
     },
     "execution_count": 18,
     "metadata": {},
     "output_type": "execute_result"
    }
   ],
   "source": [
    "# TfidfVectorizer 의 유사 영화\n",
    "codes, titles = get_recommendation(code, cosine_sim_cv)\n",
    "codes, titles"
   ]
  },
  {
   "cell_type": "code",
   "execution_count": 19,
   "metadata": {},
   "outputs": [
    {
     "data": {
      "text/plain": [
       "(10631    20230138\n",
       " 611      20202442\n",
       " 5684     20205902\n",
       " 5372     20218924\n",
       " 682      20195802\n",
       " 7020     20214813\n",
       " 4288     20231620\n",
       " 5410     20218234\n",
       " 52       20231009\n",
       " 2119     20190532\n",
       " Name: code, dtype: object,\n",
       " 10631                                      하룻밤 (One Night)\n",
       " 611                         극장판 시로바코 (SHIROBAKO The Movie)\n",
       " 5684                            신과 나: 100일간의 거래 (Homestay)\n",
       " 5372                        살인봉황 (The Great Tang Monsters)\n",
       " 682      걸즈 앤 판처 제 63회 전차도 전국 고교생 대회 (Girls und Panzer ...\n",
       " 7020                                음악 (ON-GAKU:Our Sound)\n",
       " 4288              바깥 나라의 소녀 (The Girl from the Other Side)\n",
       " 5410                               산해거수 (KongFu Master Su)\n",
       " 52                 거울 속 외딴 성 (Lonely Castle in the Mirror)\n",
       " 2119                          드래곤 빌리지 (Family of Mischief)\n",
       " Name: title, dtype: object)"
      ]
     },
     "execution_count": 19,
     "metadata": {},
     "output_type": "execute_result"
    }
   ],
   "source": [
    "# CountVectorizer 의 유사 영화\n",
    "get_recommendation(code, cosine_sim)"
   ]
  },
  {
   "cell_type": "code",
   "execution_count": 20,
   "metadata": {},
   "outputs": [
    {
     "data": {
      "text/plain": [
       "10631    0.179551\n",
       "611      0.175426\n",
       "5684     0.145988\n",
       "5372     0.136572\n",
       "682      0.124317\n",
       "7020     0.123337\n",
       "4288     0.122053\n",
       "5410     0.113170\n",
       "52       0.112670\n",
       "dtype: float64"
      ]
     },
     "execution_count": 20,
     "metadata": {},
     "output_type": "execute_result"
    }
   ],
   "source": [
    "# TfidfVectorizer 의 유사 영화 %\n",
    "sim_scores = pd.Series(cosine_sim[indices[code]])\n",
    "score = sim_scores.sort_values(ascending=False).head(10).tail(9)\n",
    "score"
   ]
  },
  {
   "cell_type": "code",
   "execution_count": 21,
   "metadata": {},
   "outputs": [
    {
     "data": {
      "text/plain": [
       "5684     0.320627\n",
       "6488     0.318932\n",
       "1270     0.316054\n",
       "73       0.300364\n",
       "2639     0.292306\n",
       "10823    0.290119\n",
       "2762     0.282865\n",
       "10678    0.281272\n",
       "6241     0.280646\n",
       "dtype: float64"
      ]
     },
     "execution_count": 21,
     "metadata": {},
     "output_type": "execute_result"
    }
   ],
   "source": [
    "# CountVectorizer 의 유사 영화 %\n",
    "sim_scores = pd.Series(cosine_sim_cv[indices[code]])\n",
    "score = sim_scores.sort_values(ascending=False).head(10).tail(9)\n",
    "score"
   ]
  },
  {
   "cell_type": "code",
   "execution_count": 22,
   "metadata": {},
   "outputs": [
    {
     "data": {
      "text/plain": [
       "5684     20205902\n",
       "6488     20200401\n",
       "1270     20219246\n",
       "73       20231043\n",
       "2639     20216583\n",
       "10823    20208314\n",
       "2762     20206806\n",
       "10678    20192162\n",
       "6241     20217031\n",
       "2119     20190532\n",
       "Name: code, dtype: object"
      ]
     },
     "execution_count": 22,
     "metadata": {},
     "output_type": "execute_result"
    }
   ],
   "source": [
    "codes"
   ]
  },
  {
   "cell_type": "code",
   "execution_count": 23,
   "metadata": {},
   "outputs": [
    {
     "data": {
      "text/html": [
       "<div>\n",
       "<style scoped>\n",
       "    .dataframe tbody tr th:only-of-type {\n",
       "        vertical-align: middle;\n",
       "    }\n",
       "\n",
       "    .dataframe tbody tr th {\n",
       "        vertical-align: top;\n",
       "    }\n",
       "\n",
       "    .dataframe thead th {\n",
       "        text-align: right;\n",
       "    }\n",
       "</style>\n",
       "<table border=\"1\" class=\"dataframe\">\n",
       "  <thead>\n",
       "    <tr style=\"text-align: right;\">\n",
       "      <th></th>\n",
       "      <th>title</th>\n",
       "    </tr>\n",
       "  </thead>\n",
       "  <tbody>\n",
       "    <tr>\n",
       "      <th>73</th>\n",
       "      <td>골목길 0번지 인격상담소 (Personality Counseling Center a...</td>\n",
       "    </tr>\n",
       "    <tr>\n",
       "      <th>1270</th>\n",
       "      <td>나츠메 우인장: 이시오코시와 수상한 방문자 (Natsume Yujin-cho Ish...</td>\n",
       "    </tr>\n",
       "    <tr>\n",
       "      <th>2119</th>\n",
       "      <td>드래곤 빌리지 (Family of Mischief)</td>\n",
       "    </tr>\n",
       "    <tr>\n",
       "      <th>2639</th>\n",
       "      <td>루시드 드림 (Lucid Dreams)</td>\n",
       "    </tr>\n",
       "    <tr>\n",
       "      <th>2762</th>\n",
       "      <td>리멤버: 기억의 살인자 (Remember)</td>\n",
       "    </tr>\n",
       "    <tr>\n",
       "      <th>5684</th>\n",
       "      <td>신과 나: 100일간의 거래 (Homestay)</td>\n",
       "    </tr>\n",
       "    <tr>\n",
       "      <th>6241</th>\n",
       "      <td>어브로드 (ABROAD)</td>\n",
       "    </tr>\n",
       "    <tr>\n",
       "      <th>6488</th>\n",
       "      <td>오! 슬프도다 (Alas for Me)</td>\n",
       "    </tr>\n",
       "    <tr>\n",
       "      <th>10678</th>\n",
       "      <td>혈관음 (The Bold, the Corrupt and the Beautiful)</td>\n",
       "    </tr>\n",
       "    <tr>\n",
       "      <th>10823</th>\n",
       "      <td>확대 (Blow-Up)</td>\n",
       "    </tr>\n",
       "  </tbody>\n",
       "</table>\n",
       "</div>"
      ],
      "text/plain": [
       "                                                   title\n",
       "73     골목길 0번지 인격상담소 (Personality Counseling Center a...\n",
       "1270   나츠메 우인장: 이시오코시와 수상한 방문자 (Natsume Yujin-cho Ish...\n",
       "2119                        드래곤 빌리지 (Family of Mischief)\n",
       "2639                               루시드 드림 (Lucid Dreams)\n",
       "2762                             리멤버: 기억의 살인자 (Remember)\n",
       "5684                          신과 나: 100일간의 거래 (Homestay)\n",
       "6241                                       어브로드 (ABROAD)\n",
       "6488                               오! 슬프도다 (Alas for Me)\n",
       "10678      혈관음 (The Bold, the Corrupt and the Beautiful)\n",
       "10823                                       확대 (Blow-Up)"
      ]
     },
     "execution_count": 23,
     "metadata": {},
     "output_type": "execute_result"
    }
   ],
   "source": [
    "df[df.code.isin(codes)][['title']]"
   ]
  },
  {
   "attachments": {},
   "cell_type": "markdown",
   "metadata": {},
   "source": [
    "### 결론 : CountVectorizer 로 유사도 구한 것이 %가 더 좋았음. CountVectorizer로 추천 시스템을 제작"
   ]
  }
 ],
 "metadata": {
  "kernelspec": {
   "display_name": "base",
   "language": "python",
   "name": "python3"
  },
  "language_info": {
   "codemirror_mode": {
    "name": "ipython",
    "version": 3
   },
   "file_extension": ".py",
   "mimetype": "text/x-python",
   "name": "python",
   "nbconvert_exporter": "python",
   "pygments_lexer": "ipython3",
   "version": "3.10.10"
  },
  "orig_nbformat": 4
 },
 "nbformat": 4,
 "nbformat_minor": 2
}
