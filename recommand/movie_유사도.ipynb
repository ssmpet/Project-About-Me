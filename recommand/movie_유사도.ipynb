{
 "cells": [
  {
   "cell_type": "code",
   "execution_count": 1,
   "metadata": {},
   "outputs": [],
   "source": [
    "import numpy as np\n",
    "import pandas as pd"
   ]
  },
  {
   "cell_type": "code",
   "execution_count": 24,
   "metadata": {},
   "outputs": [
    {
     "name": "stdout",
     "output_type": "stream",
     "text": [
      "(2746, 17)\n"
     ]
    },
    {
     "data": {
      "text/html": [
       "<div>\n",
       "<style scoped>\n",
       "    .dataframe tbody tr th:only-of-type {\n",
       "        vertical-align: middle;\n",
       "    }\n",
       "\n",
       "    .dataframe tbody tr th {\n",
       "        vertical-align: top;\n",
       "    }\n",
       "\n",
       "    .dataframe thead th {\n",
       "        text-align: right;\n",
       "    }\n",
       "</style>\n",
       "<table border=\"1\" class=\"dataframe\">\n",
       "  <thead>\n",
       "    <tr style=\"text-align: right;\">\n",
       "      <th></th>\n",
       "      <th>code</th>\n",
       "      <th>title</th>\n",
       "      <th>genre</th>\n",
       "      <th>summering</th>\n",
       "      <th>first_day</th>\n",
       "      <th>production_year</th>\n",
       "      <th>movie_director</th>\n",
       "      <th>star_actor</th>\n",
       "      <th>img</th>\n",
       "      <th>synopsis</th>\n",
       "      <th>m_type</th>\n",
       "      <th>m_kind</th>\n",
       "      <th>m_genre</th>\n",
       "      <th>m_nation</th>\n",
       "      <th>m_time</th>\n",
       "      <th>m_rated</th>\n",
       "      <th>morphs</th>\n",
       "    </tr>\n",
       "  </thead>\n",
       "  <tbody>\n",
       "    <tr>\n",
       "      <th>0</th>\n",
       "      <td>20210397</td>\n",
       "      <td>가가린 (Gagarine)</td>\n",
       "      <td>SF</td>\n",
       "      <td>장편 | 예술영화 | SF | 97분 57초 | 12세이상관람가 | 프랑스</td>\n",
       "      <td>2022-12-22</td>\n",
       "      <td>2020년</td>\n",
       "      <td>파니 리에타르|제레미 트루일</td>\n",
       "      <td>피네건 올드필드 | 드니 라방 | 알세니 바틸리 | 리나 쿠드리</td>\n",
       "      <td>https://www.kobis.or.kr/common/mast/movie/2022...</td>\n",
       "      <td>가가린 옥상에서 하늘을 보며 우주비행사를 꿈꾸던 10대 소년, 유리.\\r\\n사랑하는...</td>\n",
       "      <td>장편</td>\n",
       "      <td>예술영화</td>\n",
       "      <td>SF</td>\n",
       "      <td>프랑스</td>\n",
       "      <td>97분 57초</td>\n",
       "      <td>12세이상관람가</td>\n",
       "      <td>가가린 옥상 에서 하늘 보며 우주비행사 꿈꾸던 10 대 소년 유리 사랑 하는 사람 ...</td>\n",
       "    </tr>\n",
       "  </tbody>\n",
       "</table>\n",
       "</div>"
      ],
      "text/plain": [
       "       code           title genre                                  summering  \\\n",
       "0  20210397  가가린 (Gagarine)    SF  장편 | 예술영화 | SF | 97분 57초 | 12세이상관람가 | 프랑스   \n",
       "\n",
       "    first_day production_year   movie_director  \\\n",
       "0  2022-12-22           2020년  파니 리에타르|제레미 트루일   \n",
       "\n",
       "                            star_actor  \\\n",
       "0  피네건 올드필드 | 드니 라방 | 알세니 바틸리 | 리나 쿠드리   \n",
       "\n",
       "                                                 img  \\\n",
       "0  https://www.kobis.or.kr/common/mast/movie/2022...   \n",
       "\n",
       "                                            synopsis m_type m_kind m_genre  \\\n",
       "0  가가린 옥상에서 하늘을 보며 우주비행사를 꿈꾸던 10대 소년, 유리.\\r\\n사랑하는...     장편   예술영화      SF   \n",
       "\n",
       "  m_nation   m_time   m_rated  \\\n",
       "0      프랑스  97분 57초  12세이상관람가   \n",
       "\n",
       "                                              morphs  \n",
       "0  가가린 옥상 에서 하늘 보며 우주비행사 꿈꾸던 10 대 소년 유리 사랑 하는 사람 ...  "
      ]
     },
     "execution_count": 24,
     "metadata": {},
     "output_type": "execute_result"
    }
   ],
   "source": [
    "df = pd.read_csv('../static/data/movie_test.csv')\n",
    "df.code = df.code.astype(str)\n",
    "df.fillna('', inplace=True)\n",
    "print(df.shape)\n",
    "df.head(1)"
   ]
  },
  {
   "cell_type": "code",
   "execution_count": 25,
   "metadata": {},
   "outputs": [],
   "source": [
    "df['total'] = df.morphs + (' ' + df.title) + (' ' + df.m_genre) * 3 + (' ' + df.movie_director) * 2 + (' ' + df.star_actor) * 2"
   ]
  },
  {
   "cell_type": "code",
   "execution_count": 26,
   "metadata": {},
   "outputs": [
    {
     "data": {
      "text/plain": [
       "(2746, 38694)"
      ]
     },
     "execution_count": 26,
     "metadata": {},
     "output_type": "execute_result"
    }
   ],
   "source": [
    "from sklearn.feature_extraction.text import TfidfVectorizer\n",
    "tvect = TfidfVectorizer(stop_words='english')\n",
    "total_tv = tvect.fit_transform(df.total)\n",
    "total_tv.shape"
   ]
  },
  {
   "cell_type": "code",
   "execution_count": 27,
   "metadata": {},
   "outputs": [
    {
     "data": {
      "text/plain": [
       "(2746, 38694)"
      ]
     },
     "execution_count": 27,
     "metadata": {},
     "output_type": "execute_result"
    }
   ],
   "source": [
    "from sklearn.feature_extraction.text import CountVectorizer\n",
    "cvect = CountVectorizer(stop_words='english')\n",
    "total_cv = cvect.fit_transform(df.total)\n",
    "total_cv.shape"
   ]
  },
  {
   "cell_type": "code",
   "execution_count": 28,
   "metadata": {},
   "outputs": [],
   "source": [
    "indices = pd.Series(df.index, index=df.code)"
   ]
  },
  {
   "cell_type": "code",
   "execution_count": 29,
   "metadata": {},
   "outputs": [
    {
     "data": {
      "text/plain": [
       "(2746, 2746)"
      ]
     },
     "execution_count": 29,
     "metadata": {},
     "output_type": "execute_result"
    }
   ],
   "source": [
    "from sklearn.metrics.pairwise import cosine_similarity\n",
    "cosine_sim = cosine_similarity(total_tv)\n",
    "cosine_sim.shape"
   ]
  },
  {
   "cell_type": "code",
   "execution_count": 30,
   "metadata": {},
   "outputs": [
    {
     "data": {
      "text/plain": [
       "(2746, 2746)"
      ]
     },
     "execution_count": 30,
     "metadata": {},
     "output_type": "execute_result"
    }
   ],
   "source": [
    "cosine_sim_cv = cosine_similarity(total_cv)\n",
    "cosine_sim_cv.shape"
   ]
  },
  {
   "cell_type": "code",
   "execution_count": 31,
   "metadata": {},
   "outputs": [],
   "source": [
    "def get_recommendation(code, cos_sim):\n",
    "    index = indices[code]\n",
    "    sim_scores = pd.Series(cos_sim[index])\n",
    "    movie_indices = sim_scores.sort_values(ascending=False).head(11).tail(10).index\n",
    "    return df.code.iloc[movie_indices], df.title.iloc[movie_indices]"
   ]
  },
  {
   "cell_type": "code",
   "execution_count": 32,
   "metadata": {},
   "outputs": [
    {
     "data": {
      "text/plain": [
       "(2746, 2746)"
      ]
     },
     "execution_count": 32,
     "metadata": {},
     "output_type": "execute_result"
    }
   ],
   "source": [
    "from sklearn.metrics.pairwise import linear_kernel\n",
    "cosine_sim_total = linear_kernel(total_tv, total_tv)\n",
    "cosine_sim_total.shape"
   ]
  },
  {
   "cell_type": "code",
   "execution_count": 33,
   "metadata": {},
   "outputs": [
    {
     "data": {
      "text/plain": [
       "(2746, 2746)"
      ]
     },
     "execution_count": 33,
     "metadata": {},
     "output_type": "execute_result"
    }
   ],
   "source": [
    "from sklearn.metrics.pairwise import linear_kernel\n",
    "cosine_sim_total_cv = linear_kernel(total_cv, total_cv)\n",
    "cosine_sim_total_cv.shape"
   ]
  },
  {
   "cell_type": "code",
   "execution_count": 34,
   "metadata": {},
   "outputs": [
    {
     "data": {
      "text/plain": [
       "0       20210397\n",
       "1       20209771\n",
       "2       20192817\n",
       "3       20163603\n",
       "4       20231496\n",
       "          ...   \n",
       "2741    19980176\n",
       "2742    20227756\n",
       "2743    20207222\n",
       "2744    20188441\n",
       "2745    20194403\n",
       "Name: code, Length: 2746, dtype: object"
      ]
     },
     "execution_count": 34,
     "metadata": {},
     "output_type": "execute_result"
    }
   ],
   "source": [
    "df.code"
   ]
  },
  {
   "cell_type": "code",
   "execution_count": 35,
   "metadata": {},
   "outputs": [],
   "source": [
    "code = \"20112018\""
   ]
  },
  {
   "cell_type": "code",
   "execution_count": 36,
   "metadata": {},
   "outputs": [
    {
     "data": {
      "text/plain": [
       "(984     20223268\n",
       " 615     20200627\n",
       " 312     20147527\n",
       " 42      20080513\n",
       " 1423    20198291\n",
       " 866     20228854\n",
       " 27      20208616\n",
       " 74      20231009\n",
       " 1081    20205001\n",
       " 536     20227066\n",
       " Name: code, dtype: object,\n",
       " 984                        더 컨테이젼: 바이러스의 습격 (The Leakers)\n",
       " 615                             나의 끝, 당신의 시작 (Relativity)\n",
       " 312     그날 본 꽃의 이름을 우리는 아직 모른다 (Anohana: The Flower We...\n",
       " 42                     갓파 쿠와 여름방학을 (Summer Days With Coo)\n",
       " 1423                                      로켓맨 (Rocketman)\n",
       " 866                              단청낭자 (Dan Qing Xiao Jie)\n",
       " 27                                                    간이역\n",
       " 74                거울 속 외딴 성 (Lonely Castle in the Mirror)\n",
       " 1081                           도망친 여자 (The Woman Who Ran)\n",
       " 536                                           깐부(코로나방학소동)\n",
       " Name: title, dtype: object)"
      ]
     },
     "execution_count": 36,
     "metadata": {},
     "output_type": "execute_result"
    }
   ],
   "source": [
    "codes, titles = get_recommendation(code, cosine_sim_cv)\n",
    "codes, titles"
   ]
  },
  {
   "cell_type": "code",
   "execution_count": 37,
   "metadata": {},
   "outputs": [
    {
     "data": {
      "text/plain": [
       "(2186    20181404\n",
       " 258     20217573\n",
       " 984     20223268\n",
       " 521     20212281\n",
       " 2189    20174369\n",
       " 74      20231009\n",
       " 1321    20127526\n",
       " 504     20211305\n",
       " 746     20194967\n",
       " 603     20175587\n",
       " Name: code, dtype: object,\n",
       " 2186    벽 속에 숨은 마법시계 (The house with a clock in its wa...\n",
       " 258                   굴뚝마을의 푸펠 (Poupelle of Chimney Town)\n",
       " 984                        더 컨테이젼: 바이러스의 습격 (The Leakers)\n",
       " 521                                                  긴 하루\n",
       " 2189                           변산 (Sunset in My Hometown)\n",
       " 74                거울 속 외딴 성 (Lonely Castle in the Mirror)\n",
       " 1321                           러시안 소설 (The Russian Novel)\n",
       " 504                                      기문환생 (My Lord 1)\n",
       " 746                                 네레우스: 바다의 괴물 (Nereus)\n",
       " 603                                 나비잠 (Butterfly Sleep)\n",
       " Name: title, dtype: object)"
      ]
     },
     "execution_count": 37,
     "metadata": {},
     "output_type": "execute_result"
    }
   ],
   "source": [
    "get_recommendation(code, cosine_sim)"
   ]
  },
  {
   "cell_type": "code",
   "execution_count": 38,
   "metadata": {},
   "outputs": [
    {
     "data": {
      "text/plain": [
       "2186    0.094314\n",
       "258     0.093134\n",
       "984     0.092703\n",
       "521     0.092205\n",
       "2189    0.091780\n",
       "74      0.089512\n",
       "1321    0.087183\n",
       "504     0.086857\n",
       "746     0.086163\n",
       "dtype: float64"
      ]
     },
     "execution_count": 38,
     "metadata": {},
     "output_type": "execute_result"
    }
   ],
   "source": [
    "# for code in df.code.values:\n",
    "sim_scores = pd.Series(cosine_sim[indices[code]])\n",
    "score = sim_scores.sort_values(ascending=False).head(10).tail(9)\n",
    "score"
   ]
  },
  {
   "cell_type": "code",
   "execution_count": 39,
   "metadata": {},
   "outputs": [
    {
     "data": {
      "text/plain": [
       "984     0.262949\n",
       "615     0.256022\n",
       "312     0.250270\n",
       "42      0.239766\n",
       "1423    0.238476\n",
       "866     0.232574\n",
       "27      0.229989\n",
       "74      0.228408\n",
       "1081    0.223267\n",
       "dtype: float64"
      ]
     },
     "execution_count": 39,
     "metadata": {},
     "output_type": "execute_result"
    }
   ],
   "source": [
    "sim_scores = pd.Series(cosine_sim_cv[indices[code]])\n",
    "score = sim_scores.sort_values(ascending=False).head(10).tail(9)\n",
    "score"
   ]
  },
  {
   "cell_type": "code",
   "execution_count": 40,
   "metadata": {},
   "outputs": [
    {
     "data": {
      "text/plain": [
       "984     20223268\n",
       "615     20200627\n",
       "312     20147527\n",
       "42      20080513\n",
       "1423    20198291\n",
       "866     20228854\n",
       "27      20208616\n",
       "74      20231009\n",
       "1081    20205001\n",
       "536     20227066\n",
       "Name: code, dtype: object"
      ]
     },
     "execution_count": 40,
     "metadata": {},
     "output_type": "execute_result"
    }
   ],
   "source": [
    "codes"
   ]
  },
  {
   "cell_type": "code",
   "execution_count": 41,
   "metadata": {},
   "outputs": [
    {
     "data": {
      "text/html": [
       "<div>\n",
       "<style scoped>\n",
       "    .dataframe tbody tr th:only-of-type {\n",
       "        vertical-align: middle;\n",
       "    }\n",
       "\n",
       "    .dataframe tbody tr th {\n",
       "        vertical-align: top;\n",
       "    }\n",
       "\n",
       "    .dataframe thead th {\n",
       "        text-align: right;\n",
       "    }\n",
       "</style>\n",
       "<table border=\"1\" class=\"dataframe\">\n",
       "  <thead>\n",
       "    <tr style=\"text-align: right;\">\n",
       "      <th></th>\n",
       "      <th>title</th>\n",
       "    </tr>\n",
       "  </thead>\n",
       "  <tbody>\n",
       "    <tr>\n",
       "      <th>27</th>\n",
       "      <td>간이역</td>\n",
       "    </tr>\n",
       "    <tr>\n",
       "      <th>42</th>\n",
       "      <td>갓파 쿠와 여름방학을 (Summer Days With Coo)</td>\n",
       "    </tr>\n",
       "    <tr>\n",
       "      <th>74</th>\n",
       "      <td>거울 속 외딴 성 (Lonely Castle in the Mirror)</td>\n",
       "    </tr>\n",
       "    <tr>\n",
       "      <th>312</th>\n",
       "      <td>그날 본 꽃의 이름을 우리는 아직 모른다 (Anohana: The Flower We...</td>\n",
       "    </tr>\n",
       "    <tr>\n",
       "      <th>536</th>\n",
       "      <td>깐부(코로나방학소동)</td>\n",
       "    </tr>\n",
       "    <tr>\n",
       "      <th>615</th>\n",
       "      <td>나의 끝, 당신의 시작 (Relativity)</td>\n",
       "    </tr>\n",
       "    <tr>\n",
       "      <th>866</th>\n",
       "      <td>단청낭자 (Dan Qing Xiao Jie)</td>\n",
       "    </tr>\n",
       "    <tr>\n",
       "      <th>984</th>\n",
       "      <td>더 컨테이젼: 바이러스의 습격 (The Leakers)</td>\n",
       "    </tr>\n",
       "    <tr>\n",
       "      <th>1081</th>\n",
       "      <td>도망친 여자 (The Woman Who Ran)</td>\n",
       "    </tr>\n",
       "    <tr>\n",
       "      <th>1423</th>\n",
       "      <td>로켓맨 (Rocketman)</td>\n",
       "    </tr>\n",
       "  </tbody>\n",
       "</table>\n",
       "</div>"
      ],
      "text/plain": [
       "                                                  title\n",
       "27                                                  간이역\n",
       "42                   갓파 쿠와 여름방학을 (Summer Days With Coo)\n",
       "74              거울 속 외딴 성 (Lonely Castle in the Mirror)\n",
       "312   그날 본 꽃의 이름을 우리는 아직 모른다 (Anohana: The Flower We...\n",
       "536                                         깐부(코로나방학소동)\n",
       "615                           나의 끝, 당신의 시작 (Relativity)\n",
       "866                            단청낭자 (Dan Qing Xiao Jie)\n",
       "984                      더 컨테이젼: 바이러스의 습격 (The Leakers)\n",
       "1081                         도망친 여자 (The Woman Who Ran)\n",
       "1423                                    로켓맨 (Rocketman)"
      ]
     },
     "execution_count": 41,
     "metadata": {},
     "output_type": "execute_result"
    }
   ],
   "source": [
    "df[df.code.isin(codes)][['title']]"
   ]
  },
  {
   "cell_type": "code",
   "execution_count": null,
   "metadata": {},
   "outputs": [],
   "source": []
  }
 ],
 "metadata": {
  "kernelspec": {
   "display_name": "base",
   "language": "python",
   "name": "python3"
  },
  "language_info": {
   "codemirror_mode": {
    "name": "ipython",
    "version": 3
   },
   "file_extension": ".py",
   "mimetype": "text/x-python",
   "name": "python",
   "nbconvert_exporter": "python",
   "pygments_lexer": "ipython3",
   "version": "3.9.13"
  },
  "orig_nbformat": 4
 },
 "nbformat": 4,
 "nbformat_minor": 2
}
